{
 "cells": [
  {
   "cell_type": "markdown",
   "metadata": {},
   "source": [
    "# Latexify Matplotlib\n",
    "> Towards amazing plots in research papers!\n",
    "\n",
    "- toc: true \n",
    "- badges: true\n",
    "- comments: true\n",
    "- author: Nipun Batra\n",
    "- categories: [visualisation]"
   ]
  },
  {
   "cell_type": "markdown",
   "metadata": {},
   "source": [
    "Every time I would prepare a matplotlib graph for a paper, I would iteratively adjust the figure size, the font size, scaling in LaTeX. This turns to be a tedious process. Fortunately, when along with [Jack](http://www.jack-kelly.com/) and [Oliver](http://www.oliverparson.co.uk/), I was writing our [nilmtk paper](http://arxiv.org/pdf/1404.3878v1.pdf), Jack demonstrated a function to \"latexify\" plots. This function would take care of font sizes and scaling, so that in one go one could generate a plot and stick in LaTeX. In this post I'll illustrate this technique to save all that iterative effort and make plots look nicer."
   ]
  },
  {
   "cell_type": "code",
   "execution_count": 1,
   "metadata": {
    "execution": {
     "iopub.execute_input": "2022-04-10T15:44:55.503605Z",
     "iopub.status.busy": "2022-04-10T15:44:55.503426Z",
     "iopub.status.idle": "2022-04-10T15:44:56.010683Z",
     "shell.execute_reply": "2022-04-10T15:44:56.010212Z",
     "shell.execute_reply.started": "2022-04-10T15:44:55.503557Z"
    },
    "tags": []
   },
   "outputs": [],
   "source": [
    "from pltlatexify import latexify, format_axes\n",
    "# import pltlatexify"
   ]
  },
  {
   "cell_type": "code",
   "execution_count": 2,
   "metadata": {
    "execution": {
     "iopub.execute_input": "2022-04-10T15:44:56.011388Z",
     "iopub.status.busy": "2022-04-10T15:44:56.011306Z",
     "iopub.status.idle": "2022-04-10T15:44:56.013636Z",
     "shell.execute_reply": "2022-04-10T15:44:56.013266Z",
     "shell.execute_reply.started": "2022-04-10T15:44:56.011378Z"
    },
    "tags": []
   },
   "outputs": [],
   "source": [
    "import matplotlib.pyplot as plt\n",
    "import numpy as np\n",
    "import pandas as pd\n",
    "import matplotlib"
   ]
  },
  {
   "cell_type": "code",
   "execution_count": 3,
   "metadata": {
    "execution": {
     "iopub.execute_input": "2022-04-10T15:44:56.488716Z",
     "iopub.status.busy": "2022-04-10T15:44:56.488567Z",
     "iopub.status.idle": "2022-04-10T15:44:56.491184Z",
     "shell.execute_reply": "2022-04-10T15:44:56.490750Z",
     "shell.execute_reply.started": "2022-04-10T15:44:56.488702Z"
    }
   },
   "outputs": [],
   "source": [
    "from math import sqrt\n",
    "SPINE_COLOR = 'gray'"
   ]
  },
  {
   "cell_type": "markdown",
   "metadata": {},
   "source": [
    "The following is the `latexify` function. It allows you to create 2 column or 1 column figures. You may also wish to alter the `height` or `width` of the figure. The default settings are good for most cases.\n",
    "You may also change the parameters such as labelsize and fontsize based on your classfile. For this post, I'll use the following [ACM classfile](http://www.acm.org/sigs/publications/proceedings-templates)."
   ]
  },
  {
   "cell_type": "code",
   "execution_count": null,
   "metadata": {},
   "outputs": [],
   "source": [
    "def latexify(fig_width=None, fig_height=None, columns=1):\n",
    "    \"\"\"Set up matplotlib's RC params for LaTeX plotting.\n",
    "    Call this before plotting a figure.\n",
    "\n",
    "    Parameters\n",
    "    ----------\n",
    "    fig_width : float, optional, inches\n",
    "    fig_height : float,  optional, inches\n",
    "    columns : {1, 2}\n",
    "    \"\"\"\n",
    "\n",
    "    # code adapted from http://www.scipy.org/Cookbook/Matplotlib/LaTeX_Examples\n",
    "\n",
    "    # Width and max height in inches for IEEE journals taken from\n",
    "    # computer.org/cms/Computer.org/Journal%20templates/transactions_art_guide.pdf\n",
    "\n",
    "    assert(columns in [1,2])\n",
    "\n",
    "    if fig_width is None:\n",
    "        fig_width = 3.39 if columns==1 else 6.9 # width in inches\n",
    "\n",
    "    if fig_height is None:\n",
    "        golden_mean = (sqrt(5)-1.0)/2.0    # Aesthetic ratio\n",
    "        fig_height = fig_width*golden_mean # height in inches\n",
    "\n",
    "    MAX_HEIGHT_INCHES = 8.0\n",
    "    if fig_height > MAX_HEIGHT_INCHES:\n",
    "        print(\"WARNING: fig_height too large:\" + fig_height + \n",
    "              \"so will reduce to\" + MAX_HEIGHT_INCHES + \"inches.\")\n",
    "        fig_height = MAX_HEIGHT_INCHES\n",
    "\n",
    "    params = {'backend': 'ps',\n",
    "              'text.latex.preamble': [r'\\usepackage{gensymb}'],\n",
    "              'axes.labelsize': 8, # fontsize for x and y labels (was 10)\n",
    "              'axes.titlesize': 8,\n",
    "              'font.size': 8, # was 10\n",
    "              'legend.fontsize': 8, # was 10\n",
    "              'xtick.labelsize': 8,\n",
    "              'ytick.labelsize': 8,\n",
    "              'text.usetex': True,\n",
    "              'figure.figsize': [fig_width,fig_height],\n",
    "              'font.family': 'serif'\n",
    "    }\n",
    "\n",
    "    matplotlib.rcParams.update(params)\n",
    "\n",
    "\n",
    "def format_axes(ax):\n",
    "\n",
    "    for spine in ['top', 'right']:\n",
    "        ax.spines[spine].set_visible(False)\n",
    "\n",
    "    for spine in ['left', 'bottom']:\n",
    "        ax.spines[spine].set_color(SPINE_COLOR)\n",
    "        ax.spines[spine].set_linewidth(0.5)\n",
    "\n",
    "    ax.xaxis.set_ticks_position('bottom')\n",
    "    ax.yaxis.set_ticks_position('left')\n",
    "\n",
    "    for axis in [ax.xaxis, ax.yaxis]:\n",
    "        axis.set_tick_params(direction='out', color=SPINE_COLOR)\n",
    "\n",
    "    return ax"
   ]
  },
  {
   "cell_type": "code",
   "execution_count": 4,
   "metadata": {
    "execution": {
     "iopub.execute_input": "2022-04-10T15:45:00.878197Z",
     "iopub.status.busy": "2022-04-10T15:45:00.878014Z",
     "iopub.status.idle": "2022-04-10T15:45:00.882582Z",
     "shell.execute_reply": "2022-04-10T15:45:00.882087Z",
     "shell.execute_reply.started": "2022-04-10T15:45:00.878180Z"
    },
    "tags": []
   },
   "outputs": [],
   "source": [
    "%matplotlib inline"
   ]
  },
  {
   "cell_type": "markdown",
   "metadata": {},
   "source": [
    "Let us create a dummy data frame"
   ]
  },
  {
   "cell_type": "code",
   "execution_count": 5,
   "metadata": {
    "execution": {
     "iopub.execute_input": "2022-04-10T15:45:01.416785Z",
     "iopub.status.busy": "2022-04-10T15:45:01.416609Z",
     "iopub.status.idle": "2022-04-10T15:45:01.420229Z",
     "shell.execute_reply": "2022-04-10T15:45:01.419812Z",
     "shell.execute_reply.started": "2022-04-10T15:45:01.416768Z"
    }
   },
   "outputs": [],
   "source": [
    "df = pd.DataFrame(np.random.randn(10,2))\n",
    "df.columns = ['Column 1', 'Column 2']"
   ]
  },
  {
   "cell_type": "code",
   "execution_count": 6,
   "metadata": {
    "execution": {
     "iopub.execute_input": "2022-04-10T15:45:01.592433Z",
     "iopub.status.busy": "2022-04-10T15:45:01.592255Z",
     "iopub.status.idle": "2022-04-10T15:45:01.761495Z",
     "shell.execute_reply": "2022-04-10T15:45:01.761041Z",
     "shell.execute_reply.started": "2022-04-10T15:45:01.592415Z"
    }
   },
   "outputs": [
    {
     "data": {
      "image/png": "[encoded data removed]",
      "text/plain": [
       "<Figure size 432x288 with 1 Axes>"
      ]
     },
     "metadata": {
      "needs_background": "light"
     },
     "output_type": "display_data"
    }
   ],
   "source": [
    "ax = df.plot()\n",
    "ax.set_xlabel(\"X label\")\n",
    "ax.set_ylabel(\"Y label\")\n",
    "ax.set_title(\"Title\")\n",
    "plt.tight_layout()\n",
    "plt.savefig(\"image1.pdf\")"
   ]
  },
  {
   "cell_type": "markdown",
   "metadata": {},
   "source": [
    "Now, let us call the `latexify` function to alter matplotlib parameters suited to our LaTeX classfile."
   ]
  },
  {
   "cell_type": "code",
   "execution_count": 7,
   "metadata": {
    "execution": {
     "iopub.execute_input": "2022-04-10T15:45:03.536941Z",
     "iopub.status.busy": "2022-04-10T15:45:03.536758Z",
     "iopub.status.idle": "2022-04-10T15:45:03.539549Z",
     "shell.execute_reply": "2022-04-10T15:45:03.539199Z",
     "shell.execute_reply.started": "2022-04-10T15:45:03.536923Z"
    }
   },
   "outputs": [],
   "source": [
    "latexify()"
   ]
  },
  {
   "cell_type": "code",
   "execution_count": 8,
   "metadata": {
    "execution": {
     "iopub.execute_input": "2022-04-10T15:45:04.129009Z",
     "iopub.status.busy": "2022-04-10T15:45:04.128831Z",
     "iopub.status.idle": "2022-04-10T15:45:04.376306Z",
     "shell.execute_reply": "2022-04-10T15:45:04.376023Z",
     "shell.execute_reply.started": "2022-04-10T15:45:04.128991Z"
    },
    "tags": []
   },
   "outputs": [
    {
     "data": {
      "image/png": "[encoded data removed]",
      "text/plain": [
       "<Figure size 244.08x150.85 with 1 Axes>"
      ]
     },
     "metadata": {
      "needs_background": "light"
     },
     "output_type": "display_data"
    }
   ],
   "source": [
    "ax = df.plot()\n",
    "ax.set_xlabel(\"X label\")\n",
    "ax.set_ylabel(\"Y label\")\n",
    "ax.set_title(\"Title\")\n",
    "plt.tight_layout()\n",
    "format_axes(ax)\n",
    "plt.savefig(\"image2.pdf\")"
   ]
  },
  {
   "cell_type": "markdown",
   "metadata": {},
   "source": [
    "Let us have a quick look at our latex source file. I have scaled down the plot generated by default matploltib settings by 50%. The next plot which is generated using `latexified` settings doesn't need any scaling."
   ]
  },
  {
   "cell_type": "code",
   "execution_count": 9,
   "metadata": {
    "execution": {
     "iopub.execute_input": "2022-04-10T15:45:05.369242Z",
     "iopub.status.busy": "2022-04-10T15:45:05.369017Z",
     "iopub.status.idle": "2022-04-10T15:45:05.479415Z",
     "shell.execute_reply": "2022-04-10T15:45:05.479010Z",
     "shell.execute_reply.started": "2022-04-10T15:45:05.369216Z"
    }
   },
   "outputs": [
    {
     "name": "stdout",
     "output_type": "stream",
     "text": [
      "\\documentclass{paper}\n",
      "\\usepackage{graphicx}\n",
      "\n",
      "\\title{Python plots for LaTeX}\n",
      "\\begin{document}\n",
      "\\maketitle\n",
      "\\section{Introduction}\n",
      "Some random text out here!\n",
      "\\noindent\n",
      "\n",
      "\\begin{figure}\n",
      "\\centering \\includegraphics[scale=0.5]{image1.pdf}\n",
      "\\caption{Scaled down of the originial matplotlib plot. Now, the text looks very small.}\n",
      "\\label{image1}\n",
      "\\end{figure}\n",
      "\n",
      "\\begin{figure}\n",
      "\\centering \\includegraphics{image2.pdf}\n",
      "\\caption{LaTeXified plot :)}\n",
      "\\label{image2}\n",
      "\\end{figure}\n",
      "\n",
      "\n",
      "\\end{document}"
     ]
    }
   ],
   "source": [
    "! cat 1.tex"
   ]
  },
  {
   "cell_type": "markdown",
   "metadata": {},
   "source": [
    "Finally, let us look at the \"png\" version of our generated pdf."
   ]
  },
  {
   "cell_type": "markdown",
   "metadata": {},
   "source": [
    "![](https://nipunbatra.github.io/blog/images/latexify.png)"
   ]
  },
  {
   "cell_type": "markdown",
   "metadata": {},
   "source": [
    "Clearly, the LaTeXified version is likely to save you a lot of figure tweaking! You don't need to play with different scaling settings. Nor, do you have to play with font sizes and ofcourse not with a combination of these two which can be pretty hard."
   ]
  }
 ],
 "metadata": {
  "kernelspec": {
   "display_name": "Python 3 (ipykernel)",
   "language": "python",
   "name": "python3"
  },
  "language_info": {
   "codemirror_mode": {
    "name": "ipython",
    "version": 3
   },
   "file_extension": ".py",
   "mimetype": "text/x-python",
   "name": "python",
   "nbconvert_exporter": "python",
   "pygments_lexer": "ipython3",
   "version": "3.8.12"
  }
 },
 "nbformat": 4,
 "nbformat_minor": 4
}
