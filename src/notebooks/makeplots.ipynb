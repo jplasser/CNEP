{
 "cells": [
  {
   "cell_type": "code",
   "execution_count": 38,
   "id": "0aec9365-6072-49fd-8ebc-56f4e599a30a",
   "metadata": {
    "execution": {
     "iopub.execute_input": "2022-09-17T08:31:09.744938Z",
     "iopub.status.busy": "2022-09-17T08:31:09.744706Z",
     "iopub.status.idle": "2022-09-17T08:31:09.748176Z",
     "shell.execute_reply": "2022-09-17T08:31:09.747774Z",
     "shell.execute_reply.started": "2022-09-17T08:31:09.744907Z"
    },
    "tags": []
   },
   "outputs": [],
   "source": [
    "import matplotlib.pyplot as plt\n",
    "from matplotlib.patches import Patch\n",
    "from matplotlib import cm\n",
    "import seaborn as sns\n",
    "import pandas as pd\n",
    "import numpy as np\n",
    "from pltlatexify import latexify, format_axes"
   ]
  },
  {
   "cell_type": "code",
   "execution_count": 39,
   "id": "69a0e31c-6879-4cd2-9b33-a972a82c4b62",
   "metadata": {
    "execution": {
     "iopub.execute_input": "2022-09-17T08:31:09.749154Z",
     "iopub.status.busy": "2022-09-17T08:31:09.748999Z",
     "iopub.status.idle": "2022-09-17T08:31:09.756668Z",
     "shell.execute_reply": "2022-09-17T08:31:09.756273Z",
     "shell.execute_reply.started": "2022-09-17T08:31:09.749135Z"
    },
    "tags": []
   },
   "outputs": [],
   "source": [
    "df = pd.read_csv('wandb_export/wandb_export_2022-03-19T20_25_34.798+01_00.csv')"
   ]
  },
  {
   "cell_type": "code",
   "execution_count": 40,
   "id": "250c08fa-b515-48e5-9da4-e04014f10d87",
   "metadata": {
    "execution": {
     "iopub.execute_input": "2022-09-17T08:31:09.757635Z",
     "iopub.status.busy": "2022-09-17T08:31:09.757482Z",
     "iopub.status.idle": "2022-09-17T08:31:09.765145Z",
     "shell.execute_reply": "2022-09-17T08:31:09.764717Z",
     "shell.execute_reply.started": "2022-09-17T08:31:09.757617Z"
    },
    "tags": []
   },
   "outputs": [
    {
     "data": {
      "text/html": [
       "<div>\n",
       "<style scoped>\n",
       "    .dataframe tbody tr th:only-of-type {\n",
       "        vertical-align: middle;\n",
       "    }\n",
       "\n",
       "    .dataframe tbody tr th {\n",
       "        vertical-align: top;\n",
       "    }\n",
       "\n",
       "    .dataframe thead th {\n",
       "        text-align: right;\n",
       "    }\n",
       "</style>\n",
       "<table border=\"1\" class=\"dataframe\">\n",
       "  <thead>\n",
       "    <tr style=\"text-align: right;\">\n",
       "      <th></th>\n",
       "      <th>Name</th>\n",
       "      <th>_wandb</th>\n",
       "      <th>val/text_to_image_R@10</th>\n",
       "      <th>val/image_to_text_R@10</th>\n",
       "    </tr>\n",
       "  </thead>\n",
       "  <tbody>\n",
       "    <tr>\n",
       "      <th>0</th>\n",
       "      <td>BERT_chunked_meanpooler_prepro</td>\n",
       "      <td>NaN</td>\n",
       "      <td>0.342769</td>\n",
       "      <td>0.339676</td>\n",
       "    </tr>\n",
       "    <tr>\n",
       "      <th>1</th>\n",
       "      <td>BERT_chunked_meanpooler</td>\n",
       "      <td>NaN</td>\n",
       "      <td>0.308991</td>\n",
       "      <td>0.313035</td>\n",
       "    </tr>\n",
       "    <tr>\n",
       "      <th>2</th>\n",
       "      <td>BERT_chunked_prepro</td>\n",
       "      <td>NaN</td>\n",
       "      <td>0.229068</td>\n",
       "      <td>0.226451</td>\n",
       "    </tr>\n",
       "    <tr>\n",
       "      <th>3</th>\n",
       "      <td>BERT_meanpooler_prepro</td>\n",
       "      <td>NaN</td>\n",
       "      <td>0.222407</td>\n",
       "      <td>0.218126</td>\n",
       "    </tr>\n",
       "    <tr>\n",
       "      <th>4</th>\n",
       "      <td>BERT_meanpooler</td>\n",
       "      <td>NaN</td>\n",
       "      <td>0.217412</td>\n",
       "      <td>0.222883</td>\n",
       "    </tr>\n",
       "    <tr>\n",
       "      <th>5</th>\n",
       "      <td>BERT_chunked</td>\n",
       "      <td>NaN</td>\n",
       "      <td>0.171741</td>\n",
       "      <td>0.184348</td>\n",
       "    </tr>\n",
       "    <tr>\n",
       "      <th>6</th>\n",
       "      <td>BERT_chunked_pooler_prepro</td>\n",
       "      <td>NaN</td>\n",
       "      <td>0.107755</td>\n",
       "      <td>0.117745</td>\n",
       "    </tr>\n",
       "    <tr>\n",
       "      <th>7</th>\n",
       "      <td>BERT_prepro</td>\n",
       "      <td>NaN</td>\n",
       "      <td>0.091817</td>\n",
       "      <td>0.096337</td>\n",
       "    </tr>\n",
       "    <tr>\n",
       "      <th>8</th>\n",
       "      <td>BERT</td>\n",
       "      <td>NaN</td>\n",
       "      <td>0.085395</td>\n",
       "      <td>0.093720</td>\n",
       "    </tr>\n",
       "    <tr>\n",
       "      <th>9</th>\n",
       "      <td>BERT_chunked_pooler</td>\n",
       "      <td>NaN</td>\n",
       "      <td>0.082065</td>\n",
       "      <td>0.086108</td>\n",
       "    </tr>\n",
       "    <tr>\n",
       "      <th>10</th>\n",
       "      <td>BERT_pooler_prepro</td>\n",
       "      <td>NaN</td>\n",
       "      <td>0.059705</td>\n",
       "      <td>0.071836</td>\n",
       "    </tr>\n",
       "    <tr>\n",
       "      <th>11</th>\n",
       "      <td>BERT_pooler</td>\n",
       "      <td>NaN</td>\n",
       "      <td>0.039486</td>\n",
       "      <td>0.046860</td>\n",
       "    </tr>\n",
       "  </tbody>\n",
       "</table>\n",
       "</div>"
      ],
      "text/plain": [
       "                              Name  _wandb  val/text_to_image_R@10  \\\n",
       "0   BERT_chunked_meanpooler_prepro     NaN                0.342769   \n",
       "1          BERT_chunked_meanpooler     NaN                0.308991   \n",
       "2              BERT_chunked_prepro     NaN                0.229068   \n",
       "3           BERT_meanpooler_prepro     NaN                0.222407   \n",
       "4                  BERT_meanpooler     NaN                0.217412   \n",
       "5                     BERT_chunked     NaN                0.171741   \n",
       "6       BERT_chunked_pooler_prepro     NaN                0.107755   \n",
       "7                      BERT_prepro     NaN                0.091817   \n",
       "8                             BERT     NaN                0.085395   \n",
       "9              BERT_chunked_pooler     NaN                0.082065   \n",
       "10              BERT_pooler_prepro     NaN                0.059705   \n",
       "11                     BERT_pooler     NaN                0.039486   \n",
       "\n",
       "    val/image_to_text_R@10  \n",
       "0                 0.339676  \n",
       "1                 0.313035  \n",
       "2                 0.226451  \n",
       "3                 0.218126  \n",
       "4                 0.222883  \n",
       "5                 0.184348  \n",
       "6                 0.117745  \n",
       "7                 0.096337  \n",
       "8                 0.093720  \n",
       "9                 0.086108  \n",
       "10                0.071836  \n",
       "11                0.046860  "
      ]
     },
     "execution_count": 40,
     "metadata": {},
     "output_type": "execute_result"
    }
   ],
   "source": [
    "df"
   ]
  },
  {
   "cell_type": "code",
   "execution_count": 41,
   "id": "bc3e421a-7d27-45a7-9e4f-0749c80bc74f",
   "metadata": {
    "execution": {
     "iopub.execute_input": "2022-09-17T08:31:09.766015Z",
     "iopub.status.busy": "2022-09-17T08:31:09.765743Z",
     "iopub.status.idle": "2022-09-17T08:31:09.768935Z",
     "shell.execute_reply": "2022-09-17T08:31:09.768496Z",
     "shell.execute_reply.started": "2022-09-17T08:31:09.765995Z"
    },
    "tags": []
   },
   "outputs": [],
   "source": [
    "df.drop(columns=['_wandb'], inplace=True)"
   ]
  },
  {
   "cell_type": "code",
   "execution_count": 42,
   "id": "52ddbb81-9ff7-4831-a55a-d1ee39afdf6a",
   "metadata": {
    "execution": {
     "iopub.execute_input": "2022-09-17T08:31:09.770170Z",
     "iopub.status.busy": "2022-09-17T08:31:09.769908Z",
     "iopub.status.idle": "2022-09-17T08:31:09.773162Z",
     "shell.execute_reply": "2022-09-17T08:31:09.772804Z",
     "shell.execute_reply.started": "2022-09-17T08:31:09.770149Z"
    },
    "tags": []
   },
   "outputs": [
    {
     "data": {
      "text/plain": [
       "Index(['Name', 'val/text_to_image_R@10', 'val/image_to_text_R@10'], dtype='object')"
      ]
     },
     "execution_count": 42,
     "metadata": {},
     "output_type": "execute_result"
    }
   ],
   "source": [
    "df.columns"
   ]
  },
  {
   "cell_type": "code",
   "execution_count": 43,
   "id": "2283f743-5a57-4864-b41c-6a18c22111f4",
   "metadata": {
    "execution": {
     "iopub.execute_input": "2022-09-17T08:31:09.773852Z",
     "iopub.status.busy": "2022-09-17T08:31:09.773710Z",
     "iopub.status.idle": "2022-09-17T08:31:09.776988Z",
     "shell.execute_reply": "2022-09-17T08:31:09.776634Z",
     "shell.execute_reply.started": "2022-09-17T08:31:09.773833Z"
    },
    "tags": []
   },
   "outputs": [],
   "source": [
    "df['metric'] = (df['val/image_to_text_R@10'] + df['val/text_to_image_R@10'])/2"
   ]
  },
  {
   "cell_type": "code",
   "execution_count": 44,
   "id": "3fbafb9a-a614-40b0-b197-d3ca8f010fd4",
   "metadata": {
    "execution": {
     "iopub.execute_input": "2022-09-17T08:31:09.777817Z",
     "iopub.status.busy": "2022-09-17T08:31:09.777584Z",
     "iopub.status.idle": "2022-09-17T08:31:09.780983Z",
     "shell.execute_reply": "2022-09-17T08:31:09.780622Z",
     "shell.execute_reply.started": "2022-09-17T08:31:09.777798Z"
    },
    "tags": []
   },
   "outputs": [],
   "source": [
    "df.drop(columns=['val/image_to_text_R@10', 'val/text_to_image_R@10'], inplace=True)"
   ]
  },
  {
   "cell_type": "code",
   "execution_count": 45,
   "id": "18e860d8-5a30-4441-ad7b-20b63d6f7e36",
   "metadata": {
    "execution": {
     "iopub.execute_input": "2022-09-17T08:31:09.781822Z",
     "iopub.status.busy": "2022-09-17T08:31:09.781623Z",
     "iopub.status.idle": "2022-09-17T08:31:09.787314Z",
     "shell.execute_reply": "2022-09-17T08:31:09.786965Z",
     "shell.execute_reply.started": "2022-09-17T08:31:09.781802Z"
    },
    "tags": []
   },
   "outputs": [
    {
     "data": {
      "text/html": [
       "<div>\n",
       "<style scoped>\n",
       "    .dataframe tbody tr th:only-of-type {\n",
       "        vertical-align: middle;\n",
       "    }\n",
       "\n",
       "    .dataframe tbody tr th {\n",
       "        vertical-align: top;\n",
       "    }\n",
       "\n",
       "    .dataframe thead th {\n",
       "        text-align: right;\n",
       "    }\n",
       "</style>\n",
       "<table border=\"1\" class=\"dataframe\">\n",
       "  <thead>\n",
       "    <tr style=\"text-align: right;\">\n",
       "      <th></th>\n",
       "      <th>Name</th>\n",
       "      <th>metric</th>\n",
       "    </tr>\n",
       "  </thead>\n",
       "  <tbody>\n",
       "    <tr>\n",
       "      <th>0</th>\n",
       "      <td>BERT_chunked_meanpooler_prepro</td>\n",
       "      <td>0.341223</td>\n",
       "    </tr>\n",
       "    <tr>\n",
       "      <th>1</th>\n",
       "      <td>BERT_chunked_meanpooler</td>\n",
       "      <td>0.311013</td>\n",
       "    </tr>\n",
       "    <tr>\n",
       "      <th>2</th>\n",
       "      <td>BERT_chunked_prepro</td>\n",
       "      <td>0.227759</td>\n",
       "    </tr>\n",
       "    <tr>\n",
       "      <th>3</th>\n",
       "      <td>BERT_meanpooler_prepro</td>\n",
       "      <td>0.220266</td>\n",
       "    </tr>\n",
       "    <tr>\n",
       "      <th>4</th>\n",
       "      <td>BERT_meanpooler</td>\n",
       "      <td>0.220147</td>\n",
       "    </tr>\n",
       "    <tr>\n",
       "      <th>5</th>\n",
       "      <td>BERT_chunked</td>\n",
       "      <td>0.178045</td>\n",
       "    </tr>\n",
       "    <tr>\n",
       "      <th>6</th>\n",
       "      <td>BERT_chunked_pooler_prepro</td>\n",
       "      <td>0.112750</td>\n",
       "    </tr>\n",
       "    <tr>\n",
       "      <th>7</th>\n",
       "      <td>BERT_prepro</td>\n",
       "      <td>0.094077</td>\n",
       "    </tr>\n",
       "    <tr>\n",
       "      <th>8</th>\n",
       "      <td>BERT</td>\n",
       "      <td>0.089558</td>\n",
       "    </tr>\n",
       "    <tr>\n",
       "      <th>9</th>\n",
       "      <td>BERT_chunked_pooler</td>\n",
       "      <td>0.084087</td>\n",
       "    </tr>\n",
       "    <tr>\n",
       "      <th>10</th>\n",
       "      <td>BERT_pooler_prepro</td>\n",
       "      <td>0.065771</td>\n",
       "    </tr>\n",
       "    <tr>\n",
       "      <th>11</th>\n",
       "      <td>BERT_pooler</td>\n",
       "      <td>0.043173</td>\n",
       "    </tr>\n",
       "  </tbody>\n",
       "</table>\n",
       "</div>"
      ],
      "text/plain": [
       "                              Name    metric\n",
       "0   BERT_chunked_meanpooler_prepro  0.341223\n",
       "1          BERT_chunked_meanpooler  0.311013\n",
       "2              BERT_chunked_prepro  0.227759\n",
       "3           BERT_meanpooler_prepro  0.220266\n",
       "4                  BERT_meanpooler  0.220147\n",
       "5                     BERT_chunked  0.178045\n",
       "6       BERT_chunked_pooler_prepro  0.112750\n",
       "7                      BERT_prepro  0.094077\n",
       "8                             BERT  0.089558\n",
       "9              BERT_chunked_pooler  0.084087\n",
       "10              BERT_pooler_prepro  0.065771\n",
       "11                     BERT_pooler  0.043173"
      ]
     },
     "execution_count": 45,
     "metadata": {},
     "output_type": "execute_result"
    }
   ],
   "source": [
    "df"
   ]
  },
  {
   "cell_type": "code",
   "execution_count": 46,
   "id": "1993b777-38f0-4b96-b8f9-f6dc76682ace",
   "metadata": {
    "execution": {
     "iopub.execute_input": "2022-09-17T08:31:09.788043Z",
     "iopub.status.busy": "2022-09-17T08:31:09.787890Z",
     "iopub.status.idle": "2022-09-17T08:31:09.791685Z",
     "shell.execute_reply": "2022-09-17T08:31:09.791469Z",
     "shell.execute_reply.started": "2022-09-17T08:31:09.788024Z"
    },
    "tags": []
   },
   "outputs": [],
   "source": [
    "# clean up the labels a bit\n",
    "\n",
    "translate_dict = {'BERT' :  '',\n",
    "                  'chunked': 'Chunking',\n",
    "                  'meanpooler': 'Mean Pooling',\n",
    "                  'prepro': 'Pre-processing',\n",
    "                  'pooler': '[POOLER_OUTPUT]',\n",
    "                  'CLS': '[CLS]'\n",
    "                 }\n",
    "\n",
    "def rewrite_labels(label):\n",
    "    newlabel = label.split('_')\n",
    "    if 'pooler' not in newlabel:\n",
    "        newlabel.append('CLS')\n",
    "    if 'pooler' in newlabel:\n",
    "        # append pooler always in the end of the label\n",
    "        newlabel.remove('pooler')\n",
    "        newlabel.append('pooler')\n",
    "    newlabel = [translate_dict[s] for s in newlabel if translate_dict[s] != '']\n",
    "    newlabel = '+'.join(newlabel)\n",
    "    if newlabel == '[CLS]':\n",
    "        newlabel = '[CLS] (default)'\n",
    "    return newlabel"
   ]
  },
  {
   "cell_type": "code",
   "execution_count": 47,
   "id": "862868f7-dc6a-45f1-a349-a37a2b0d7a66",
   "metadata": {
    "execution": {
     "iopub.execute_input": "2022-09-17T08:31:09.792099Z",
     "iopub.status.busy": "2022-09-17T08:31:09.792012Z",
     "iopub.status.idle": "2022-09-17T08:31:09.794061Z",
     "shell.execute_reply": "2022-09-17T08:31:09.793852Z",
     "shell.execute_reply.started": "2022-09-17T08:31:09.792088Z"
    },
    "tags": []
   },
   "outputs": [],
   "source": [
    "df['Name'] = df['Name'].apply(rewrite_labels)"
   ]
  },
  {
   "cell_type": "code",
   "execution_count": 48,
   "id": "a623fd2d-143d-4f58-a1b4-cf37891d51c0",
   "metadata": {
    "execution": {
     "iopub.execute_input": "2022-09-17T08:31:09.795098Z",
     "iopub.status.busy": "2022-09-17T08:31:09.794988Z",
     "iopub.status.idle": "2022-09-17T08:31:09.798686Z",
     "shell.execute_reply": "2022-09-17T08:31:09.798413Z",
     "shell.execute_reply.started": "2022-09-17T08:31:09.795086Z"
    },
    "tags": []
   },
   "outputs": [
    {
     "data": {
      "text/html": [
       "<div>\n",
       "<style scoped>\n",
       "    .dataframe tbody tr th:only-of-type {\n",
       "        vertical-align: middle;\n",
       "    }\n",
       "\n",
       "    .dataframe tbody tr th {\n",
       "        vertical-align: top;\n",
       "    }\n",
       "\n",
       "    .dataframe thead th {\n",
       "        text-align: right;\n",
       "    }\n",
       "</style>\n",
       "<table border=\"1\" class=\"dataframe\">\n",
       "  <thead>\n",
       "    <tr style=\"text-align: right;\">\n",
       "      <th></th>\n",
       "      <th>Name</th>\n",
       "      <th>metric</th>\n",
       "    </tr>\n",
       "  </thead>\n",
       "  <tbody>\n",
       "    <tr>\n",
       "      <th>0</th>\n",
       "      <td>Chunking+Mean Pooling+Pre-processing+[CLS]</td>\n",
       "      <td>0.341223</td>\n",
       "    </tr>\n",
       "    <tr>\n",
       "      <th>1</th>\n",
       "      <td>Chunking+Mean Pooling+[CLS]</td>\n",
       "      <td>0.311013</td>\n",
       "    </tr>\n",
       "    <tr>\n",
       "      <th>2</th>\n",
       "      <td>Chunking+Pre-processing+[CLS]</td>\n",
       "      <td>0.227759</td>\n",
       "    </tr>\n",
       "    <tr>\n",
       "      <th>3</th>\n",
       "      <td>Mean Pooling+Pre-processing+[CLS]</td>\n",
       "      <td>0.220266</td>\n",
       "    </tr>\n",
       "    <tr>\n",
       "      <th>4</th>\n",
       "      <td>Mean Pooling+[CLS]</td>\n",
       "      <td>0.220147</td>\n",
       "    </tr>\n",
       "    <tr>\n",
       "      <th>5</th>\n",
       "      <td>Chunking+[CLS]</td>\n",
       "      <td>0.178045</td>\n",
       "    </tr>\n",
       "    <tr>\n",
       "      <th>6</th>\n",
       "      <td>Chunking+Pre-processing+[POOLER_OUTPUT]</td>\n",
       "      <td>0.112750</td>\n",
       "    </tr>\n",
       "    <tr>\n",
       "      <th>7</th>\n",
       "      <td>Pre-processing+[CLS]</td>\n",
       "      <td>0.094077</td>\n",
       "    </tr>\n",
       "    <tr>\n",
       "      <th>8</th>\n",
       "      <td>[CLS] (default)</td>\n",
       "      <td>0.089558</td>\n",
       "    </tr>\n",
       "    <tr>\n",
       "      <th>9</th>\n",
       "      <td>Chunking+[POOLER_OUTPUT]</td>\n",
       "      <td>0.084087</td>\n",
       "    </tr>\n",
       "    <tr>\n",
       "      <th>10</th>\n",
       "      <td>Pre-processing+[POOLER_OUTPUT]</td>\n",
       "      <td>0.065771</td>\n",
       "    </tr>\n",
       "    <tr>\n",
       "      <th>11</th>\n",
       "      <td>[POOLER_OUTPUT]</td>\n",
       "      <td>0.043173</td>\n",
       "    </tr>\n",
       "  </tbody>\n",
       "</table>\n",
       "</div>"
      ],
      "text/plain": [
       "                                          Name    metric\n",
       "0   Chunking+Mean Pooling+Pre-processing+[CLS]  0.341223\n",
       "1                  Chunking+Mean Pooling+[CLS]  0.311013\n",
       "2                Chunking+Pre-processing+[CLS]  0.227759\n",
       "3            Mean Pooling+Pre-processing+[CLS]  0.220266\n",
       "4                           Mean Pooling+[CLS]  0.220147\n",
       "5                               Chunking+[CLS]  0.178045\n",
       "6      Chunking+Pre-processing+[POOLER_OUTPUT]  0.112750\n",
       "7                         Pre-processing+[CLS]  0.094077\n",
       "8                              [CLS] (default)  0.089558\n",
       "9                     Chunking+[POOLER_OUTPUT]  0.084087\n",
       "10              Pre-processing+[POOLER_OUTPUT]  0.065771\n",
       "11                             [POOLER_OUTPUT]  0.043173"
      ]
     },
     "execution_count": 48,
     "metadata": {},
     "output_type": "execute_result"
    }
   ],
   "source": [
    "df"
   ]
  },
  {
   "cell_type": "code",
   "execution_count": 49,
   "id": "b8c5073f-9d5d-4729-bb95-d6bf70490fb8",
   "metadata": {
    "execution": {
     "iopub.execute_input": "2022-09-17T08:31:09.799119Z",
     "iopub.status.busy": "2022-09-17T08:31:09.799031Z",
     "iopub.status.idle": "2022-09-17T08:31:10.036515Z",
     "shell.execute_reply": "2022-09-17T08:31:10.036258Z",
     "shell.execute_reply.started": "2022-09-17T08:31:09.799107Z"
    },
    "tags": []
   },
   "outputs": [
    {
     "data": {
      "image/png": "[encoded data removed]",
      "text/plain": [
       "<Figure size 648x432 with 1 Axes>"
      ]
     },
     "metadata": {
      "needs_background": "light"
     },
     "output_type": "display_data"
    }
   ],
   "source": [
    "latexify(fig_width=9, fig_height=6, font_size=10, label_size=16, title_size=24, legend_size=11)\n",
    "\n",
    "# plt styling parameters\n",
    "# plt.style.use('seaborn')\n",
    "# plt.rcParams['figure.figsize'] = (6.0, 4.0)\n",
    "# plt.rcParams[\"patch.force_edgecolor\"] = True\n",
    "\n",
    "colors=['C0', 'C1', 'C2', 'C3', 'C4', 'C5', 'C6', 'C7', 'C8', 'C9', 'C10', 'C11']\n",
    "# chose a color map with enough colors for the number of bars\n",
    "# colors = [plt.cm.tab20c(np.arange(len(df)))]\n",
    "\n",
    "# ax = df.plot(kind='bar', y='metric', title='Embeddings compared', figsize=(9,6), color=colors)\n",
    "ax = df.plot(kind='bar', y='metric', title='Embeddings compared', color=colors)\n",
    "\n",
    "#x = df.plot.bar(color=colors)\n",
    "# plt.xticks(np.arange(len(df.Name)), list(df.Name), rotation=90)\n",
    "plt.xticks(rotation=0)\n",
    "#ax.get_legend().remove()\n",
    "x_legend = '\\n'.join(f'{n} - {Name}' for n,Name in zip(df.index,df['Name']))\n",
    "#t = ax.text(.7,.2,x_legend,transform=ax.figure.transFigure)\n",
    "# add the legend\n",
    "# create the rectangles for the legend\n",
    "# create color map with colors and df.names\n",
    "cmap = dict(zip(df.Name, colors))\n",
    "patches = [Patch(color=v, label=k) for k, v in cmap.items()]\n",
    "#plt.legend(handles=patches, bbox_to_anchor=(0.6, 0.8), loc='center left', borderaxespad=0)\n",
    "plt.legend(handles=patches, loc='upper right', borderaxespad=0)\n",
    "#fig.subplots_adjust(right=.65)\n",
    "ax.set_xlabel(\"Models ranked by score.\")\n",
    "ax.set_ylabel(\"Score (mean of Recall@10)\")\n",
    "ax.set_title(\"BERT Embedding Computation Comparison\")\n",
    "plt.tight_layout()\n",
    "format_axes(ax)\n",
    "plt.savefig(\"plots/emb_models_compared.pdf\")"
   ]
  },
  {
   "cell_type": "code",
   "execution_count": 50,
   "id": "2772cdfb-0157-453b-9878-eb50dbc6c55b",
   "metadata": {
    "execution": {
     "iopub.execute_input": "2022-09-17T08:31:10.037009Z",
     "iopub.status.busy": "2022-09-17T08:31:10.036932Z",
     "iopub.status.idle": "2022-09-17T08:31:10.042743Z",
     "shell.execute_reply": "2022-09-17T08:31:10.042513Z",
     "shell.execute_reply.started": "2022-09-17T08:31:10.036998Z"
    },
    "tags": []
   },
   "outputs": [
    {
     "data": {
      "text/html": [
       "<div>\n",
       "<style scoped>\n",
       "    .dataframe tbody tr th:only-of-type {\n",
       "        vertical-align: middle;\n",
       "    }\n",
       "\n",
       "    .dataframe tbody tr th {\n",
       "        vertical-align: top;\n",
       "    }\n",
       "\n",
       "    .dataframe thead th {\n",
       "        text-align: right;\n",
       "    }\n",
       "</style>\n",
       "<table border=\"1\" class=\"dataframe\">\n",
       "  <thead>\n",
       "    <tr style=\"text-align: right;\">\n",
       "      <th></th>\n",
       "      <th>Name</th>\n",
       "      <th>val/text_to_image_R@1</th>\n",
       "      <th>val/text_to_image_R@10</th>\n",
       "      <th>val/text_to_image_R@5</th>\n",
       "    </tr>\n",
       "  </thead>\n",
       "  <tbody>\n",
       "    <tr>\n",
       "      <th>0</th>\n",
       "      <td>SentVec default</td>\n",
       "      <td>0.259039</td>\n",
       "      <td>0.668173</td>\n",
       "      <td>0.535918</td>\n",
       "    </tr>\n",
       "    <tr>\n",
       "      <th>1</th>\n",
       "      <td>GPT-2 chunked meanpooler prepro2</td>\n",
       "      <td>0.165081</td>\n",
       "      <td>0.517602</td>\n",
       "      <td>0.390580</td>\n",
       "    </tr>\n",
       "    <tr>\n",
       "      <th>2</th>\n",
       "      <td>SentenceTransformer chunked prepro</td>\n",
       "      <td>0.128687</td>\n",
       "      <td>0.446717</td>\n",
       "      <td>0.330162</td>\n",
       "    </tr>\n",
       "    <tr>\n",
       "      <th>3</th>\n",
       "      <td>CliBERT_2m_chunked_meanpooler_prepro</td>\n",
       "      <td>0.124643</td>\n",
       "      <td>0.439819</td>\n",
       "      <td>0.316127</td>\n",
       "    </tr>\n",
       "    <tr>\n",
       "      <th>4</th>\n",
       "      <td>BioBERT_chunked_meanpooler_prepro</td>\n",
       "      <td>0.102521</td>\n",
       "      <td>0.413654</td>\n",
       "      <td>0.293530</td>\n",
       "    </tr>\n",
       "    <tr>\n",
       "      <th>5</th>\n",
       "      <td>PubMedBERT_chunked_meanpooler_prepro</td>\n",
       "      <td>0.097526</td>\n",
       "      <td>0.383682</td>\n",
       "      <td>0.272598</td>\n",
       "    </tr>\n",
       "    <tr>\n",
       "      <th>6</th>\n",
       "      <td>RoBERTa_chunked_meanpooler_prepro</td>\n",
       "      <td>0.093720</td>\n",
       "      <td>0.375357</td>\n",
       "      <td>0.260466</td>\n",
       "    </tr>\n",
       "    <tr>\n",
       "      <th>7</th>\n",
       "      <td>BERT_chunked_meanpooler_prepro</td>\n",
       "      <td>0.084443</td>\n",
       "      <td>0.342769</td>\n",
       "      <td>0.239058</td>\n",
       "    </tr>\n",
       "    <tr>\n",
       "      <th>8</th>\n",
       "      <td>Doc2Vec  prepro</td>\n",
       "      <td>0.072074</td>\n",
       "      <td>0.307326</td>\n",
       "      <td>0.218126</td>\n",
       "    </tr>\n",
       "    <tr>\n",
       "      <th>9</th>\n",
       "      <td>BioELECTRA_chunked_meanpooler_prepro</td>\n",
       "      <td>0.013559</td>\n",
       "      <td>0.090866</td>\n",
       "      <td>0.051618</td>\n",
       "    </tr>\n",
       "    <tr>\n",
       "      <th>10</th>\n",
       "      <td>BERT (Notes embeddings only)</td>\n",
       "      <td>0.002617</td>\n",
       "      <td>0.033539</td>\n",
       "      <td>0.019267</td>\n",
       "    </tr>\n",
       "    <tr>\n",
       "      <th>11</th>\n",
       "      <td>LSTMCNN+Transformer</td>\n",
       "      <td>0.000226</td>\n",
       "      <td>0.002486</td>\n",
       "      <td>0.001356</td>\n",
       "    </tr>\n",
       "  </tbody>\n",
       "</table>\n",
       "</div>"
      ],
      "text/plain": [
       "                                    Name  val/text_to_image_R@1  \\\n",
       "0                        SentVec default               0.259039   \n",
       "1       GPT-2 chunked meanpooler prepro2               0.165081   \n",
       "2     SentenceTransformer chunked prepro               0.128687   \n",
       "3   CliBERT_2m_chunked_meanpooler_prepro               0.124643   \n",
       "4      BioBERT_chunked_meanpooler_prepro               0.102521   \n",
       "5   PubMedBERT_chunked_meanpooler_prepro               0.097526   \n",
       "6      RoBERTa_chunked_meanpooler_prepro               0.093720   \n",
       "7         BERT_chunked_meanpooler_prepro               0.084443   \n",
       "8                        Doc2Vec  prepro               0.072074   \n",
       "9   BioELECTRA_chunked_meanpooler_prepro               0.013559   \n",
       "10          BERT (Notes embeddings only)               0.002617   \n",
       "11                   LSTMCNN+Transformer               0.000226   \n",
       "\n",
       "    val/text_to_image_R@10  val/text_to_image_R@5  \n",
       "0                 0.668173               0.535918  \n",
       "1                 0.517602               0.390580  \n",
       "2                 0.446717               0.330162  \n",
       "3                 0.439819               0.316127  \n",
       "4                 0.413654               0.293530  \n",
       "5                 0.383682               0.272598  \n",
       "6                 0.375357               0.260466  \n",
       "7                 0.342769               0.239058  \n",
       "8                 0.307326               0.218126  \n",
       "9                 0.090866               0.051618  \n",
       "10                0.033539               0.019267  \n",
       "11                0.002486               0.001356  "
      ]
     },
     "execution_count": 50,
     "metadata": {},
     "output_type": "execute_result"
    }
   ],
   "source": [
    "df = pd.read_csv('wandb_export/wandb_export_2022-03-21T11_58_34.256+01_00.csv', usecols=['Name', 'val/text_to_image_R@1', 'val/text_to_image_R@5', 'val/text_to_image_R@10'])\n",
    "df"
   ]
  },
  {
   "cell_type": "code",
   "execution_count": 51,
   "id": "6dca4cc3-71e4-4166-9aa0-e46683b865ca",
   "metadata": {
    "execution": {
     "iopub.execute_input": "2022-09-17T08:31:10.043177Z",
     "iopub.status.busy": "2022-09-17T08:31:10.043097Z",
     "iopub.status.idle": "2022-09-17T08:31:10.051792Z",
     "shell.execute_reply": "2022-09-17T08:31:10.051578Z",
     "shell.execute_reply.started": "2022-09-17T08:31:10.043166Z"
    },
    "tags": []
   },
   "outputs": [
    {
     "data": {
      "text/html": [
       "<div>\n",
       "<style scoped>\n",
       "    .dataframe tbody tr th:only-of-type {\n",
       "        vertical-align: middle;\n",
       "    }\n",
       "\n",
       "    .dataframe tbody tr th {\n",
       "        vertical-align: top;\n",
       "    }\n",
       "\n",
       "    .dataframe thead th {\n",
       "        text-align: right;\n",
       "    }\n",
       "</style>\n",
       "<table border=\"1\" class=\"dataframe\">\n",
       "  <thead>\n",
       "    <tr style=\"text-align: right;\">\n",
       "      <th></th>\n",
       "      <th>model</th>\n",
       "      <th>R@1</th>\n",
       "      <th>R@5</th>\n",
       "      <th>R@10</th>\n",
       "    </tr>\n",
       "  </thead>\n",
       "  <tbody>\n",
       "    <tr>\n",
       "      <th>0</th>\n",
       "      <td>BioSentVec</td>\n",
       "      <td>0.252854</td>\n",
       "      <td>0.531637</td>\n",
       "      <td>0.661394</td>\n",
       "    </tr>\n",
       "    <tr>\n",
       "      <th>1</th>\n",
       "      <td>BioSentVec Ablation: chart events &amp; discharge ...</td>\n",
       "      <td>0.187797</td>\n",
       "      <td>0.428520</td>\n",
       "      <td>0.550071</td>\n",
       "    </tr>\n",
       "    <tr>\n",
       "      <th>2</th>\n",
       "      <td>GPT-2</td>\n",
       "      <td>0.163297</td>\n",
       "      <td>0.392245</td>\n",
       "      <td>0.516413</td>\n",
       "    </tr>\n",
       "    <tr>\n",
       "      <th>3</th>\n",
       "      <td>SentenceTransformers</td>\n",
       "      <td>0.131779</td>\n",
       "      <td>0.328616</td>\n",
       "      <td>0.441960</td>\n",
       "    </tr>\n",
       "    <tr>\n",
       "      <th>4</th>\n",
       "      <td>ClinicalBERT</td>\n",
       "      <td>0.122146</td>\n",
       "      <td>0.315176</td>\n",
       "      <td>0.438749</td>\n",
       "    </tr>\n",
       "    <tr>\n",
       "      <th>5</th>\n",
       "      <td>BioSentVec Ablation: no chart events, non-disc...</td>\n",
       "      <td>0.154971</td>\n",
       "      <td>0.333492</td>\n",
       "      <td>0.416984</td>\n",
       "    </tr>\n",
       "    <tr>\n",
       "      <th>6</th>\n",
       "      <td>BioBERT</td>\n",
       "      <td>0.105614</td>\n",
       "      <td>0.295195</td>\n",
       "      <td>0.409729</td>\n",
       "    </tr>\n",
       "    <tr>\n",
       "      <th>7</th>\n",
       "      <td>PubMedBERT</td>\n",
       "      <td>0.099905</td>\n",
       "      <td>0.275214</td>\n",
       "      <td>0.383325</td>\n",
       "    </tr>\n",
       "    <tr>\n",
       "      <th>8</th>\n",
       "      <td>RoBERTa</td>\n",
       "      <td>0.093958</td>\n",
       "      <td>0.263559</td>\n",
       "      <td>0.374049</td>\n",
       "    </tr>\n",
       "    <tr>\n",
       "      <th>9</th>\n",
       "      <td>BERT (baseline)</td>\n",
       "      <td>0.087060</td>\n",
       "      <td>0.240604</td>\n",
       "      <td>0.342293</td>\n",
       "    </tr>\n",
       "    <tr>\n",
       "      <th>10</th>\n",
       "      <td>Doc2Vec</td>\n",
       "      <td>0.072431</td>\n",
       "      <td>0.205281</td>\n",
       "      <td>0.293530</td>\n",
       "    </tr>\n",
       "    <tr>\n",
       "      <th>11</th>\n",
       "      <td>BERT Ablation: chart events &amp; discharge notes</td>\n",
       "      <td>0.064106</td>\n",
       "      <td>0.191603</td>\n",
       "      <td>0.289248</td>\n",
       "    </tr>\n",
       "    <tr>\n",
       "      <th>12</th>\n",
       "      <td>BERT Ablation: no chart events, non-discharge ...</td>\n",
       "      <td>0.022479</td>\n",
       "      <td>0.081232</td>\n",
       "      <td>0.128925</td>\n",
       "    </tr>\n",
       "    <tr>\n",
       "      <th>13</th>\n",
       "      <td>BioELECTRA</td>\n",
       "      <td>0.014034</td>\n",
       "      <td>0.054710</td>\n",
       "      <td>0.096694</td>\n",
       "    </tr>\n",
       "    <tr>\n",
       "      <th>14</th>\n",
       "      <td>LSTMCNN+Transformer</td>\n",
       "      <td>0.000339</td>\n",
       "      <td>0.001808</td>\n",
       "      <td>0.003278</td>\n",
       "    </tr>\n",
       "  </tbody>\n",
       "</table>\n",
       "</div>"
      ],
      "text/plain": [
       "                                                model       R@1       R@5  \\\n",
       "0                                          BioSentVec  0.252854  0.531637   \n",
       "1   BioSentVec Ablation: chart events & discharge ...  0.187797  0.428520   \n",
       "2                                               GPT-2  0.163297  0.392245   \n",
       "3                                SentenceTransformers  0.131779  0.328616   \n",
       "4                                        ClinicalBERT  0.122146  0.315176   \n",
       "5   BioSentVec Ablation: no chart events, non-disc...  0.154971  0.333492   \n",
       "6                                             BioBERT  0.105614  0.295195   \n",
       "7                                          PubMedBERT  0.099905  0.275214   \n",
       "8                                             RoBERTa  0.093958  0.263559   \n",
       "9                                     BERT (baseline)  0.087060  0.240604   \n",
       "10                                            Doc2Vec  0.072431  0.205281   \n",
       "11      BERT Ablation: chart events & discharge notes  0.064106  0.191603   \n",
       "12  BERT Ablation: no chart events, non-discharge ...  0.022479  0.081232   \n",
       "13                                         BioELECTRA  0.014034  0.054710   \n",
       "14                                LSTMCNN+Transformer  0.000339  0.001808   \n",
       "\n",
       "        R@10  \n",
       "0   0.661394  \n",
       "1   0.550071  \n",
       "2   0.516413  \n",
       "3   0.441960  \n",
       "4   0.438749  \n",
       "5   0.416984  \n",
       "6   0.409729  \n",
       "7   0.383325  \n",
       "8   0.374049  \n",
       "9   0.342293  \n",
       "10  0.293530  \n",
       "11  0.289248  \n",
       "12  0.128925  \n",
       "13  0.096694  \n",
       "14  0.003278  "
      ]
     },
     "execution_count": 51,
     "metadata": {},
     "output_type": "execute_result"
    }
   ],
   "source": [
    "# wandb_export_2022-03-21T11_58_34.256+01_00.csv\n",
    "df = pd.read_csv('wandb_export/wandb_export_2022-05-17T18_28_47.568+02_00.csv',\n",
    "                 usecols=['Name', 'val/text_to_image_R@1', 'val/text_to_image_R@5', 'val/text_to_image_R@10',\n",
    "                         'val/image_to_text_R@1', 'val/image_to_text_R@5', 'val/image_to_text_R@10'])\n",
    "\n",
    "df['R@10'] = (df['val/image_to_text_R@10'] + df['val/text_to_image_R@10'])/2\n",
    "df['R@5'] = (df['val/image_to_text_R@5'] + df['val/text_to_image_R@5'])/2\n",
    "df['R@1'] = (df['val/image_to_text_R@1'] + df['val/text_to_image_R@1'])/2\n",
    "\n",
    "df = df[['Name', 'R@1', 'R@5', 'R@10']]\n",
    "df.columns = ['model', 'R@1', 'R@5', 'R@10']\n",
    "\n",
    "# remove atributes\n",
    "#df['model'] = df['model'].str.split(pat='_', n=1, expand=False).str[0]\n",
    "#df['model'] = df['model'].str.split(pat=' ', n=1, expand=False).str[0]\n",
    "\n",
    "# replace wrong values with the correct ones\n",
    "df.loc[df['model'] == 'SentenceTransformer', 'model'] = 'SentenceTransformers'\n",
    "df.loc[df['model'] == 'CliBERT', 'model'] = 'ClinicalBERT'\n",
    "\n",
    "df"
   ]
  },
  {
   "cell_type": "code",
   "execution_count": 52,
   "id": "f437f223-8f6d-402a-b87e-20b98afd3a55",
   "metadata": {
    "execution": {
     "iopub.execute_input": "2022-09-17T08:31:10.052225Z",
     "iopub.status.busy": "2022-09-17T08:31:10.052146Z",
     "iopub.status.idle": "2022-09-17T08:31:10.057784Z",
     "shell.execute_reply": "2022-09-17T08:31:10.057529Z",
     "shell.execute_reply.started": "2022-09-17T08:31:10.052215Z"
    },
    "tags": []
   },
   "outputs": [
    {
     "name": "stdout",
     "output_type": "stream",
     "text": [
      "\\begin{tabular}{llrrr}\n",
      "\\toprule\n",
      "{} &                                              model &       R@1 &       R@5 &      R@10 \\\\\n",
      "\\midrule\n",
      "0  &                                         BioSentVec &  0.252854 &  0.531637 &  0.661394 \\\\\n",
      "1  &  BioSentVec Ablation: chart events \\& discharge ... &  0.187797 &  0.428520 &  0.550071 \\\\\n",
      "2  &                                              GPT-2 &  0.163297 &  0.392245 &  0.516413 \\\\\n",
      "3  &                               SentenceTransformers &  0.131779 &  0.328616 &  0.441960 \\\\\n",
      "4  &                                       ClinicalBERT &  0.122146 &  0.315176 &  0.438749 \\\\\n",
      "5  &  BioSentVec Ablation: no chart events, non-disc... &  0.154971 &  0.333492 &  0.416984 \\\\\n",
      "6  &                                            BioBERT &  0.105614 &  0.295195 &  0.409729 \\\\\n",
      "7  &                                         PubMedBERT &  0.099905 &  0.275214 &  0.383325 \\\\\n",
      "8  &                                            RoBERTa &  0.093958 &  0.263559 &  0.374049 \\\\\n",
      "9  &                                    BERT (baseline) &  0.087060 &  0.240604 &  0.342293 \\\\\n",
      "10 &                                            Doc2Vec &  0.072431 &  0.205281 &  0.293530 \\\\\n",
      "11 &      BERT Ablation: chart events \\& discharge notes &  0.064106 &  0.191603 &  0.289248 \\\\\n",
      "12 &  BERT Ablation: no chart events, non-discharge ... &  0.022479 &  0.081232 &  0.128925 \\\\\n",
      "13 &                                         BioELECTRA &  0.014034 &  0.054710 &  0.096694 \\\\\n",
      "14 &                                LSTMCNN+Transformer &  0.000339 &  0.001808 &  0.003278 \\\\\n",
      "\\bottomrule\n",
      "\\end{tabular}\n",
      "\n"
     ]
    }
   ],
   "source": [
    "print(df.sort_values(by='R@10', ascending=False).to_latex())"
   ]
  },
  {
   "cell_type": "code",
   "execution_count": 53,
   "id": "9a1602ea-9b47-4d11-b025-66b6b12e14b4",
   "metadata": {
    "execution": {
     "iopub.execute_input": "2022-09-17T08:31:10.058149Z",
     "iopub.status.busy": "2022-09-17T08:31:10.058077Z",
     "iopub.status.idle": "2022-09-17T08:31:10.060803Z",
     "shell.execute_reply": "2022-09-17T08:31:10.060602Z",
     "shell.execute_reply.started": "2022-09-17T08:31:10.058140Z"
    },
    "tags": []
   },
   "outputs": [
    {
     "name": "stdout",
     "output_type": "stream",
     "text": [
      "|    | model                                                                  |        R@1 |        R@5 |       R@10 |\n",
      "|---:|:-----------------------------------------------------------------------|-----------:|-----------:|-----------:|\n",
      "|  0 | BioSentVec                                                             | 0.252854   | 0.531637   | 0.661394   |\n",
      "|  1 | BioSentVec Ablation: chart events & discharge notes                    | 0.187797   | 0.42852    | 0.550071   |\n",
      "|  2 | GPT-2                                                                  | 0.163297   | 0.392245   | 0.516413   |\n",
      "|  3 | SentenceTransformers                                                   | 0.131779   | 0.328616   | 0.44196    |\n",
      "|  4 | ClinicalBERT                                                           | 0.122146   | 0.315176   | 0.438749   |\n",
      "|  5 | BioSentVec Ablation: no chart events, non-discharge vs discharge notes | 0.154971   | 0.333492   | 0.416984   |\n",
      "|  6 | BioBERT                                                                | 0.105614   | 0.295195   | 0.409729   |\n",
      "|  7 | PubMedBERT                                                             | 0.0999049  | 0.275214   | 0.383325   |\n",
      "|  8 | RoBERTa                                                                | 0.0939581  | 0.263559   | 0.374049   |\n",
      "|  9 | BERT (baseline)                                                        | 0.0870599  | 0.240604   | 0.342293   |\n",
      "| 10 | Doc2Vec                                                                | 0.072431   | 0.205281   | 0.29353    |\n",
      "| 11 | BERT Ablation: chart events & discharge notes                          | 0.0641056  | 0.191603   | 0.289248   |\n",
      "| 12 | BERT Ablation: no chart events, non-discharge vs discharge notes       | 0.0224786  | 0.0812322  | 0.128925   |\n",
      "| 13 | BioELECTRA                                                             | 0.0140343  | 0.0547098  | 0.0966936  |\n",
      "| 14 | LSTMCNN+Transformer                                                    | 0.00033906 | 0.00180832 | 0.00327758 |\n"
     ]
    }
   ],
   "source": [
    "print(df.sort_values(by='R@10', ascending=False).to_markdown())"
   ]
  },
  {
   "cell_type": "code",
   "execution_count": 54,
   "id": "aaeb3859-18f2-4d30-a193-2508318e3f74",
   "metadata": {
    "execution": {
     "iopub.execute_input": "2022-09-17T08:31:10.061165Z",
     "iopub.status.busy": "2022-09-17T08:31:10.061096Z",
     "iopub.status.idle": "2022-09-17T08:31:10.063044Z",
     "shell.execute_reply": "2022-09-17T08:31:10.062852Z",
     "shell.execute_reply.started": "2022-09-17T08:31:10.061156Z"
    },
    "tags": []
   },
   "outputs": [],
   "source": [
    "# df.drop(df['model'].str.contains('Mel'))\n",
    "\n",
    "df = df[~df['model'].str.contains('Ablation')]"
   ]
  },
  {
   "cell_type": "code",
   "execution_count": 55,
   "id": "83479621-fa96-49a8-8117-e32a33f3c1c3",
   "metadata": {
    "execution": {
     "iopub.execute_input": "2022-09-17T08:31:10.063447Z",
     "iopub.status.busy": "2022-09-17T08:31:10.063344Z",
     "iopub.status.idle": "2022-09-17T08:31:10.181161Z",
     "shell.execute_reply": "2022-09-17T08:31:10.180916Z",
     "shell.execute_reply.started": "2022-09-17T08:31:10.063438Z"
    },
    "tags": []
   },
   "outputs": [
    {
     "data": {
      "image/png": "[encoded data removed]",
      "text/plain": [
       "<Figure size 648x432 with 1 Axes>"
      ]
     },
     "metadata": {
      "needs_background": "light"
     },
     "output_type": "display_data"
    }
   ],
   "source": [
    "latexify(fig_width=9, fig_height=6, font_size=10, label_size=16, title_size=24, legend_size=11)\n",
    "ax = df.plot(kind='box', figsize=(9,6))\n",
    "# ax.get_legend().remove()\n",
    "ax.set_xlabel(\"Recall at top-k results of all evaluated models, where $k \\in \\{1,5,10\\}.$\")\n",
    "ax.set_ylabel(\"Recall@top-k\")\n",
    "ax.set_title(\"Model Comparison for Recall@top-k\")\n",
    "plt.tight_layout()\n",
    "format_axes(ax)\n",
    "plt.savefig(\"plots/topk_compared.pdf\")"
   ]
  },
  {
   "cell_type": "code",
   "execution_count": 56,
   "id": "1b7f5312-638f-4a16-be6e-feb8d084d6ea",
   "metadata": {
    "execution": {
     "iopub.execute_input": "2022-09-17T08:31:10.181655Z",
     "iopub.status.busy": "2022-09-17T08:31:10.181576Z",
     "iopub.status.idle": "2022-09-17T08:31:10.373273Z",
     "shell.execute_reply": "2022-09-17T08:31:10.372961Z",
     "shell.execute_reply.started": "2022-09-17T08:31:10.181645Z"
    },
    "tags": []
   },
   "outputs": [
    {
     "data": {
      "image/png": "[encoded data removed]",
      "text/plain": [
       "<Figure size 864x576 with 1 Axes>"
      ]
     },
     "metadata": {
      "needs_background": "light"
     },
     "output_type": "display_data"
    }
   ],
   "source": [
    "latexify(fig_width=12, fig_height=8, font_size=28, label_size=18, title_size=24, legend_size=18)\n",
    "ax = df.plot(kind='bar', figsize=(12,8))\n",
    "plt.xticks(np.arange(len(df.model)), list(df.model), rotation=45, ha='right');\n",
    "# ax.get_legend().remove()\n",
    "ax.set_xlabel(\"Comparison of all models evaluated in this work.\")\n",
    "ax.set_ylabel(\"Recall@top-k\")\n",
    "ax.set_title(\"Model Recall@Top-k Results Compared in Detail.\")\n",
    "plt.tight_layout()\n",
    "format_axes(ax)\n",
    "plt.savefig(\"plots/models_topk_compared.pdf\")"
   ]
  },
  {
   "cell_type": "code",
   "execution_count": 57,
   "id": "df978b6d-712c-4311-a27b-ff700f610650",
   "metadata": {
    "execution": {
     "iopub.execute_input": "2022-09-17T08:31:10.373809Z",
     "iopub.status.busy": "2022-09-17T08:31:10.373733Z",
     "iopub.status.idle": "2022-09-17T08:31:10.375254Z",
     "shell.execute_reply": "2022-09-17T08:31:10.375065Z",
     "shell.execute_reply.started": "2022-09-17T08:31:10.373799Z"
    },
    "tags": []
   },
   "outputs": [],
   "source": [
    "# correlation different models alignment\n",
    "# wandb_export_2022-08-20T11_30_22.482+02_00.csv"
   ]
  },
  {
   "cell_type": "code",
   "execution_count": 58,
   "id": "c0231e63-2cec-4793-b98b-d2a4da1c6baf",
   "metadata": {
    "execution": {
     "iopub.execute_input": "2022-09-17T08:31:10.375648Z",
     "iopub.status.busy": "2022-09-17T08:31:10.375576Z",
     "iopub.status.idle": "2022-09-17T08:31:10.383959Z",
     "shell.execute_reply": "2022-09-17T08:31:10.383694Z",
     "shell.execute_reply.started": "2022-09-17T08:31:10.375639Z"
    },
    "tags": []
   },
   "outputs": [],
   "source": [
    "df = pd.read_csv('wandb_export/wandb_export_2022-08-20T11_30_22.482+02_00.csv')\n",
    "\n",
    "df.drop(columns=['_wandb'], inplace=True)\n",
    "df.columns = ['name', 'val/events_to_notes_R@10', 'val/notes_to_events_R@10']\n",
    "\n",
    "# remove first record from data\n",
    "df.drop(df[df.name == 'charmed-paper-293'].index, inplace=True)"
   ]
  },
  {
   "cell_type": "code",
   "execution_count": 59,
   "id": "a707f31b-af58-4f3e-a516-ffacd3279c79",
   "metadata": {
    "execution": {
     "iopub.execute_input": "2022-09-17T08:31:10.384400Z",
     "iopub.status.busy": "2022-09-17T08:31:10.384324Z",
     "iopub.status.idle": "2022-09-17T08:31:10.389130Z",
     "shell.execute_reply": "2022-09-17T08:31:10.388890Z",
     "shell.execute_reply.started": "2022-09-17T08:31:10.384390Z"
    },
    "tags": []
   },
   "outputs": [
    {
     "data": {
      "text/html": [
       "<div>\n",
       "<style scoped>\n",
       "    .dataframe tbody tr th:only-of-type {\n",
       "        vertical-align: middle;\n",
       "    }\n",
       "\n",
       "    .dataframe tbody tr th {\n",
       "        vertical-align: top;\n",
       "    }\n",
       "\n",
       "    .dataframe thead th {\n",
       "        text-align: right;\n",
       "    }\n",
       "</style>\n",
       "<table border=\"1\" class=\"dataframe\">\n",
       "  <thead>\n",
       "    <tr style=\"text-align: right;\">\n",
       "      <th></th>\n",
       "      <th>name</th>\n",
       "      <th>val/events_to_notes_R@10</th>\n",
       "      <th>val/notes_to_events_R@10</th>\n",
       "    </tr>\n",
       "  </thead>\n",
       "  <tbody>\n",
       "    <tr>\n",
       "      <th>1</th>\n",
       "      <td>BioSentVec</td>\n",
       "      <td>0.654615</td>\n",
       "      <td>0.668173</td>\n",
       "    </tr>\n",
       "    <tr>\n",
       "      <th>2</th>\n",
       "      <td>Sent2Vec default</td>\n",
       "      <td>0.654615</td>\n",
       "      <td>0.665557</td>\n",
       "    </tr>\n",
       "    <tr>\n",
       "      <th>3</th>\n",
       "      <td>dainty-bee-313</td>\n",
       "      <td>0.657469</td>\n",
       "      <td>0.662464</td>\n",
       "    </tr>\n",
       "    <tr>\n",
       "      <th>4</th>\n",
       "      <td>Sent2Vec new model</td>\n",
       "      <td>0.651284</td>\n",
       "      <td>0.659372</td>\n",
       "    </tr>\n",
       "    <tr>\n",
       "      <th>5</th>\n",
       "      <td>SentVec (full)</td>\n",
       "      <td>0.645814</td>\n",
       "      <td>0.659372</td>\n",
       "    </tr>\n",
       "    <tr>\n",
       "      <th>...</th>\n",
       "      <td>...</td>\n",
       "      <td>...</td>\n",
       "      <td>...</td>\n",
       "    </tr>\n",
       "    <tr>\n",
       "      <th>64</th>\n",
       "      <td>BERT (full)</td>\n",
       "      <td>0.055423</td>\n",
       "      <td>0.043530</td>\n",
       "    </tr>\n",
       "    <tr>\n",
       "      <th>65</th>\n",
       "      <td>BioBERT (full)</td>\n",
       "      <td>0.039486</td>\n",
       "      <td>0.037583</td>\n",
       "    </tr>\n",
       "    <tr>\n",
       "      <th>66</th>\n",
       "      <td>BERT Ablation Study: Notes</td>\n",
       "      <td>0.036870</td>\n",
       "      <td>0.033539</td>\n",
       "    </tr>\n",
       "    <tr>\n",
       "      <th>67</th>\n",
       "      <td>LSTMCNN+Transformer</td>\n",
       "      <td>0.004069</td>\n",
       "      <td>0.002486</td>\n",
       "    </tr>\n",
       "    <tr>\n",
       "      <th>68</th>\n",
       "      <td>GPT-2 CLOOB1</td>\n",
       "      <td>0.002379</td>\n",
       "      <td>0.002379</td>\n",
       "    </tr>\n",
       "  </tbody>\n",
       "</table>\n",
       "<p>68 rows × 3 columns</p>\n",
       "</div>"
      ],
      "text/plain": [
       "                          name  val/events_to_notes_R@10  \\\n",
       "1                   BioSentVec                  0.654615   \n",
       "2             Sent2Vec default                  0.654615   \n",
       "3               dainty-bee-313                  0.657469   \n",
       "4           Sent2Vec new model                  0.651284   \n",
       "5               SentVec (full)                  0.645814   \n",
       "..                         ...                       ...   \n",
       "64                 BERT (full)                  0.055423   \n",
       "65              BioBERT (full)                  0.039486   \n",
       "66  BERT Ablation Study: Notes                  0.036870   \n",
       "67         LSTMCNN+Transformer                  0.004069   \n",
       "68                GPT-2 CLOOB1                  0.002379   \n",
       "\n",
       "    val/notes_to_events_R@10  \n",
       "1                   0.668173  \n",
       "2                   0.665557  \n",
       "3                   0.662464  \n",
       "4                   0.659372  \n",
       "5                   0.659372  \n",
       "..                       ...  \n",
       "64                  0.043530  \n",
       "65                  0.037583  \n",
       "66                  0.033539  \n",
       "67                  0.002486  \n",
       "68                  0.002379  \n",
       "\n",
       "[68 rows x 3 columns]"
      ]
     },
     "execution_count": 59,
     "metadata": {},
     "output_type": "execute_result"
    }
   ],
   "source": [
    "df"
   ]
  },
  {
   "cell_type": "code",
   "execution_count": 60,
   "id": "9aeaa5d7-4197-427f-bdfa-823a6d574dda",
   "metadata": {
    "execution": {
     "iopub.execute_input": "2022-09-17T08:31:10.389495Z",
     "iopub.status.busy": "2022-09-17T08:31:10.389427Z",
     "iopub.status.idle": "2022-09-17T08:31:10.542832Z",
     "shell.execute_reply": "2022-09-17T08:31:10.542597Z",
     "shell.execute_reply.started": "2022-09-17T08:31:10.389486Z"
    },
    "tags": []
   },
   "outputs": [
    {
     "name": "stdout",
     "output_type": "stream",
     "text": [
      "[-0.00459994]\n",
      "[[1.02423642]]\n",
      "0.9976367271738322\n"
     ]
    },
    {
     "data": {
      "image/png": "[encoded data removed]",
      "text/plain": [
       "<Figure size 864x576 with 1 Axes>"
      ]
     },
     "metadata": {
      "needs_background": "light"
     },
     "output_type": "display_data"
    }
   ],
   "source": [
    "from sklearn.linear_model import LinearRegression\n",
    "x = df['val/events_to_notes_R@10'].values.reshape(-1, 1)  # iloc[:, 1] is the column of X\n",
    "y = df['val/notes_to_events_R@10'].values.reshape(-1, 1)  # df.iloc[:, 4] is the column of Y\n",
    "linear_regressor = LinearRegression()\n",
    "model = linear_regressor.fit(x, y)\n",
    "y_pred = model.predict(x)\n",
    "\n",
    "#plt.scatter(X, Y)\n",
    "ax = df.plot.scatter(x='val/events_to_notes_R@10', y='val/notes_to_events_R@10')\n",
    "plt.plot(x, y_pred, color='red')\n",
    "#ax.set_xlabel(\"Recall at top-k results of all evaluated models, where $k \\in \\{1,5,10\\}.$\")\n",
    "#ax.set_ylabel(\"Recall@top-k\")\n",
    "ax.set_title(\"Correlation of Alignment of Different Validated Models\")\n",
    "plt.tight_layout()\n",
    "plt.grid()\n",
    "format_axes(ax)\n",
    "plt.savefig(\"plots/correlation_models.pdf\")\n",
    "# plt.show()\n",
    "\n",
    "print(linear_regressor.intercept_)\n",
    "print(linear_regressor.coef_)\n",
    "print(model.score(x, y))"
   ]
  },
  {
   "cell_type": "code",
   "execution_count": 61,
   "id": "a26e2297-a122-452f-aa2a-a0bf999dc9e3",
   "metadata": {
    "execution": {
     "iopub.execute_input": "2022-09-17T08:31:10.543387Z",
     "iopub.status.busy": "2022-09-17T08:31:10.543293Z",
     "iopub.status.idle": "2022-09-17T08:31:10.547700Z",
     "shell.execute_reply": "2022-09-17T08:31:10.547472Z",
     "shell.execute_reply.started": "2022-09-17T08:31:10.543374Z"
    },
    "tags": []
   },
   "outputs": [
    {
     "data": {
      "text/plain": [
       "<bound method NDFrame.describe of                           name  val/events_to_notes_R@10  \\\n",
       "1                   BioSentVec                  0.654615   \n",
       "2             Sent2Vec default                  0.654615   \n",
       "3               dainty-bee-313                  0.657469   \n",
       "4           Sent2Vec new model                  0.651284   \n",
       "5               SentVec (full)                  0.645814   \n",
       "..                         ...                       ...   \n",
       "64                 BERT (full)                  0.055423   \n",
       "65              BioBERT (full)                  0.039486   \n",
       "66  BERT Ablation Study: Notes                  0.036870   \n",
       "67         LSTMCNN+Transformer                  0.004069   \n",
       "68                GPT-2 CLOOB1                  0.002379   \n",
       "\n",
       "    val/notes_to_events_R@10  \n",
       "1                   0.668173  \n",
       "2                   0.665557  \n",
       "3                   0.662464  \n",
       "4                   0.659372  \n",
       "5                   0.659372  \n",
       "..                       ...  \n",
       "64                  0.043530  \n",
       "65                  0.037583  \n",
       "66                  0.033539  \n",
       "67                  0.002486  \n",
       "68                  0.002379  \n",
       "\n",
       "[68 rows x 3 columns]>"
      ]
     },
     "execution_count": 61,
     "metadata": {},
     "output_type": "execute_result"
    }
   ],
   "source": [
    "df.describe"
   ]
  },
  {
   "cell_type": "code",
   "execution_count": 62,
   "id": "ae588538-c44d-47c7-85ab-31ce5dd8f178",
   "metadata": {
    "execution": {
     "iopub.execute_input": "2022-09-17T08:31:10.548163Z",
     "iopub.status.busy": "2022-09-17T08:31:10.548059Z",
     "iopub.status.idle": "2022-09-17T08:31:10.553896Z",
     "shell.execute_reply": "2022-09-17T08:31:10.553646Z",
     "shell.execute_reply.started": "2022-09-17T08:31:10.548153Z"
    },
    "tags": []
   },
   "outputs": [],
   "source": [
    "# wandb_export_2022-08-20T12_30_18.275+02_00.csv\n",
    "# comparison ablation studies\n"
   ]
  },
  {
   "cell_type": "code",
   "execution_count": 63,
   "id": "69995d46-ed44-45fa-a90d-5b099e4b0977",
   "metadata": {
    "execution": {
     "iopub.execute_input": "2022-09-17T08:31:10.554461Z",
     "iopub.status.busy": "2022-09-17T08:31:10.554349Z",
     "iopub.status.idle": "2022-09-17T08:31:10.563988Z",
     "shell.execute_reply": "2022-09-17T08:31:10.563747Z",
     "shell.execute_reply.started": "2022-09-17T08:31:10.554449Z"
    },
    "tags": []
   },
   "outputs": [],
   "source": [
    "df = pd.read_csv('wandb_export/wandb_export_2022-08-20T12_38_40.685+02_00.csv')\n",
    "\n",
    "df.drop(columns=['id'], inplace=True)\n",
    "df.columns = ['model', 'val/events_to_notes_R@10', 'val/notes_to_events_R@10']\n",
    "\n",
    "# remove atributes\n",
    "#df['model'] = df['model'].str.split(pat='_', n=1, expand=False).str[0]\n",
    "#df['model'] = df['model'].str.split(pat=' ', n=1, expand=False).str[0]\n",
    "\n",
    "# replace wrong values with the correct ones\n",
    "df.loc[df['model'] == 'SentenceTransformer', 'model'] = 'SentenceTransformers'\n",
    "df.loc[df['model'] == 'CliBERT', 'model'] = 'ClinicalBERT'\n",
    "\n",
    "df_base = df.copy()\n",
    "df_abl = df.copy()\n",
    "\n",
    "# remove first record from data\n",
    "df_base.drop(df_base[df_base.model.str.contains(\"Ablation\")].index, inplace=True)\n",
    "df_base.drop(df_base[(df_base.model.str.contains(\"baseline\")==False) & (df_base.model.str.contains(\"BioSentVec\")==False)].index, inplace=True)\n",
    "#df_base.drop(df_base[df_base.model.str.contains(\"BioSentVec\")==False].index, inplace=True)\n",
    "df_abl.drop(df_abl[df_abl.model.str.contains(\"Ablation\")==False].index, inplace=True)\n",
    "df_abl_nochart = df_abl.copy()\n",
    "df_abl_chart = df_abl.copy()\n",
    "\n",
    "df_abl_chart.drop(df_abl_chart[df_abl_chart.model.str.contains(\"no chart\")].index, inplace=True)\n",
    "df_abl_nochart.drop(df_abl_nochart[df_abl_nochart.model.str.contains(\"no chart\")==False].index, inplace=True)"
   ]
  },
  {
   "cell_type": "code",
   "execution_count": 64,
   "id": "e8b201e6-4db4-4287-b5f2-bdeedba2ea24",
   "metadata": {
    "execution": {
     "iopub.execute_input": "2022-09-17T08:31:10.564440Z",
     "iopub.status.busy": "2022-09-17T08:31:10.564354Z",
     "iopub.status.idle": "2022-09-17T08:31:10.568378Z",
     "shell.execute_reply": "2022-09-17T08:31:10.568091Z",
     "shell.execute_reply.started": "2022-09-17T08:31:10.564429Z"
    },
    "tags": []
   },
   "outputs": [
    {
     "data": {
      "text/html": [
       "<div>\n",
       "<style scoped>\n",
       "    .dataframe tbody tr th:only-of-type {\n",
       "        vertical-align: middle;\n",
       "    }\n",
       "\n",
       "    .dataframe tbody tr th {\n",
       "        vertical-align: top;\n",
       "    }\n",
       "\n",
       "    .dataframe thead th {\n",
       "        text-align: right;\n",
       "    }\n",
       "</style>\n",
       "<table border=\"1\" class=\"dataframe\">\n",
       "  <thead>\n",
       "    <tr style=\"text-align: right;\">\n",
       "      <th></th>\n",
       "      <th>model</th>\n",
       "      <th>val/events_to_notes_R@10</th>\n",
       "      <th>val/notes_to_events_R@10</th>\n",
       "    </tr>\n",
       "  </thead>\n",
       "  <tbody>\n",
       "    <tr>\n",
       "      <th>0</th>\n",
       "      <td>BioSentVec</td>\n",
       "      <td>0.654615</td>\n",
       "      <td>0.668173</td>\n",
       "    </tr>\n",
       "    <tr>\n",
       "      <th>9</th>\n",
       "      <td>BERT (baseline)</td>\n",
       "      <td>0.341817</td>\n",
       "      <td>0.342769</td>\n",
       "    </tr>\n",
       "  </tbody>\n",
       "</table>\n",
       "</div>"
      ],
      "text/plain": [
       "             model  val/events_to_notes_R@10  val/notes_to_events_R@10\n",
       "0       BioSentVec                  0.654615                  0.668173\n",
       "9  BERT (baseline)                  0.341817                  0.342769"
      ]
     },
     "execution_count": 64,
     "metadata": {},
     "output_type": "execute_result"
    }
   ],
   "source": [
    "df_base"
   ]
  },
  {
   "cell_type": "code",
   "execution_count": 65,
   "id": "7334fda4-3588-4975-97d7-2151fd357fc8",
   "metadata": {
    "execution": {
     "iopub.execute_input": "2022-09-17T08:31:10.568808Z",
     "iopub.status.busy": "2022-09-17T08:31:10.568721Z",
     "iopub.status.idle": "2022-09-17T08:31:10.572766Z",
     "shell.execute_reply": "2022-09-17T08:31:10.572482Z",
     "shell.execute_reply.started": "2022-09-17T08:31:10.568797Z"
    },
    "tags": []
   },
   "outputs": [
    {
     "data": {
      "text/html": [
       "<div>\n",
       "<style scoped>\n",
       "    .dataframe tbody tr th:only-of-type {\n",
       "        vertical-align: middle;\n",
       "    }\n",
       "\n",
       "    .dataframe tbody tr th {\n",
       "        vertical-align: top;\n",
       "    }\n",
       "\n",
       "    .dataframe thead th {\n",
       "        text-align: right;\n",
       "    }\n",
       "</style>\n",
       "<table border=\"1\" class=\"dataframe\">\n",
       "  <thead>\n",
       "    <tr style=\"text-align: right;\">\n",
       "      <th></th>\n",
       "      <th>model</th>\n",
       "      <th>val/events_to_notes_R@10</th>\n",
       "      <th>val/notes_to_events_R@10</th>\n",
       "    </tr>\n",
       "  </thead>\n",
       "  <tbody>\n",
       "    <tr>\n",
       "      <th>1</th>\n",
       "      <td>BioSentVec Ablation: chart events &amp; discharge ...</td>\n",
       "      <td>0.540676</td>\n",
       "      <td>0.559467</td>\n",
       "    </tr>\n",
       "    <tr>\n",
       "      <th>5</th>\n",
       "      <td>BioSentVec Ablation: no chart events, non-disc...</td>\n",
       "      <td>0.415794</td>\n",
       "      <td>0.418173</td>\n",
       "    </tr>\n",
       "    <tr>\n",
       "      <th>11</th>\n",
       "      <td>BERT Ablation: chart events &amp; discharge notes</td>\n",
       "      <td>0.288059</td>\n",
       "      <td>0.290438</td>\n",
       "    </tr>\n",
       "    <tr>\n",
       "      <th>12</th>\n",
       "      <td>BERT Ablation: no chart events, non-discharge ...</td>\n",
       "      <td>0.129638</td>\n",
       "      <td>0.128211</td>\n",
       "    </tr>\n",
       "  </tbody>\n",
       "</table>\n",
       "</div>"
      ],
      "text/plain": [
       "                                                model  \\\n",
       "1   BioSentVec Ablation: chart events & discharge ...   \n",
       "5   BioSentVec Ablation: no chart events, non-disc...   \n",
       "11      BERT Ablation: chart events & discharge notes   \n",
       "12  BERT Ablation: no chart events, non-discharge ...   \n",
       "\n",
       "    val/events_to_notes_R@10  val/notes_to_events_R@10  \n",
       "1                   0.540676                  0.559467  \n",
       "5                   0.415794                  0.418173  \n",
       "11                  0.288059                  0.290438  \n",
       "12                  0.129638                  0.128211  "
      ]
     },
     "execution_count": 65,
     "metadata": {},
     "output_type": "execute_result"
    }
   ],
   "source": [
    "df_abl"
   ]
  },
  {
   "cell_type": "code",
   "execution_count": 66,
   "id": "78b147a9-bba4-4b00-9dc1-2a9bb4ba0b8d",
   "metadata": {
    "execution": {
     "iopub.execute_input": "2022-09-17T08:31:10.574108Z",
     "iopub.status.busy": "2022-09-17T08:31:10.573943Z",
     "iopub.status.idle": "2022-09-17T08:31:10.577900Z",
     "shell.execute_reply": "2022-09-17T08:31:10.577619Z",
     "shell.execute_reply.started": "2022-09-17T08:31:10.574096Z"
    },
    "tags": []
   },
   "outputs": [
    {
     "data": {
      "text/html": [
       "<div>\n",
       "<style scoped>\n",
       "    .dataframe tbody tr th:only-of-type {\n",
       "        vertical-align: middle;\n",
       "    }\n",
       "\n",
       "    .dataframe tbody tr th {\n",
       "        vertical-align: top;\n",
       "    }\n",
       "\n",
       "    .dataframe thead th {\n",
       "        text-align: right;\n",
       "    }\n",
       "</style>\n",
       "<table border=\"1\" class=\"dataframe\">\n",
       "  <thead>\n",
       "    <tr style=\"text-align: right;\">\n",
       "      <th></th>\n",
       "      <th>model</th>\n",
       "      <th>val/events_to_notes_R@10</th>\n",
       "      <th>val/notes_to_events_R@10</th>\n",
       "    </tr>\n",
       "  </thead>\n",
       "  <tbody>\n",
       "    <tr>\n",
       "      <th>1</th>\n",
       "      <td>BioSentVec Ablation: chart events &amp; discharge ...</td>\n",
       "      <td>0.540676</td>\n",
       "      <td>0.559467</td>\n",
       "    </tr>\n",
       "    <tr>\n",
       "      <th>11</th>\n",
       "      <td>BERT Ablation: chart events &amp; discharge notes</td>\n",
       "      <td>0.288059</td>\n",
       "      <td>0.290438</td>\n",
       "    </tr>\n",
       "  </tbody>\n",
       "</table>\n",
       "</div>"
      ],
      "text/plain": [
       "                                                model  \\\n",
       "1   BioSentVec Ablation: chart events & discharge ...   \n",
       "11      BERT Ablation: chart events & discharge notes   \n",
       "\n",
       "    val/events_to_notes_R@10  val/notes_to_events_R@10  \n",
       "1                   0.540676                  0.559467  \n",
       "11                  0.288059                  0.290438  "
      ]
     },
     "execution_count": 66,
     "metadata": {},
     "output_type": "execute_result"
    }
   ],
   "source": [
    "df_abl_chart"
   ]
  },
  {
   "cell_type": "code",
   "execution_count": 67,
   "id": "3298b189-ed9f-4ac2-ab2c-8720d1f52ed1",
   "metadata": {
    "execution": {
     "iopub.execute_input": "2022-09-17T08:31:10.578341Z",
     "iopub.status.busy": "2022-09-17T08:31:10.578255Z",
     "iopub.status.idle": "2022-09-17T08:31:10.738477Z",
     "shell.execute_reply": "2022-09-17T08:31:10.738268Z",
     "shell.execute_reply.started": "2022-09-17T08:31:10.578330Z"
    },
    "tags": []
   },
   "outputs": [
    {
     "name": "stdout",
     "output_type": "stream",
     "text": [
      "[-0.00459994]\n",
      "[[1.02423642]]\n",
      "0.9976367271738322\n"
     ]
    },
    {
     "data": {
      "image/png": "[encoded data removed]",
      "text/plain": [
       "<Figure size 864x576 with 1 Axes>"
      ]
     },
     "metadata": {
      "needs_background": "light"
     },
     "output_type": "display_data"
    }
   ],
   "source": [
    "import matplotlib.lines as mlines\n",
    "\n",
    "# from sklearn.linear_model import LinearRegression\n",
    "# x = df['val/events_to_notes_R@10'].values.reshape(-1, 1)  # iloc[:, 1] is the column of X\n",
    "# y = df['val/notes_to_events_R@10'].values.reshape(-1, 1)  # df.iloc[:, 4] is the column of Y\n",
    "# linear_regressor = LinearRegression()\n",
    "# model = linear_regressor.fit(x, y)\n",
    "# y_pred = model.predict(x)\n",
    "\n",
    "marker_orig = mlines.Line2D([], [], color='gray', marker='*', linestyle='None',\n",
    "                          markersize=10, label='CNEP')\n",
    "marker_dot = mlines.Line2D([], [], color='gray', marker='+', linestyle='None',\n",
    "                          markersize=10, label='Ablation w/o Chart Events')\n",
    "marker_plus = mlines.Line2D([], [], color='gray', marker='o', linestyle='None',\n",
    "                          markersize=10, label='Ablation w/o Pre-discharge Notes')\n",
    "\n",
    "\n",
    "#plt.scatter(X, Y)\n",
    "colors=['C0', 'C1']\n",
    "ax = df_base.plot.scatter(x='val/events_to_notes_R@10', y='val/notes_to_events_R@10', s=200, marker='*', color=colors)\n",
    "df_abl_nochart.plot.scatter(ax=ax,x='val/events_to_notes_R@10', y='val/notes_to_events_R@10',s=100, marker='+', color=colors)\n",
    "df_abl_chart.plot.scatter(ax=ax,x='val/events_to_notes_R@10', y='val/notes_to_events_R@10',s=100, marker='o', color=colors)\n",
    "#plt.plot(x, y_pred, color='red')\n",
    "#ax.set_xlabel(\"Recall at top-k results of all evaluated models, where $k \\in \\{1,5,10\\}.$\")\n",
    "#ax.set_ylabel(\"Recall@top-k\")\n",
    "ax.set_title(\"Ablation Studies: Comparison of Results\")\n",
    "\n",
    "cmap = dict(zip(df_base.model, colors))\n",
    "patches = [Patch(color=v, label=k) for k, v in cmap.items()]\n",
    "#plt.legend(handles=patches, bbox_to_anchor=(0.6, 0.8), loc='center left', borderaxespad=0)\n",
    "plt.legend(handles=patches + [marker_orig, marker_dot, marker_plus], loc='lower right', borderaxespad=0)\n",
    "#plt.legend()\n",
    "plt.tight_layout()\n",
    "plt.grid()\n",
    "\n",
    "format_axes(ax)\n",
    "plt.savefig(\"plots/ablation_studies.pdf\")\n",
    "# plt.show()\n",
    "\n",
    "print(linear_regressor.intercept_)\n",
    "print(linear_regressor.coef_)\n",
    "print(model.score(x, y))"
   ]
  },
  {
   "cell_type": "code",
   "execution_count": null,
   "id": "b563e9ff-78fa-479f-b1f6-a4128f9a6b16",
   "metadata": {},
   "outputs": [],
   "source": []
  }
 ],
 "metadata": {
  "kernelspec": {
   "display_name": "Python 3 (ipykernel)",
   "language": "python",
   "name": "python3"
  },
  "language_info": {
   "codemirror_mode": {
    "name": "ipython",
    "version": 3
   },
   "file_extension": ".py",
   "mimetype": "text/x-python",
   "name": "python",
   "nbconvert_exporter": "python",
   "pygments_lexer": "ipython3",
   "version": "3.8.12"
  }
 },
 "nbformat": 4,
 "nbformat_minor": 5
}
