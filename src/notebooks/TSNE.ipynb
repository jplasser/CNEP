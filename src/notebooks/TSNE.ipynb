{
 "cells": [
  {
   "cell_type": "code",
   "execution_count": null,
   "id": "369a6305-d0e7-4dc6-adc1-46d4ed9c1ad7",
   "metadata": {
    "tags": []
   },
   "outputs": [],
   "source": [
    "from sklearn.manifold import TSNE\n",
    "from sklearn.datasets import load_iris\n",
    "from keras.datasets import mnist\n",
    "from numpy import reshape\n",
    "import numpy as np\n",
    "import seaborn as sns\n",
    "import pandas as pd  \n",
    "from tqdm import tqdm\n",
    "import matplotlib.pyplot as plt"
   ]
  },
  {
   "cell_type": "code",
   "execution_count": null,
   "id": "68e9ffea-c6e1-4c61-82e7-00047aa2a38a",
   "metadata": {
    "tags": []
   },
   "outputs": [],
   "source": [
    "iris = load_iris()\n",
    "x = iris.data\n",
    "y = iris.target "
   ]
  },
  {
   "cell_type": "code",
   "execution_count": null,
   "id": "eb252535-ca6d-423a-aa04-326bf5c60462",
   "metadata": {
    "tags": []
   },
   "outputs": [],
   "source": [
    "tsne = TSNE(n_components=2, verbose=1, random_state=123)\n",
    "z = tsne.fit_transform(x) "
   ]
  },
  {
   "cell_type": "code",
   "execution_count": null,
   "id": "44819e18-ecb6-48e3-8254-1f7a59be8f8f",
   "metadata": {
    "tags": []
   },
   "outputs": [],
   "source": [
    "df = pd.DataFrame()\n",
    "df[\"y\"] = y\n",
    "df[\"comp-1\"] = z[:,0]\n",
    "df[\"comp-2\"] = z[:,1]\n",
    "\n",
    "sns.scatterplot(x=\"comp-1\", y=\"comp-2\", hue=df.y.tolist(),\n",
    "                palette=sns.color_palette(\"hls\", 3),\n",
    "                data=df).set(title=\"Iris data T-SNE projection\") "
   ]
  },
  {
   "cell_type": "code",
   "execution_count": null,
   "id": "d0434976-8fa0-42c8-acbd-3d454c8a0eff",
   "metadata": {
    "tags": []
   },
   "outputs": [],
   "source": [
    "(x_train, y_train), (_ , _) = mnist.load_data('C:\\\\Users\\\\lrcuplj\\\\Downloads\\\\mnist.npz')\n",
    "x_train = x_train[:3000]\n",
    "y_train = y_train[:3000]\n",
    "print(x_train.shape)"
   ]
  },
  {
   "cell_type": "code",
   "execution_count": null,
   "id": "122f9b73-87d0-4a05-a86f-3501345343e0",
   "metadata": {
    "tags": []
   },
   "outputs": [],
   "source": [
    "print(x_train.shape)\n",
    "x_mnist = reshape(x_train, [x_train.shape[0], x_train.shape[1]*x_train.shape[2]])\n",
    "print(x_mnist.shape)"
   ]
  },
  {
   "cell_type": "code",
   "execution_count": null,
   "id": "5a67ece5-544e-4420-9797-57e59bb45133",
   "metadata": {
    "tags": []
   },
   "outputs": [],
   "source": [
    "tsne = TSNE(n_components=2, verbose=1, random_state=123)\n",
    "z = tsne.fit_transform(x_mnist)\n",
    "df = pd.DataFrame()\n",
    "df[\"y\"] = y_train\n",
    "df[\"comp-1\"] = z[:,0]\n",
    "df[\"comp-2\"] = z[:,1]\n",
    "\n",
    "sns.scatterplot(x=\"comp-1\", y=\"comp-2\", hue=df.y.tolist(),\n",
    "                palette=sns.color_palette(\"hls\", 10),\n",
    "                data=df).set(title=\"MNIST data T-SNE projection\")\n"
   ]
  },
  {
   "cell_type": "code",
   "execution_count": null,
   "id": "f833e40f-4b5c-469e-a3b2-cc79c68f19f6",
   "metadata": {
    "tags": []
   },
   "outputs": [],
   "source": []
  },
  {
   "cell_type": "code",
   "execution_count": null,
   "id": "d26ff1a3-da59-4d6f-b9e0-f4866fc17e41",
   "metadata": {
    "tags": []
   },
   "outputs": [],
   "source": [
    "import pickle\n",
    "\n",
    "df = pickle.load(open('/home/thetaphipsi/MasterAI/src/CNEP/src/data/mimic3/full_train_data.pickle', 'rb'))"
   ]
  },
  {
   "cell_type": "code",
   "execution_count": null,
   "id": "299bd096-4403-40cf-95c7-01f7788df4fd",
   "metadata": {
    "tags": []
   },
   "outputs": [],
   "source": [
    "df.keys(), len(df['labels'])"
   ]
  },
  {
   "cell_type": "code",
   "execution_count": null,
   "id": "8d13d243-40dd-47ad-ab9d-b1d93fe42f9c",
   "metadata": {
    "tags": []
   },
   "outputs": [],
   "source": [
    "for hour in tqdm(range(0,48)):\n",
    "    X = df['inputs']\n",
    "    X = X[:, hour, :]\n",
    "    n = len(df['labels'])\n",
    "    X = X.reshape(n, -1)\n",
    "    #X = X.mean(axis=1)[:,:90]\n",
    "    y = df['labels']\n",
    "    X.shape, y.shape\n",
    "\n",
    "    tsne = TSNE(n_components=2, verbose=0, perplexity=30, learning_rate=10, n_iter=10000, init='pca', random_state=123)\n",
    "    z = tsne.fit_transform(X)\n",
    "\n",
    "    df_ = pd.DataFrame()\n",
    "    df_[\"y\"] = y\n",
    "    df_[\"comp1\"] = z[:,0]\n",
    "    df_[\"comp2\"] = z[:,1]\n",
    "\n",
    "    sns.set(rc={'figure.figsize':(16,12)})\n",
    "    sns_plot = sns.scatterplot(x=\"comp1\", y=\"comp2\", hue=df_.y.tolist(),\n",
    "                    palette=sns.color_palette(\"rocket\", 2),\n",
    "                    data=df_)\n",
    "    sns_plot.set(title=f\"MIMIC-III train data T-SNE projection hour {hour+1} of 48.\")\n",
    "    fig = sns_plot.get_figure()\n",
    "    fig.savefig(f\"tsne_plot_{hour}.png\")\n",
    "    plt.show()"
   ]
  },
  {
   "cell_type": "code",
   "execution_count": null,
   "id": "bf22fa96-9a4c-422b-95bd-78f5152b50e5",
   "metadata": {},
   "outputs": [],
   "source": []
  },
  {
   "cell_type": "code",
   "execution_count": null,
   "id": "302ebb9d-e106-49c6-9dd0-0161305431ec",
   "metadata": {
    "tags": []
   },
   "outputs": [],
   "source": [
    "dfX = pd.DataFrame(X)"
   ]
  },
  {
   "cell_type": "code",
   "execution_count": null,
   "id": "80f2435b-4da5-45b3-849d-e44a6434e7b6",
   "metadata": {
    "tags": []
   },
   "outputs": [],
   "source": [
    "dfX.to_csv('X.tsv', index=False, sep='\\t')"
   ]
  },
  {
   "cell_type": "code",
   "execution_count": null,
   "id": "bccccb30-ab5b-4ffe-957d-50968a143762",
   "metadata": {
    "tags": []
   },
   "outputs": [],
   "source": [
    "dfy = pd.DataFrame(y)"
   ]
  },
  {
   "cell_type": "code",
   "execution_count": null,
   "id": "7683a8c9-ab2c-4330-8f4c-3710494b9819",
   "metadata": {
    "tags": []
   },
   "outputs": [],
   "source": [
    "dfy.to_csv('y.tsv', index=False, sep='\\t')"
   ]
  },
  {
   "cell_type": "code",
   "execution_count": null,
   "id": "c76daafe-1330-47c8-9c60-e5bc2401f76f",
   "metadata": {
    "tags": []
   },
   "outputs": [],
   "source": [
    "dfy.value_counts()"
   ]
  },
  {
   "cell_type": "code",
   "execution_count": null,
   "id": "e92bec6c-53a9-45af-b319-e8e7d33216ed",
   "metadata": {
    "tags": []
   },
   "outputs": [],
   "source": [
    "dfX"
   ]
  },
  {
   "cell_type": "code",
   "execution_count": null,
   "id": "4912e7a2-06cd-4fad-8754-cff6bd145424",
   "metadata": {},
   "outputs": [],
   "source": []
  }
 ],
 "metadata": {
  "kernelspec": {
   "display_name": "Python 3 (ipykernel)",
   "language": "python",
   "name": "python3"
  },
  "language_info": {
   "codemirror_mode": {
    "name": "ipython",
    "version": 3
   },
   "file_extension": ".py",
   "mimetype": "text/x-python",
   "name": "python",
   "nbconvert_exporter": "python",
   "pygments_lexer": "ipython3",
   "version": "3.8.12"
  }
 },
 "nbformat": 4,
 "nbformat_minor": 5
}
