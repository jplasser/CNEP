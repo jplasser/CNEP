{
 "cells": [
  {
   "cell_type": "code",
   "execution_count": 88,
   "id": "19b7c0ae-2799-4f7c-8a8d-43212c7d3472",
   "metadata": {
    "execution": {
     "iopub.execute_input": "2021-11-27T13:20:29.221986Z",
     "iopub.status.busy": "2021-11-27T13:20:29.218191Z",
     "iopub.status.idle": "2021-11-27T13:20:29.306156Z",
     "shell.execute_reply": "2021-11-27T13:20:29.300055Z",
     "shell.execute_reply.started": "2021-11-27T13:20:29.221777Z"
    },
    "tags": []
   },
   "outputs": [],
   "source": [
    "import pandas as pd\n",
    "import numpy as np\n",
    "import pickle\n",
    "from torch.utils.data import Dataset\n",
    "\n",
    "BASEDIR_MIMIC = '/Volumes/ExternalData/Data/mimiciii/1.4'"
   ]
  },
  {
   "cell_type": "code",
   "execution_count": 89,
   "id": "2828ef83-8637-41b3-83c9-2a73084c3f71",
   "metadata": {
    "execution": {
     "iopub.execute_input": "2021-11-27T13:20:30.517189Z",
     "iopub.status.busy": "2021-11-27T13:20:30.516843Z",
     "iopub.status.idle": "2021-11-27T13:20:30.550784Z",
     "shell.execute_reply": "2021-11-27T13:20:30.549978Z",
     "shell.execute_reply.started": "2021-11-27T13:20:30.517147Z"
    },
    "tags": []
   },
   "outputs": [],
   "source": [
    "class MimicDataSet(Dataset):\n",
    "    def __init__(self, dataset='train_data'):\n",
    "        self.dataset = dataset\n",
    "        self.df = pickle.load(open(f'./full_{self.dataset}.pickle', 'rb'))\n",
    "        self.inputs = self.df['inputs']\n",
    "        self.labels = self.df['labels']\n",
    "        self.notes = self.df['notes']\n",
    "\n",
    "    def __len__(self):\n",
    "        return len(self.labels)\n",
    "\n",
    "    def __getitem__(self, idx):\n",
    "        input = self.inputs[idx]\n",
    "        label = self.labels[idx]\n",
    "        note  = self.notes[idx]\n",
    "        return input, label, note\n",
    "        "
   ]
  },
  {
   "cell_type": "code",
   "execution_count": 90,
   "id": "2c19ac46-a89f-4311-8002-498b65444d0a",
   "metadata": {
    "execution": {
     "iopub.execute_input": "2021-11-27T13:20:31.145574Z",
     "iopub.status.busy": "2021-11-27T13:20:31.145218Z",
     "iopub.status.idle": "2021-11-27T13:20:52.849547Z",
     "shell.execute_reply": "2021-11-27T13:20:52.846679Z",
     "shell.execute_reply.started": "2021-11-27T13:20:31.145538Z"
    },
    "tags": []
   },
   "outputs": [],
   "source": [
    "train_data = MimicDataSet('train_data')\n",
    "test_data = MimicDataSet('test_data')\n",
    "val_data = MimicDataSet('val_data')"
   ]
  },
  {
   "cell_type": "code",
   "execution_count": 97,
   "id": "9a001fe5-9a87-4de2-a2e4-5ccc85984ae3",
   "metadata": {
    "execution": {
     "iopub.execute_input": "2021-11-27T21:03:07.363811Z",
     "iopub.status.busy": "2021-11-27T21:03:07.363071Z",
     "iopub.status.idle": "2021-11-27T21:03:07.383669Z",
     "shell.execute_reply": "2021-11-27T21:03:07.382284Z",
     "shell.execute_reply.started": "2021-11-27T21:03:07.363739Z"
    },
    "tags": []
   },
   "outputs": [],
   "source": [
    "from torch.utils.data import DataLoader\n",
    "\n",
    "batch_size = 32\n",
    "\n",
    "train_dataloader = DataLoader(train_data, batch_size=batch_size, shuffle=True)\n",
    "test_dataloader = DataLoader(test_data, batch_size=batch_size, shuffle=False)\n",
    "val_dataloader = DataLoader(val_data, batch_size=batch_size, shuffle=False)"
   ]
  },
  {
   "cell_type": "code",
   "execution_count": 98,
   "id": "38f5880b-8139-4bd1-aaf3-4f86a6d903c9",
   "metadata": {
    "execution": {
     "iopub.execute_input": "2021-11-27T21:03:09.174510Z",
     "iopub.status.busy": "2021-11-27T21:03:09.174182Z",
     "iopub.status.idle": "2021-11-27T21:03:09.444198Z",
     "shell.execute_reply": "2021-11-27T21:03:09.443365Z",
     "shell.execute_reply.started": "2021-11-27T21:03:09.174477Z"
    },
    "tags": []
   },
   "outputs": [],
   "source": [
    "train_features, train_labels, train_notes = next(iter(train_dataloader))\n",
    "test_features, test_labels, test_notes = next(iter(test_dataloader))\n",
    "val_features, val_labels, val_notes = next(iter(val_dataloader))"
   ]
  },
  {
   "cell_type": "code",
   "execution_count": 99,
   "id": "dd291356-b80b-452a-b393-08f850aa510a",
   "metadata": {
    "execution": {
     "iopub.execute_input": "2021-11-27T21:03:10.282273Z",
     "iopub.status.busy": "2021-11-27T21:03:10.281930Z",
     "iopub.status.idle": "2021-11-27T21:03:10.288549Z",
     "shell.execute_reply": "2021-11-27T21:03:10.287687Z",
     "shell.execute_reply.started": "2021-11-27T21:03:10.282239Z"
    },
    "tags": []
   },
   "outputs": [
    {
     "data": {
      "text/plain": [
       "(torch.Size([32, 48, 390]), torch.Size([32]), 32)"
      ]
     },
     "execution_count": 99,
     "metadata": {},
     "output_type": "execute_result"
    }
   ],
   "source": [
    "train_features.shape, train_labels.shape, len(train_notes)"
   ]
  },
  {
   "cell_type": "code",
   "execution_count": 100,
   "id": "02db9dc3-6d92-460e-a419-4af64a4a4507",
   "metadata": {
    "execution": {
     "iopub.execute_input": "2021-11-27T21:03:12.497872Z",
     "iopub.status.busy": "2021-11-27T21:03:12.497498Z",
     "iopub.status.idle": "2021-11-27T21:03:12.503350Z",
     "shell.execute_reply": "2021-11-27T21:03:12.502500Z",
     "shell.execute_reply.started": "2021-11-27T21:03:12.497845Z"
    },
    "tags": []
   },
   "outputs": [
    {
     "data": {
      "text/plain": [
       "(torch.Size([32, 48, 390]), torch.Size([32]), 32)"
      ]
     },
     "execution_count": 100,
     "metadata": {},
     "output_type": "execute_result"
    }
   ],
   "source": [
    "test_features.shape, test_labels.shape, len(test_notes)"
   ]
  },
  {
   "cell_type": "code",
   "execution_count": 101,
   "id": "5efc3674-1e38-4927-a5de-604fc9e218a2",
   "metadata": {
    "execution": {
     "iopub.execute_input": "2021-11-27T21:03:13.724277Z",
     "iopub.status.busy": "2021-11-27T21:03:13.723956Z",
     "iopub.status.idle": "2021-11-27T21:03:13.738350Z",
     "shell.execute_reply": "2021-11-27T21:03:13.737524Z",
     "shell.execute_reply.started": "2021-11-27T21:03:13.724242Z"
    },
    "tags": []
   },
   "outputs": [
    {
     "data": {
      "text/plain": [
       "(torch.Size([32, 48, 390]), torch.Size([32]), 32)"
      ]
     },
     "execution_count": 101,
     "metadata": {},
     "output_type": "execute_result"
    }
   ],
   "source": [
    "val_features.shape, val_labels.shape, len(val_notes)"
   ]
  },
  {
   "cell_type": "code",
   "execution_count": 102,
   "id": "4e955eb2-fed8-4fd2-9663-b7a1611ba6de",
   "metadata": {
    "execution": {
     "iopub.execute_input": "2021-11-27T21:03:14.622021Z",
     "iopub.status.busy": "2021-11-27T21:03:14.621679Z",
     "iopub.status.idle": "2021-11-27T21:03:14.635275Z",
     "shell.execute_reply": "2021-11-27T21:03:14.634502Z",
     "shell.execute_reply.started": "2021-11-27T21:03:14.621984Z"
    },
    "tags": []
   },
   "outputs": [
    {
     "data": {
      "text/plain": [
       "(15018, 4711, 4695)"
      ]
     },
     "execution_count": 102,
     "metadata": {},
     "output_type": "execute_result"
    }
   ],
   "source": [
    "len(train_data), len(test_data), len(val_data)"
   ]
  },
  {
   "cell_type": "code",
   "execution_count": 110,
   "id": "b66d6799-9e54-45a7-b1c2-603a6d322942",
   "metadata": {
    "execution": {
     "iopub.execute_input": "2021-11-27T21:04:20.645027Z",
     "iopub.status.busy": "2021-11-27T21:04:20.644698Z",
     "iopub.status.idle": "2021-11-27T21:04:20.651004Z",
     "shell.execute_reply": "2021-11-27T21:04:20.650282Z",
     "shell.execute_reply.started": "2021-11-27T21:04:20.644994Z"
    },
    "tags": []
   },
   "outputs": [
    {
     "data": {
      "text/plain": [
       "tensor([0, 0, 0, 0, 0, 1, 0, 0, 0, 0, 0, 1, 0, 0, 1, 0, 0, 0, 0, 1, 0, 0, 0, 0,\n",
       "        0, 0, 0, 0, 0, 0, 0, 0])"
      ]
     },
     "execution_count": 110,
     "metadata": {},
     "output_type": "execute_result"
    }
   ],
   "source": [
    "test_labels"
   ]
  },
  {
   "cell_type": "code",
   "execution_count": 132,
   "id": "61269334-51a1-49c9-83b9-e404352a3a02",
   "metadata": {
    "execution": {
     "iopub.execute_input": "2021-11-27T21:10:55.312428Z",
     "iopub.status.busy": "2021-11-27T21:10:55.312127Z",
     "iopub.status.idle": "2021-11-27T21:10:57.154966Z",
     "shell.execute_reply": "2021-11-27T21:10:57.154310Z",
     "shell.execute_reply.started": "2021-11-27T21:10:55.312395Z"
    },
    "tags": []
   },
   "outputs": [
    {
     "name": "stdout",
     "output_type": "stream",
     "text": [
      "Ratio labels distribution=0.50\n"
     ]
    }
   ],
   "source": [
    "s = 0\n",
    "for train_features, train_labels, train_notes in train_dataloader:\n",
    "    s += train_labels.sum()\n",
    "    \n",
    "print(f\"Ratio labels distribution={s/len(train_data):0.2f}\")"
   ]
  },
  {
   "cell_type": "code",
   "execution_count": 133,
   "id": "5fce99c9-05f9-40b2-98c3-43006a26d3ad",
   "metadata": {
    "execution": {
     "iopub.execute_input": "2021-11-27T21:10:57.157119Z",
     "iopub.status.busy": "2021-11-27T21:10:57.156804Z",
     "iopub.status.idle": "2021-11-27T21:10:57.854287Z",
     "shell.execute_reply": "2021-11-27T21:10:57.853482Z",
     "shell.execute_reply.started": "2021-11-27T21:10:57.157081Z"
    },
    "tags": []
   },
   "outputs": [
    {
     "name": "stdout",
     "output_type": "stream",
     "text": [
      "Ratio labels distribution=0.20\n"
     ]
    }
   ],
   "source": [
    "s = 0\n",
    "for test_features, test_labels, test_notes in test_dataloader:\n",
    "    s += test_labels.sum()\n",
    "    \n",
    "print(f\"Ratio labels distribution={s/len(test_data):0.2f}\")"
   ]
  },
  {
   "cell_type": "code",
   "execution_count": 134,
   "id": "66f532de-eed0-432c-9725-b0e4855bafae",
   "metadata": {
    "execution": {
     "iopub.execute_input": "2021-11-27T21:10:57.855859Z",
     "iopub.status.busy": "2021-11-27T21:10:57.855314Z",
     "iopub.status.idle": "2021-11-27T21:10:58.473999Z",
     "shell.execute_reply": "2021-11-27T21:10:58.473342Z",
     "shell.execute_reply.started": "2021-11-27T21:10:57.855830Z"
    },
    "tags": []
   },
   "outputs": [
    {
     "name": "stdout",
     "output_type": "stream",
     "text": [
      "Ratio labels distribution=0.19\n"
     ]
    }
   ],
   "source": [
    "s = 0\n",
    "for val_features, val_labels, val_notes in val_dataloader:\n",
    "    s += val_labels.sum()\n",
    "    \n",
    "print(f\"Ratio labels distribution={s/len(val_data):0.2f}\")"
   ]
  },
  {
   "cell_type": "code",
   "execution_count": null,
   "id": "3ac3038f-5efd-4664-86d6-10a1793edb32",
   "metadata": {},
   "outputs": [],
   "source": []
  }
 ],
 "metadata": {
  "kernelspec": {
   "display_name": "Python 3 (ipykernel)",
   "language": "python",
   "name": "python3"
  },
  "language_info": {
   "codemirror_mode": {
    "name": "ipython",
    "version": 3
   },
   "file_extension": ".py",
   "mimetype": "text/x-python",
   "name": "python",
   "nbconvert_exporter": "python",
   "pygments_lexer": "ipython3",
   "version": "3.8.12"
  }
 },
 "nbformat": 4,
 "nbformat_minor": 5
}
