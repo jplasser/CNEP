{
 "cells": [
  {
   "cell_type": "code",
   "execution_count": 1,
   "id": "a55ad859-197a-4509-b8c5-6cf7ee8a9cd8",
   "metadata": {
    "execution": {
     "iopub.execute_input": "2022-07-03T10:15:18.023305Z",
     "iopub.status.busy": "2022-07-03T10:15:18.023042Z",
     "iopub.status.idle": "2022-07-03T10:15:18.376489Z",
     "shell.execute_reply": "2022-07-03T10:15:18.376098Z",
     "shell.execute_reply.started": "2022-07-03T10:15:18.023236Z"
    }
   },
   "outputs": [],
   "source": [
    "from scipy.stats import beta\n",
    "k = 20\n",
    "n = 400\n",
    "alpha = 0.05\n",
    "p_u, p_o = beta.ppf([alpha/2, 1 - alpha/2], [k, k + 1], [n - k + 1, n - k])\n",
    "p_u, p_o"
   ]
  },
  {
   "cell_type": "code",
   "execution_count": 2,
   "id": "65de02c3-049f-4795-9eb1-c9851b84a6f8",
   "metadata": {
    "execution": {
     "iopub.execute_input": "2022-07-03T10:15:27.156358Z",
     "iopub.status.busy": "2022-07-03T10:15:27.156225Z",
     "iopub.status.idle": "2022-07-03T10:15:27.161287Z",
     "shell.execute_reply": "2022-07-03T10:15:27.160886Z",
     "shell.execute_reply.started": "2022-07-03T10:15:27.156347Z"
    }
   },
   "outputs": [
    {
     "data": {
      "text/plain": [
       "(0.030805241143265938, 0.07616697275514255)"
      ]
     },
     "execution_count": 2,
     "metadata": {},
     "output_type": "execute_result"
    }
   ],
   "source": [
    "p_u, p_o"
   ]
  },
  {
   "cell_type": "code",
   "execution_count": 3,
   "id": "73ad047d-68d1-4b96-ad09-7b3f50cb86ee",
   "metadata": {
    "execution": {
     "iopub.execute_input": "2022-07-03T10:16:07.189136Z",
     "iopub.status.busy": "2022-07-03T10:16:07.188706Z",
     "iopub.status.idle": "2022-07-03T10:16:07.194286Z",
     "shell.execute_reply": "2022-07-03T10:16:07.193788Z",
     "shell.execute_reply.started": "2022-07-03T10:16:07.189113Z"
    }
   },
   "outputs": [
    {
     "data": {
      "text/plain": [
       "(0.025050273414613657, 0.040581687755107204)"
      ]
     },
     "execution_count": 3,
     "metadata": {},
     "output_type": "execute_result"
    }
   ],
   "source": [
    "#k = 20\n",
    "n = 2115\n",
    "p = 3.215/100\n",
    "k = p*n\n",
    "\n",
    "alpha = 0.05\n",
    "p_u, p_o = beta.ppf([alpha/2, 1 - alpha/2], [k, k + 1], [n - k + 1, n - k])\n",
    "p_u, p_o"
   ]
  },
  {
   "cell_type": "code",
   "execution_count": 10,
   "id": "853fb4cd-3db4-4324-95ee-df8a7d3b05db",
   "metadata": {
    "execution": {
     "iopub.execute_input": "2022-07-03T10:18:55.559152Z",
     "iopub.status.busy": "2022-07-03T10:18:55.558929Z",
     "iopub.status.idle": "2022-07-03T10:18:55.564588Z",
     "shell.execute_reply": "2022-07-03T10:18:55.564076Z",
     "shell.execute_reply.started": "2022-07-03T10:18:55.559126Z"
    },
    "tags": []
   },
   "outputs": [
    {
     "name": "stdout",
     "output_type": "stream",
     "text": [
      "23.370, 25.999\n",
      "51.213, 54.255\n",
      "64.002, 66.900\n"
     ]
    }
   ],
   "source": [
    "#k = 20\n",
    "n = 4204\n",
    "\n",
    "for p_ in [24.667, 52.736, 65.462]:\n",
    "    p = p_/100\n",
    "    k = p*n\n",
    "\n",
    "    alpha = 0.05\n",
    "    p_u, p_o = beta.ppf([alpha/2, 1 - alpha/2], [k, k + 1], [n - k + 1, n - k])\n",
    "    print(f\"{p_u*100:.3f}, {p_o*100:.3f}\")"
   ]
  },
  {
   "cell_type": "code",
   "execution_count": 11,
   "id": "9bf14b52-32a8-4d6b-83c2-06c8adb4aa4a",
   "metadata": {
    "execution": {
     "iopub.execute_input": "2022-07-03T10:20:09.890923Z",
     "iopub.status.busy": "2022-07-03T10:20:09.890706Z",
     "iopub.status.idle": "2022-07-03T10:20:09.895596Z",
     "shell.execute_reply": "2022-07-03T10:20:09.895194Z",
     "shell.execute_reply.started": "2022-07-03T10:20:09.890896Z"
    }
   },
   "outputs": [
    {
     "name": "stdout",
     "output_type": "stream",
     "text": [
      "[0.001, 0.132]\n",
      "[0.039, 0.277]\n",
      "[0.114, 0.437]\n"
     ]
    }
   ],
   "source": [
    "from scipy.stats import beta\n",
    "\n",
    "k = 1\n",
    "n = 4204\n",
    "alpha = 0.05\n",
    "\n",
    "for k in [1,5,10]:\n",
    "    p_u, p_o = beta.ppf([alpha/2, 1 - alpha/2], [k, k + 1], [n - k + 1, n - k])\n",
    "    print(f\"[{p_u*100:.3f}, {p_o*100:.3f}]\")"
   ]
  },
  {
   "cell_type": "code",
   "execution_count": null,
   "id": "7ef879c5-c55e-475a-9f5f-e51801555d0b",
   "metadata": {},
   "outputs": [],
   "source": []
  }
 ],
 "metadata": {
  "kernelspec": {
   "display_name": "Python 3 (ipykernel)",
   "language": "python",
   "name": "python3"
  },
  "language_info": {
   "codemirror_mode": {
    "name": "ipython",
    "version": 3
   },
   "file_extension": ".py",
   "mimetype": "text/x-python",
   "name": "python",
   "nbconvert_exporter": "python",
   "pygments_lexer": "ipython3",
   "version": "3.8.12"
  }
 },
 "nbformat": 4,
 "nbformat_minor": 5
}
