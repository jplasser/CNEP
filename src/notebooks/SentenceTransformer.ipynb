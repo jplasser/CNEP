{
 "cells": [
  {
   "cell_type": "code",
   "execution_count": 1,
   "id": "5a0fae5d-d2a4-4db3-99c7-0ddf59041396",
   "metadata": {
    "execution": {
     "iopub.execute_input": "2021-12-16T18:01:27.552900Z",
     "iopub.status.busy": "2021-12-16T18:01:27.552632Z",
     "iopub.status.idle": "2021-12-16T18:01:39.214320Z",
     "shell.execute_reply": "2021-12-16T18:01:39.213993Z",
     "shell.execute_reply.started": "2021-12-16T18:01:27.552826Z"
    },
    "tags": []
   },
   "outputs": [
    {
     "name": "stderr",
     "output_type": "stream",
     "text": [
      "Some weights of the model checkpoint at jamesmullenbach/CLIP_DNote_BERT_Context were not used when initializing BertModel: ['classifier.weight', 'classifier.bias']\n",
      "- This IS expected if you are initializing BertModel from the checkpoint of a model trained on another task or with another architecture (e.g. initializing a BertForSequenceClassification model from a BertForPreTraining model).\n",
      "- This IS NOT expected if you are initializing BertModel from the checkpoint of a model that you expect to be exactly identical (initializing a BertForSequenceClassification model from a BertForSequenceClassification model).\n"
     ]
    }
   ],
   "source": [
    "from sentence_transformers import SentenceTransformer, models\n",
    "#word_embedding_model = models.Transformer('bert-base-uncased')\n",
    "word_embedding_model = models.Transformer('jamesmullenbach/CLIP_DNote_BERT_Context')\n",
    "\n",
    "tokens = [\"[DOC]\", \"[QRY]\"]\n",
    "word_embedding_model.tokenizer.add_tokens(tokens, special_tokens=True)\n",
    "word_embedding_model.auto_model.resize_token_embeddings(len(word_embedding_model.tokenizer))\n",
    "\n",
    "pooling_model = models.Pooling(word_embedding_model.get_word_embedding_dimension())\n",
    "model = SentenceTransformer(modules=[word_embedding_model, pooling_model])"
   ]
  },
  {
   "cell_type": "code",
   "execution_count": 2,
   "id": "3903fe85-3cbe-42dc-b741-b2e75c52d804",
   "metadata": {
    "execution": {
     "iopub.execute_input": "2021-12-16T18:01:39.215106Z",
     "iopub.status.busy": "2021-12-16T18:01:39.214983Z",
     "iopub.status.idle": "2021-12-16T18:01:39.220469Z",
     "shell.execute_reply": "2021-12-16T18:01:39.220198Z",
     "shell.execute_reply.started": "2021-12-16T18:01:39.215093Z"
    },
    "tags": []
   },
   "outputs": [
    {
     "data": {
      "text/plain": [
       "SentenceTransformer(\n",
       "  (0): Transformer({'max_seq_length': 512, 'do_lower_case': False}) with Transformer model: BertModel \n",
       "  (1): Pooling({'word_embedding_dimension': 768, 'pooling_mode_cls_token': False, 'pooling_mode_mean_tokens': True, 'pooling_mode_max_tokens': False, 'pooling_mode_mean_sqrt_len_tokens': False})\n",
       ")"
      ]
     },
     "execution_count": 2,
     "metadata": {},
     "output_type": "execute_result"
    }
   ],
   "source": [
    "model"
   ]
  },
  {
   "cell_type": "code",
   "execution_count": null,
   "id": "70a6cfff-e831-4417-a7d7-ba3ca302318d",
   "metadata": {
    "tags": []
   },
   "outputs": [],
   "source": []
  },
  {
   "cell_type": "code",
   "execution_count": null,
   "id": "a5f5b34c-c4a5-4b79-b2ec-e37afa8eed2f",
   "metadata": {},
   "outputs": [],
   "source": []
  }
 ],
 "metadata": {
  "kernelspec": {
   "display_name": "Python 3 (ipykernel)",
   "language": "python",
   "name": "python3"
  },
  "language_info": {
   "codemirror_mode": {
    "name": "ipython",
    "version": 3
   },
   "file_extension": ".py",
   "mimetype": "text/x-python",
   "name": "python",
   "nbconvert_exporter": "python",
   "pygments_lexer": "ipython3",
   "version": "3.8.12"
  }
 },
 "nbformat": 4,
 "nbformat_minor": 5
}
