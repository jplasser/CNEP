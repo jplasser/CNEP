{
 "cells": [
  {
   "cell_type": "code",
   "execution_count": 1,
   "id": "0e0cdbf3",
   "metadata": {
    "tags": []
   },
   "outputs": [],
   "source": [
    "from sklearn.manifold import TSNE\n",
    "from numpy import reshape\n",
    "import numpy as np\n",
    "import seaborn as sns\n",
    "import pandas as pd  \n",
    "from tqdm import tqdm\n",
    "import matplotlib.pyplot as plt\n",
    "import umap\n",
    "from sklearn.preprocessing import StandardScaler\n",
    "import pickle\n",
    "import einops\n",
    "from numpy import linalg as LA"
   ]
  },
  {
   "cell_type": "code",
   "execution_count": 2,
   "id": "3a5bc4a6-ad02-4ee4-b4f5-5c2c6a9cdbc6",
   "metadata": {
    "tags": []
   },
   "outputs": [],
   "source": [
    "# https://stackoverflow.com/questions/53968004/how-to-silence-all-sklearn-warning\n",
    "import warnings\n",
    "warnings.filterwarnings('ignore') "
   ]
  },
  {
   "cell_type": "code",
   "execution_count": 3,
   "id": "c1ea131a-141a-498d-81fc-fe7527ed1743",
   "metadata": {
    "tags": []
   },
   "outputs": [
    {
     "name": "stdout",
     "output_type": "stream",
     "text": [
      "['embed']\n"
     ]
    },
    {
     "ename": "ValueError",
     "evalue": "list.remove(x): x not in list",
     "output_type": "error",
     "traceback": [
      "\u001b[0;31m---------------------------------------------------------------------------\u001b[0m",
      "\u001b[0;31mValueError\u001b[0m                                Traceback (most recent call last)",
      "\u001b[0;32m/var/folders/6p/bxnlvss50bs19f3950g4dfw00000gn/T/ipykernel_35887/3615788221.py\u001b[0m in \u001b[0;36m<module>\u001b[0;34m\u001b[0m\n\u001b[1;32m     12\u001b[0m \u001b[0;34m\u001b[0m\u001b[0m\n\u001b[1;32m     13\u001b[0m \u001b[0mprint\u001b[0m\u001b[0;34m(\u001b[0m\u001b[0mdatasets\u001b[0m\u001b[0;34m)\u001b[0m\u001b[0;34m\u001b[0m\u001b[0;34m\u001b[0m\u001b[0m\n\u001b[0;32m---> 14\u001b[0;31m \u001b[0mdatasets\u001b[0m\u001b[0;34m.\u001b[0m\u001b[0mremove\u001b[0m\u001b[0;34m(\u001b[0m\u001b[0;34m'CNEP'\u001b[0m\u001b[0;34m)\u001b[0m \u001b[0;31m# CNEP is an old variant, not used anymore\u001b[0m\u001b[0;34m\u001b[0m\u001b[0;34m\u001b[0m\u001b[0m\n\u001b[0m\u001b[1;32m     15\u001b[0m \u001b[0mdatasets\u001b[0m\u001b[0;34m\u001b[0m\u001b[0;34m\u001b[0m\u001b[0m\n",
      "\u001b[0;31mValueError\u001b[0m: list.remove(x): x not in list"
     ]
    }
   ],
   "source": [
    "import glob\n",
    "import regex as re\n",
    "\n",
    "files = glob.glob('../data/mimic3/new_extended_data_unique_embed_*.pickle')\n",
    "regex = r\"new_extended_data_unique_embed_(.*?).pickle\"\n",
    "\n",
    "test_str = \" \".join(files)\n",
    "matches = re.finditer(regex, test_str, re.MULTILINE)\n",
    "\n",
    "datasets = [match.groups()[0] for match in matches]\n",
    "datasets.sort()\n",
    "\n",
    "print(datasets)\n",
    "datasets.remove('CNEP') # CNEP is an old variant, not used anymore\n",
    "datasets"
   ]
  },
  {
   "cell_type": "code",
   "execution_count": null,
   "id": "c25a195f-ff38-411c-93cc-7a65c47e3124",
   "metadata": {
    "tags": []
   },
   "outputs": [],
   "source": [
    "dataset_map2name = { 'BERT': 'BERT',\n",
    "                     'BERT_chunked': 'BERT chunked',\n",
    "                     'BERT_large': 'BERT large',\n",
    "                     'BioBERT': 'BioBERT',\n",
    "                     'BioBERT_chunked': 'BioBERT chunked',\n",
    "                     'CliBERT_1m': 'Clinical BERT, one model',\n",
    "                     'CliBERT_1m_chunked': 'Clinical BERT, one model, chunked',\n",
    "                     'CliBERT_2m': 'Clinical BERT, two models',\n",
    "                     'CliBERT_2m_chunked': 'Clinical BERT, two models, chunked',\n",
    "                     'RoBERTa': 'RoBERTa',\n",
    "                     'RoBERTa_chunked': 'RoBERTa chunked',\n",
    "                     'ST_all-mpnet-base-v2': 'Sentence Transformer, basemodel: all-mpnet-base-v2',\n",
    "                     'ST_distilbert': 'Sentence Transformer, basemodel: distilbert',\n",
    "                     'ST_robertabase': 'Sentence Transformer, basemodel: robertabase',\n",
    "                     'ST_stsb-mpnet-base-v2': 'Sentence Transformer, basemodel: stsb-mpnet-base-v2',\n",
    "                     'd2v': 'Doc2Vec',\n",
    "                     's2v': 'Sent2Vec',\n",
    "                     's2v_chunked': 'Sent2Vec chunked'\n",
    "                   }"
   ]
  },
  {
   "cell_type": "code",
   "execution_count": null,
   "id": "9370e858-d73b-4cc5-bc17-c9bb0a81b70e",
   "metadata": {},
   "outputs": [],
   "source": [
    "def plot_scatter_with_colorbar(df_, color_palette, tsne=True):\n",
    "    sns.set(rc={'figure.figsize':(16,12)})\n",
    "    sns_plot = sns.scatterplot(x=\"comp1\", y=\"comp2\", hue=df_.y.tolist(),\n",
    "                    palette=sns.color_palette(color_palette, as_cmap=True), #sns.color_palette(\"rocket\", n_colors),\n",
    "                    data=df_)\n",
    "    plottype = 'T-SNE' if tsne else 'UMAP'\n",
    "    sns_plot.set(title=f\"{plottype} projection of MIMIC-III train data notes embeddings, model {dataset_map2name[dataset]}.\")\n",
    "\n",
    "    norm = plt.Normalize(df_.y.min(), df_.y.max())\n",
    "    sm = plt.cm.ScalarMappable(cmap=color_palette, norm=norm)\n",
    "    sm.set_array([])\n",
    "\n",
    "    plt.rcParams['axes.grid'] = False\n",
    "    #sns_plot.set_ylabel('n passengers')\n",
    "    sns_plot.get_legend().remove()\n",
    "    sns_plot.figure.colorbar(sm, label='Norm')\n",
    "\n",
    "    fig = sns_plot.get_figure()\n",
    "    fig.savefig(f\"./plots/plot_{dataset}_{plottype}.png\")\n",
    "    plt.show();"
   ]
  },
  {
   "cell_type": "markdown",
   "id": "7f1eb56d",
   "metadata": {
    "execution": {
     "iopub.execute_input": "2021-12-10T17:55:26.057581Z",
     "iopub.status.busy": "2021-12-10T17:55:26.057398Z",
     "iopub.status.idle": "2021-12-10T17:55:26.060970Z",
     "shell.execute_reply": "2021-12-10T17:55:26.060745Z",
     "shell.execute_reply.started": "2021-12-10T17:55:26.057559Z"
    },
    "tags": []
   },
   "source": [
    "# MIMIC embeddings data T-SNE and UMAP"
   ]
  },
  {
   "cell_type": "markdown",
   "id": "cb444ba6-7dd2-4c60-9cb9-456715ab94ed",
   "metadata": {},
   "source": [
    "## Plot all datasets and save plots to file"
   ]
  },
  {
   "cell_type": "code",
   "execution_count": null,
   "id": "afdd9473",
   "metadata": {
    "tags": []
   },
   "outputs": [],
   "source": [
    "maxn = None\n",
    "\n",
    "for dataset in datasets[-3:-2]:\n",
    "    print(dataset)\n",
    "    df = pickle.load(open(f'../data/mimic3/new_extended_data_unique_embed_{dataset}.pickle', 'rb'))\n",
    "    x1 = df['embeds']\n",
    "    x2 = df['embeds_events']\n",
    "    # y = df['labels']\n",
    "    X = np.concatenate([x1, x2])\n",
    "    y = LA.norm(X, axis=-1)\n",
    "\n",
    "    X = X[:maxn,:]\n",
    "    y = y[:maxn]\n",
    "    \n",
    "    # compute T-SNE projection\n",
    "    tsne = TSNE(n_components=2, verbose=0, init='pca', learning_rate='auto', )\n",
    "    z = tsne.fit_transform(X)\n",
    "    \n",
    "    # compute UMAP projection\n",
    "    reducer = umap.UMAP()\n",
    "    # scaled_X = StandardScaler().fit_transform(X)\n",
    "    embedding = reducer.fit_transform(X)\n",
    "    # embedding.shape, X.shape, y.shape\n",
    "    \n",
    "    df_ = pd.DataFrame()\n",
    "    df_[\"y\"] = y\n",
    "    df_[\"comp1\"] = z[:,0]\n",
    "    df_[\"comp2\"] = z[:,1]\n",
    "    color_palette = 'magma'\n",
    "    \n",
    "    plot_scatter_with_colorbar(df_, color_palette, True)\n",
    "    \n",
    "    df_[\"comp1\"] = embedding[:,0]\n",
    "    df_[\"comp2\"] = embedding[:,1]\n",
    "    \n",
    "    plot_scatter_with_colorbar(df_, color_palette, False)"
   ]
  },
  {
   "cell_type": "code",
   "execution_count": null,
   "id": "a88f4ba2-e5a6-4452-8b94-d5315ab5d162",
   "metadata": {},
   "outputs": [],
   "source": []
  }
 ],
 "metadata": {
  "kernelspec": {
   "display_name": "Python 3 (ipykernel)",
   "language": "python",
   "name": "python3"
  },
  "language_info": {
   "codemirror_mode": {
    "name": "ipython",
    "version": 3
   },
   "file_extension": ".py",
   "mimetype": "text/x-python",
   "name": "python",
   "nbconvert_exporter": "python",
   "pygments_lexer": "ipython3",
   "version": "3.8.12"
  }
 },
 "nbformat": 4,
 "nbformat_minor": 5
}
