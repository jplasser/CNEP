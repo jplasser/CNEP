{
 "cells": [
  {
   "cell_type": "code",
   "execution_count": 307,
   "id": "03755722-27c7-4802-9e14-6f0a4a5afba9",
   "metadata": {
    "execution": {
     "iopub.execute_input": "2021-12-17T18:43:30.784106Z",
     "iopub.status.busy": "2021-12-17T18:43:30.783552Z",
     "iopub.status.idle": "2021-12-17T18:43:30.786132Z",
     "shell.execute_reply": "2021-12-17T18:43:30.785869Z",
     "shell.execute_reply.started": "2021-12-17T18:43:30.784087Z"
    },
    "tags": []
   },
   "outputs": [],
   "source": [
    "# check if there are duplictaes in the clinical notes\n",
    "\n",
    "import numpy as np\n",
    "from collections import Counter"
   ]
  },
  {
   "cell_type": "code",
   "execution_count": 308,
   "id": "e0e3af6e-8653-47bf-b6c5-461cc22138a4",
   "metadata": {
    "execution": {
     "iopub.execute_input": "2021-12-17T18:43:31.214040Z",
     "iopub.status.busy": "2021-12-17T18:43:31.213779Z",
     "iopub.status.idle": "2021-12-17T18:43:34.833196Z",
     "shell.execute_reply": "2021-12-17T18:43:34.832831Z",
     "shell.execute_reply.started": "2021-12-17T18:43:31.214020Z"
    },
    "tags": []
   },
   "outputs": [],
   "source": [
    "import pickle\n",
    "\n",
    "df_train = pickle.load(open('/home/thetaphipsi/MasterAI/src/CNEP/src/data/mimic3/full_train_data.pickle', 'rb'))\n",
    "df_val = pickle.load(open('/home/thetaphipsi/MasterAI/src/CNEP/src/data/mimic3/full_val_data.pickle', 'rb'))\n",
    "df_test = pickle.load(open('/home/thetaphipsi/MasterAI/src/CNEP/src/data/mimic3/full_test_data.pickle', 'rb'))"
   ]
  },
  {
   "cell_type": "code",
   "execution_count": 415,
   "id": "80e1ffa2-4fa9-4639-a15d-b24b7155f5ee",
   "metadata": {
    "execution": {
     "iopub.execute_input": "2021-12-17T18:50:00.743269Z",
     "iopub.status.busy": "2021-12-17T18:50:00.742973Z",
     "iopub.status.idle": "2021-12-17T18:50:01.887437Z",
     "shell.execute_reply": "2021-12-17T18:50:01.887106Z",
     "shell.execute_reply.started": "2021-12-17T18:50:00.743251Z"
    },
    "tags": []
   },
   "outputs": [],
   "source": [
    "sequence_length = None\n",
    "\n",
    "notes_train = [n[:sequence_length] for n in df_train['notes']]\n",
    "notes_val = [n[:sequence_length] for n in df_val['notes']]\n",
    "notes_test = [n[:sequence_length] for n in df_test['notes']]"
   ]
  },
  {
   "cell_type": "code",
   "execution_count": 416,
   "id": "2480188a-73cc-4557-9d63-a64986ae6ea2",
   "metadata": {
    "execution": {
     "iopub.execute_input": "2021-12-17T18:50:02.475663Z",
     "iopub.status.busy": "2021-12-17T18:50:02.475328Z",
     "iopub.status.idle": "2021-12-17T18:50:02.522998Z",
     "shell.execute_reply": "2021-12-17T18:50:02.522730Z",
     "shell.execute_reply.started": "2021-12-17T18:50:02.475647Z"
    },
    "tags": []
   },
   "outputs": [
    {
     "data": {
      "text/plain": [
       "(True, True, True)"
      ]
     },
     "execution_count": 416,
     "metadata": {},
     "output_type": "execute_result"
    }
   ],
   "source": [
    "def checkIfDuplicates(listOfElems):\n",
    "    ''' Check if given list contains any duplicates '''\n",
    "    if len(listOfElems) == len(set(listOfElems)):\n",
    "        return False\n",
    "    else:\n",
    "        return True\n",
    "\n",
    "checkIfDuplicates(notes_train), checkIfDuplicates(notes_val), checkIfDuplicates(notes_test)"
   ]
  },
  {
   "cell_type": "code",
   "execution_count": 417,
   "id": "83ab9bd5-65d1-44db-840f-f68b98e82708",
   "metadata": {
    "execution": {
     "iopub.execute_input": "2021-12-17T18:50:03.204456Z",
     "iopub.status.busy": "2021-12-17T18:50:03.204113Z",
     "iopub.status.idle": "2021-12-17T18:50:03.211106Z",
     "shell.execute_reply": "2021-12-17T18:50:03.210793Z",
     "shell.execute_reply.started": "2021-12-17T18:50:03.204438Z"
    },
    "tags": []
   },
   "outputs": [
    {
     "data": {
      "text/plain": [
       "(15018, 13781, 4695, 4403, 4711, 4424)"
      ]
     },
     "execution_count": 417,
     "metadata": {},
     "output_type": "execute_result"
    }
   ],
   "source": [
    "len(notes_train), len(set(notes_train)), len(notes_val), len(set(notes_val)), len(notes_test), len(set(notes_test))"
   ]
  },
  {
   "cell_type": "code",
   "execution_count": 418,
   "id": "39e79ad9-c15a-46e6-bdb3-d6f300a3c6c2",
   "metadata": {
    "execution": {
     "iopub.execute_input": "2021-12-17T18:50:04.643758Z",
     "iopub.status.busy": "2021-12-17T18:50:04.643471Z",
     "iopub.status.idle": "2021-12-17T18:50:04.646082Z",
     "shell.execute_reply": "2021-12-17T18:50:04.645742Z",
     "shell.execute_reply.started": "2021-12-17T18:50:04.643741Z"
    },
    "tags": []
   },
   "outputs": [],
   "source": [
    "def getDupes(l):\n",
    "    seen = set()\n",
    "    seen_add = seen.add\n",
    "    for x in l:\n",
    "        if x in seen or seen_add(x):\n",
    "            yield x"
   ]
  },
  {
   "cell_type": "code",
   "execution_count": 419,
   "id": "cbb46631-2b64-41b9-9418-5ae7603fe2eb",
   "metadata": {
    "execution": {
     "iopub.execute_input": "2021-12-17T18:50:04.979187Z",
     "iopub.status.busy": "2021-12-17T18:50:04.978929Z",
     "iopub.status.idle": "2021-12-17T18:50:04.987390Z",
     "shell.execute_reply": "2021-12-17T18:50:04.987108Z",
     "shell.execute_reply.started": "2021-12-17T18:50:04.979171Z"
    },
    "tags": []
   },
   "outputs": [],
   "source": [
    "dupl_train = list(set([n for n in getDupes(notes_train)]))\n",
    "dupl_val = list(set([n for n in getDupes(notes_val)]))\n",
    "dupl_test = list(set([n for n in getDupes(notes_test)]))"
   ]
  },
  {
   "cell_type": "code",
   "execution_count": 420,
   "id": "e29f7c5e-4590-4f5a-9bd1-eb392fe84058",
   "metadata": {
    "execution": {
     "iopub.execute_input": "2021-12-17T18:50:05.410925Z",
     "iopub.status.busy": "2021-12-17T18:50:05.410720Z",
     "iopub.status.idle": "2021-12-17T18:50:05.413368Z",
     "shell.execute_reply": "2021-12-17T18:50:05.413052Z",
     "shell.execute_reply.started": "2021-12-17T18:50:05.410906Z"
    },
    "tags": []
   },
   "outputs": [],
   "source": [
    "assert dupl_train[0] in notes_train\n",
    "assert dupl_val[0] in notes_val\n",
    "assert dupl_test[0] in notes_test"
   ]
  },
  {
   "cell_type": "code",
   "execution_count": 421,
   "id": "5786e19f-b44e-4527-afab-f90bbdae0415",
   "metadata": {
    "execution": {
     "iopub.execute_input": "2021-12-17T18:50:05.826390Z",
     "iopub.status.busy": "2021-12-17T18:50:05.826271Z",
     "iopub.status.idle": "2021-12-17T18:50:05.829210Z",
     "shell.execute_reply": "2021-12-17T18:50:05.828864Z",
     "shell.execute_reply.started": "2021-12-17T18:50:05.826373Z"
    },
    "tags": []
   },
   "outputs": [
    {
     "data": {
      "text/plain": [
       "False"
      ]
     },
     "execution_count": 421,
     "metadata": {},
     "output_type": "execute_result"
    }
   ],
   "source": [
    "checkIfDuplicates(set(dupl_train))"
   ]
  },
  {
   "cell_type": "code",
   "execution_count": 422,
   "id": "01c126f4-9bfd-4122-b2d6-eba47d7a9859",
   "metadata": {
    "execution": {
     "iopub.execute_input": "2021-12-17T18:50:06.402628Z",
     "iopub.status.busy": "2021-12-17T18:50:06.402523Z",
     "iopub.status.idle": "2021-12-17T18:50:07.024857Z",
     "shell.execute_reply": "2021-12-17T18:50:07.024531Z",
     "shell.execute_reply.started": "2021-12-17T18:50:06.402615Z"
    },
    "tags": []
   },
   "outputs": [],
   "source": [
    "indices_train = [[i for i, x in enumerate(notes_train) if x == d] for d in set(dupl_train)]\n",
    "indices_val = [[i for i, x in enumerate(notes_val) if x == d] for d in set(dupl_val)]\n",
    "indices_test = [[i for i, x in enumerate(notes_test) if x == d] for d in set(dupl_test)]"
   ]
  },
  {
   "cell_type": "code",
   "execution_count": 423,
   "id": "616b6fab-4603-456d-8074-086d40f0aba3",
   "metadata": {
    "execution": {
     "iopub.execute_input": "2021-12-17T18:50:07.026867Z",
     "iopub.status.busy": "2021-12-17T18:50:07.026764Z",
     "iopub.status.idle": "2021-12-17T18:50:07.029511Z",
     "shell.execute_reply": "2021-12-17T18:50:07.029238Z",
     "shell.execute_reply.started": "2021-12-17T18:50:07.026853Z"
    },
    "tags": []
   },
   "outputs": [
    {
     "data": {
      "text/plain": [
       "[[2209, 6167],\n",
       " [7801, 11494],\n",
       " [368, 11845, 12360, 12658, 14398],\n",
       " [13123, 14632],\n",
       " [5250, 8393]]"
      ]
     },
     "execution_count": 423,
     "metadata": {},
     "output_type": "execute_result"
    }
   ],
   "source": [
    "indices_train[:5]"
   ]
  },
  {
   "cell_type": "code",
   "execution_count": 424,
   "id": "efea2dfc-5caf-4090-b17b-bef4b08cca6f",
   "metadata": {
    "execution": {
     "iopub.execute_input": "2021-12-17T18:50:08.066840Z",
     "iopub.status.busy": "2021-12-17T18:50:08.066688Z",
     "iopub.status.idle": "2021-12-17T18:50:08.070170Z",
     "shell.execute_reply": "2021-12-17T18:50:08.069607Z",
     "shell.execute_reply.started": "2021-12-17T18:50:08.066820Z"
    },
    "tags": []
   },
   "outputs": [
    {
     "data": {
      "text/plain": [
       "(1047, 255, 242)"
      ]
     },
     "execution_count": 424,
     "metadata": {},
     "output_type": "execute_result"
    }
   ],
   "source": [
    "len(indices_train), len(indices_val), len(indices_test)"
   ]
  },
  {
   "cell_type": "code",
   "execution_count": 425,
   "id": "613678f4-86fd-4dc1-a5f0-a5c0f9a207ab",
   "metadata": {
    "execution": {
     "iopub.execute_input": "2021-12-17T18:50:08.490869Z",
     "iopub.status.busy": "2021-12-17T18:50:08.490754Z",
     "iopub.status.idle": "2021-12-17T18:50:08.492609Z",
     "shell.execute_reply": "2021-12-17T18:50:08.492333Z",
     "shell.execute_reply.started": "2021-12-17T18:50:08.490856Z"
    },
    "tags": []
   },
   "outputs": [],
   "source": [
    "#[df_train['labels'][i] for i in indices_train]"
   ]
  },
  {
   "cell_type": "code",
   "execution_count": 426,
   "id": "35c485a0-26a8-4e98-bbc7-d81f3145a29b",
   "metadata": {
    "execution": {
     "iopub.execute_input": "2021-12-17T18:50:08.882886Z",
     "iopub.status.busy": "2021-12-17T18:50:08.882756Z",
     "iopub.status.idle": "2021-12-17T18:50:09.736833Z",
     "shell.execute_reply": "2021-12-17T18:50:09.736558Z",
     "shell.execute_reply.started": "2021-12-17T18:50:08.882871Z"
    },
    "tags": []
   },
   "outputs": [],
   "source": [
    "allduplicates_train = [len([i for i, x in enumerate(notes_train) if x == dupl_train[j]]) for j in range(len(dupl_train))]\n",
    "allduplicates_val = [len([i for i, x in enumerate(notes_val) if x == dupl_val[j]]) for j in range(len(dupl_val))]\n",
    "allduplicates_test = [len([i for i, x in enumerate(notes_test) if x == dupl_test[j]]) for j in range(len(dupl_test))]"
   ]
  },
  {
   "cell_type": "code",
   "execution_count": 427,
   "id": "3de69133-79f4-43e3-b1bd-51ccd2d0d3c5",
   "metadata": {
    "execution": {
     "iopub.execute_input": "2021-12-17T18:50:09.737467Z",
     "iopub.status.busy": "2021-12-17T18:50:09.737381Z",
     "iopub.status.idle": "2021-12-17T18:50:09.739071Z",
     "shell.execute_reply": "2021-12-17T18:50:09.738850Z",
     "shell.execute_reply.started": "2021-12-17T18:50:09.737455Z"
    },
    "tags": []
   },
   "outputs": [],
   "source": [
    "import seaborn as sns"
   ]
  },
  {
   "cell_type": "code",
   "execution_count": 428,
   "id": "1ba64ca0-915f-471c-8a09-233198bd820c",
   "metadata": {
    "execution": {
     "iopub.execute_input": "2021-12-17T18:50:09.786324Z",
     "iopub.status.busy": "2021-12-17T18:50:09.786114Z",
     "iopub.status.idle": "2021-12-17T18:50:09.871878Z",
     "shell.execute_reply": "2021-12-17T18:50:09.871671Z",
     "shell.execute_reply.started": "2021-12-17T18:50:09.786309Z"
    },
    "tags": []
   },
   "outputs": [
    {
     "data": {
      "text/plain": [
       "<AxesSubplot:ylabel='Count'>"
      ]
     },
     "execution_count": 428,
     "metadata": {},
     "output_type": "execute_result"
    },
    {
     "data": {
      "image/png": "[encoded data removed]",
      "text/plain": [
       "<Figure size 432x288 with 1 Axes>"
      ]
     },
     "metadata": {
      "needs_background": "light"
     },
     "output_type": "display_data"
    }
   ],
   "source": [
    "sns.histplot(allduplicates_train)\n",
    "sns.histplot(allduplicates_val)\n",
    "sns.histplot(allduplicates_test)"
   ]
  },
  {
   "cell_type": "code",
   "execution_count": 429,
   "id": "20bfd8f7-4e4b-4eb1-aca2-74c7528d5242",
   "metadata": {
    "execution": {
     "iopub.execute_input": "2021-12-17T18:50:10.851249Z",
     "iopub.status.busy": "2021-12-17T18:50:10.850947Z",
     "iopub.status.idle": "2021-12-17T18:50:10.853679Z",
     "shell.execute_reply": "2021-12-17T18:50:10.853476Z",
     "shell.execute_reply.started": "2021-12-17T18:50:10.851229Z"
    },
    "tags": []
   },
   "outputs": [
    {
     "data": {
      "text/plain": [
       "(1047, 255, 242)"
      ]
     },
     "execution_count": 429,
     "metadata": {},
     "output_type": "execute_result"
    }
   ],
   "source": [
    "len(allduplicates_train), len(allduplicates_val), len(allduplicates_test)"
   ]
  },
  {
   "cell_type": "code",
   "execution_count": 430,
   "id": "d4d1a989-8fe5-4c83-beb7-e695e7865c95",
   "metadata": {
    "execution": {
     "iopub.execute_input": "2021-12-17T18:50:11.235569Z",
     "iopub.status.busy": "2021-12-17T18:50:11.235263Z",
     "iopub.status.idle": "2021-12-17T18:50:11.238601Z",
     "shell.execute_reply": "2021-12-17T18:50:11.238263Z",
     "shell.execute_reply.started": "2021-12-17T18:50:11.235550Z"
    },
    "tags": []
   },
   "outputs": [
    {
     "data": {
      "text/plain": [
       "(13971, 4440, 4469)"
      ]
     },
     "execution_count": 430,
     "metadata": {},
     "output_type": "execute_result"
    }
   ],
   "source": [
    "len(notes_train) - len(allduplicates_train), len(notes_val) - len(allduplicates_val), len(notes_test) - len(allduplicates_test)"
   ]
  },
  {
   "cell_type": "code",
   "execution_count": 431,
   "id": "d00de1fa-1d2e-41c0-a48e-faa0f4a54858",
   "metadata": {
    "execution": {
     "iopub.execute_input": "2021-12-17T18:50:11.580486Z",
     "iopub.status.busy": "2021-12-17T18:50:11.580191Z",
     "iopub.status.idle": "2021-12-17T18:50:11.584123Z",
     "shell.execute_reply": "2021-12-17T18:50:11.583813Z",
     "shell.execute_reply.started": "2021-12-17T18:50:11.580465Z"
    },
    "tags": []
   },
   "outputs": [
    {
     "data": {
      "text/plain": [
       "(Counter({2: 889, 5: 6, 3: 132, 4: 20}),\n",
       " Counter({2: 222, 4: 4, 3: 29}),\n",
       " Counter({2: 207, 3: 32, 7: 2, 5: 1}))"
      ]
     },
     "execution_count": 431,
     "metadata": {},
     "output_type": "execute_result"
    }
   ],
   "source": [
    "Counter(allduplicates_train), Counter(allduplicates_val), Counter(allduplicates_test)"
   ]
  },
  {
   "cell_type": "code",
   "execution_count": 432,
   "id": "8f9d61ad-245c-45bd-b9dc-c325a119cd3b",
   "metadata": {
    "execution": {
     "iopub.execute_input": "2021-12-17T18:50:11.986597Z",
     "iopub.status.busy": "2021-12-17T18:50:11.986404Z",
     "iopub.status.idle": "2021-12-17T18:50:11.990868Z",
     "shell.execute_reply": "2021-12-17T18:50:11.990584Z",
     "shell.execute_reply.started": "2021-12-17T18:50:11.986578Z"
    },
    "tags": []
   },
   "outputs": [],
   "source": [
    "# get all indices, but the first\n",
    "\n",
    "indices_train_remove = [i[1:] for i in indices_train]\n",
    "indices_val_remove = [i[1:] for i in indices_val]\n",
    "indices_test_remove = [i[1:] for i in indices_test]\n",
    "\n",
    "indices_train_keep = [i[0] for i in indices_train]\n",
    "indices_val_keep = [i[0] for i in indices_val]\n",
    "indices_test_keep = [i[0] for i in indices_test]"
   ]
  },
  {
   "cell_type": "code",
   "execution_count": 433,
   "id": "898ab827-41f8-4ed8-9d19-d00b6adb6fee",
   "metadata": {
    "execution": {
     "iopub.execute_input": "2021-12-17T18:50:12.371284Z",
     "iopub.status.busy": "2021-12-17T18:50:12.371059Z",
     "iopub.status.idle": "2021-12-17T18:50:12.375092Z",
     "shell.execute_reply": "2021-12-17T18:50:12.374781Z",
     "shell.execute_reply.started": "2021-12-17T18:50:12.371257Z"
    },
    "tags": []
   },
   "outputs": [],
   "source": [
    "flat_list_train = np.asarray([item for sublist in indices_train_remove for item in sublist])\n",
    "flat_list_val = np.asarray([item for sublist in indices_val_remove for item in sublist])\n",
    "flat_list_test = np.asarray([item for sublist in indices_test_remove for item in sublist])"
   ]
  },
  {
   "cell_type": "code",
   "execution_count": 434,
   "id": "a978887f-0d68-4172-8514-b4bbf9e651a6",
   "metadata": {
    "execution": {
     "iopub.execute_input": "2021-12-17T18:50:12.548762Z",
     "iopub.status.busy": "2021-12-17T18:50:12.548534Z",
     "iopub.status.idle": "2021-12-17T18:50:12.551873Z",
     "shell.execute_reply": "2021-12-17T18:50:12.551547Z",
     "shell.execute_reply.started": "2021-12-17T18:50:12.548734Z"
    },
    "tags": []
   },
   "outputs": [],
   "source": [
    "assert len(flat_list_train) == len(set(flat_list_train))\n",
    "assert len(flat_list_val) == len(set(flat_list_val))\n",
    "assert len(flat_list_test) == len(set(flat_list_test))"
   ]
  },
  {
   "cell_type": "code",
   "execution_count": 435,
   "id": "4df8c46e-a2de-4fb6-bdab-6ad4c2f1c7f9",
   "metadata": {
    "execution": {
     "iopub.execute_input": "2021-12-17T18:50:12.768596Z",
     "iopub.status.busy": "2021-12-17T18:50:12.768371Z",
     "iopub.status.idle": "2021-12-17T18:50:12.771757Z",
     "shell.execute_reply": "2021-12-17T18:50:12.771451Z",
     "shell.execute_reply.started": "2021-12-17T18:50:12.768570Z"
    },
    "tags": []
   },
   "outputs": [],
   "source": [
    "flat_list_train.sort()\n",
    "flat_list_val.sort()\n",
    "flat_list_test.sort()\n",
    "\n",
    "indices_train_keep.sort()\n",
    "indices_val_keep.sort()\n",
    "indices_test_keep.sort()"
   ]
  },
  {
   "cell_type": "code",
   "execution_count": 436,
   "id": "b4250ea3-cec7-4dab-a9c9-c3510c6258c7",
   "metadata": {
    "execution": {
     "iopub.execute_input": "2021-12-17T18:50:12.883485Z",
     "iopub.status.busy": "2021-12-17T18:50:12.883124Z",
     "iopub.status.idle": "2021-12-17T18:50:12.886166Z",
     "shell.execute_reply": "2021-12-17T18:50:12.885857Z",
     "shell.execute_reply.started": "2021-12-17T18:50:12.883460Z"
    },
    "tags": []
   },
   "outputs": [],
   "source": [
    "train_indices = np.arange(len(notes_train))\n",
    "val_indices = np.arange(len(notes_val))\n",
    "test_indices = np.arange(len(notes_test))"
   ]
  },
  {
   "cell_type": "code",
   "execution_count": 437,
   "id": "ae461207-05a4-4433-baec-69a0e09bd749",
   "metadata": {
    "execution": {
     "iopub.execute_input": "2021-12-17T18:50:13.059061Z",
     "iopub.status.busy": "2021-12-17T18:50:13.058669Z",
     "iopub.status.idle": "2021-12-17T18:50:13.061151Z",
     "shell.execute_reply": "2021-12-17T18:50:13.060761Z",
     "shell.execute_reply.started": "2021-12-17T18:50:13.059035Z"
    },
    "tags": []
   },
   "outputs": [],
   "source": [
    "# remove those indices from original data sets"
   ]
  },
  {
   "cell_type": "code",
   "execution_count": 438,
   "id": "305f052a-24c7-4ed7-93b5-bbd68f1bc8a1",
   "metadata": {
    "execution": {
     "iopub.execute_input": "2021-12-17T18:50:13.484148Z",
     "iopub.status.busy": "2021-12-17T18:50:13.483919Z",
     "iopub.status.idle": "2021-12-17T18:50:14.872546Z",
     "shell.execute_reply": "2021-12-17T18:50:14.872168Z",
     "shell.execute_reply.started": "2021-12-17T18:50:13.484119Z"
    },
    "tags": []
   },
   "outputs": [
    {
     "name": "stdout",
     "output_type": "stream",
     "text": [
      "[    0     1     2 ... 15015 15016 15017] 13781\n"
     ]
    }
   ],
   "source": [
    "mask = np.ones(len(notes_train), bool)\n",
    "mask[flat_list_train] = False\n",
    "print(train_indices[mask], len(train_indices[mask]))\n",
    "df_train_new = {}\n",
    "df_train_new['notes'] = df_train['notes'][mask]\n",
    "df_train_new['labels'] = df_train['labels'][mask]\n",
    "df_train_new['inputs'] = df_train['inputs'][mask]"
   ]
  },
  {
   "cell_type": "code",
   "execution_count": 439,
   "id": "63f623a1-3a96-4d92-b9d3-a6d532ea83c7",
   "metadata": {
    "execution": {
     "iopub.execute_input": "2021-12-17T18:50:14.873355Z",
     "iopub.status.busy": "2021-12-17T18:50:14.873270Z",
     "iopub.status.idle": "2021-12-17T18:50:15.313112Z",
     "shell.execute_reply": "2021-12-17T18:50:15.312746Z",
     "shell.execute_reply.started": "2021-12-17T18:50:14.873344Z"
    },
    "tags": []
   },
   "outputs": [
    {
     "name": "stdout",
     "output_type": "stream",
     "text": [
      "[   0    1    2 ... 4692 4693 4694] 4403\n"
     ]
    }
   ],
   "source": [
    "mask = np.ones(len(notes_val), bool)\n",
    "mask[flat_list_val] = False\n",
    "print(val_indices[mask], len(val_indices[mask]))\n",
    "df_val_new = {}\n",
    "df_val_new['notes'] = df_val['notes'][mask]\n",
    "df_val_new['labels'] = df_val['labels'][mask]\n",
    "df_val_new['inputs'] = df_val['inputs'][mask]"
   ]
  },
  {
   "cell_type": "code",
   "execution_count": 440,
   "id": "a7f6d3f7-1731-499f-8017-a14d5745cbaa",
   "metadata": {
    "execution": {
     "iopub.execute_input": "2021-12-17T18:50:15.313698Z",
     "iopub.status.busy": "2021-12-17T18:50:15.313616Z",
     "iopub.status.idle": "2021-12-17T18:50:15.721857Z",
     "shell.execute_reply": "2021-12-17T18:50:15.721504Z",
     "shell.execute_reply.started": "2021-12-17T18:50:15.313687Z"
    },
    "tags": []
   },
   "outputs": [
    {
     "name": "stdout",
     "output_type": "stream",
     "text": [
      "[   0    1    2 ... 4708 4709 4710] 4424\n"
     ]
    }
   ],
   "source": [
    "mask = np.ones(len(notes_test), bool)\n",
    "mask[flat_list_test] = False\n",
    "print(test_indices[mask], len(test_indices[mask]))\n",
    "df_test_new = {}\n",
    "df_test_new['notes'] = df_test['notes'][mask]\n",
    "df_test_new['labels'] = df_test['labels'][mask]\n",
    "df_test_new['inputs'] = df_test['inputs'][mask]"
   ]
  },
  {
   "cell_type": "code",
   "execution_count": 306,
   "id": "8329fef2-6610-4047-972b-3ada1a78dcde",
   "metadata": {
    "execution": {
     "iopub.execute_input": "2021-12-17T17:48:20.340963Z",
     "iopub.status.busy": "2021-12-17T17:48:20.340742Z",
     "iopub.status.idle": "2021-12-17T17:48:28.891893Z",
     "shell.execute_reply": "2021-12-17T17:48:28.891456Z",
     "shell.execute_reply.started": "2021-12-17T17:48:20.340939Z"
    }
   },
   "outputs": [],
   "source": [
    "# pickle dump\n",
    "\n",
    "# pickle.dump(df_train_new, open('/home/thetaphipsi/MasterAI/src/CNEP/src/data/mimic3/full_train_data_unique.pickle', 'wb'))\n",
    "# pickle.dump(df_val_new, open('/home/thetaphipsi/MasterAI/src/CNEP/src/data/mimic3/full_val_data_unique.pickle', 'wb'))\n",
    "# pickle.dump(df_test_new, open('/home/thetaphipsi/MasterAI/src/CNEP/src/data/mimic3/full_test_data_unique.pickle', 'wb'))"
   ]
  },
  {
   "cell_type": "code",
   "execution_count": null,
   "id": "1edf3e22-bd28-4a2e-98ce-d295b3755246",
   "metadata": {},
   "outputs": [],
   "source": []
  }
 ],
 "metadata": {
  "kernelspec": {
   "display_name": "Python 3 (ipykernel)",
   "language": "python",
   "name": "python3"
  },
  "language_info": {
   "codemirror_mode": {
    "name": "ipython",
    "version": 3
   },
   "file_extension": ".py",
   "mimetype": "text/x-python",
   "name": "python",
   "nbconvert_exporter": "python",
   "pygments_lexer": "ipython3",
   "version": "3.8.12"
  }
 },
 "nbformat": 4,
 "nbformat_minor": 5
}
