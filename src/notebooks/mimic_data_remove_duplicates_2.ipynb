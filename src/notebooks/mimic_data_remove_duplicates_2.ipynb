{
 "cells": [
  {
   "cell_type": "markdown",
   "id": "3363fc0a-863e-48dc-bbc5-ebf317360c45",
   "metadata": {},
   "source": [
    "# Step 2: Remove All Duplicate Entries"
   ]
  },
  {
   "cell_type": "code",
   "execution_count": null,
   "id": "dd9ed234",
   "metadata": {
    "tags": []
   },
   "outputs": [],
   "source": [
    "# check if there are duplicates in the clinical notes\n",
    "\n",
    "import numpy as np\n",
    "from collections import Counter"
   ]
  },
  {
   "cell_type": "code",
   "execution_count": null,
   "id": "d2b9e399",
   "metadata": {
    "tags": []
   },
   "outputs": [],
   "source": [
    "import pickle\n",
    "\n",
    "#BASE_DIR = '/home/thetaphipsi/MasterAI/src/CNEP/src/data/mimic3/'\n",
    "BASE_DIR = './'\n",
    "\n",
    "df_train = pickle.load(open(f'{BASE_DIR}new_train_data_CNEP.pickle', 'rb'))\n",
    "df_val = pickle.load(open(f'{BASE_DIR}new_val_data_CNEP.pickle', 'rb'))\n",
    "df_test = pickle.load(open(f'{BASE_DIR}new_test_data_CNEP.pickle', 'rb'))"
   ]
  },
  {
   "cell_type": "code",
   "execution_count": null,
   "id": "e1a7d4b7",
   "metadata": {},
   "outputs": [],
   "source": []
  },
  {
   "cell_type": "code",
   "execution_count": null,
   "id": "9fe35049",
   "metadata": {
    "tags": []
   },
   "outputs": [],
   "source": [
    "sequence_length = None\n",
    "\n",
    "notes_train = [n[:sequence_length] for n in df_train['notes']]\n",
    "notes_val = [n[:sequence_length] for n in df_val['notes']]\n",
    "notes_test = [n[:sequence_length] for n in df_test['notes']]"
   ]
  },
  {
   "cell_type": "code",
   "execution_count": null,
   "id": "34a0b873",
   "metadata": {
    "tags": []
   },
   "outputs": [],
   "source": [
    "def checkIfDuplicates(listOfElems):\n",
    "    ''' Check if given list contains any duplicates '''\n",
    "    if len(listOfElems) == len(set(listOfElems)):\n",
    "        return False\n",
    "    else:\n",
    "        return True\n",
    "\n",
    "checkIfDuplicates(notes_train), checkIfDuplicates(notes_val), checkIfDuplicates(notes_test)"
   ]
  },
  {
   "cell_type": "code",
   "execution_count": null,
   "id": "a404e9e8",
   "metadata": {
    "tags": []
   },
   "outputs": [],
   "source": [
    "len(notes_train), len(set(notes_train)), len(notes_val), len(set(notes_val)), len(notes_test), len(set(notes_test))"
   ]
  },
  {
   "cell_type": "code",
   "execution_count": null,
   "id": "be183ec9",
   "metadata": {
    "tags": []
   },
   "outputs": [],
   "source": [
    "def getDupes(l):\n",
    "    seen = set()\n",
    "    seen_add = seen.add\n",
    "    for x in l:\n",
    "        if x in seen or seen_add(x):\n",
    "            yield x"
   ]
  },
  {
   "cell_type": "code",
   "execution_count": null,
   "id": "f6a01f08",
   "metadata": {
    "tags": []
   },
   "outputs": [],
   "source": [
    "dupl_train = list(set([n for n in getDupes(notes_train)]))\n",
    "dupl_val = list(set([n for n in getDupes(notes_val)]))\n",
    "dupl_test = list(set([n for n in getDupes(notes_test)]))"
   ]
  },
  {
   "cell_type": "code",
   "execution_count": null,
   "id": "0ebb8cca",
   "metadata": {
    "tags": []
   },
   "outputs": [],
   "source": [
    "assert dupl_train[0] in notes_train\n",
    "assert dupl_val[0] in notes_val\n",
    "assert dupl_test[0] in notes_test"
   ]
  },
  {
   "cell_type": "code",
   "execution_count": null,
   "id": "71315be6",
   "metadata": {
    "tags": []
   },
   "outputs": [],
   "source": [
    "checkIfDuplicates(set(dupl_train))"
   ]
  },
  {
   "cell_type": "code",
   "execution_count": null,
   "id": "cc69d422",
   "metadata": {
    "tags": []
   },
   "outputs": [],
   "source": [
    "indices_train = [[i for i, x in enumerate(notes_train) if x == d] for d in set(dupl_train)]\n",
    "indices_val = [[i for i, x in enumerate(notes_val) if x == d] for d in set(dupl_val)]\n",
    "indices_test = [[i for i, x in enumerate(notes_test) if x == d] for d in set(dupl_test)]"
   ]
  },
  {
   "cell_type": "code",
   "execution_count": null,
   "id": "11793951",
   "metadata": {
    "tags": []
   },
   "outputs": [],
   "source": [
    "indices_train[:5]"
   ]
  },
  {
   "cell_type": "code",
   "execution_count": null,
   "id": "7ac3be70",
   "metadata": {
    "tags": []
   },
   "outputs": [],
   "source": [
    "len(indices_train), len(indices_val), len(indices_test)"
   ]
  },
  {
   "cell_type": "code",
   "execution_count": null,
   "id": "f4dc8f1a",
   "metadata": {
    "tags": []
   },
   "outputs": [],
   "source": [
    "#[df_train['labels'][i] for i in indices_train]"
   ]
  },
  {
   "cell_type": "code",
   "execution_count": null,
   "id": "9b5cb1e3",
   "metadata": {
    "tags": []
   },
   "outputs": [],
   "source": [
    "allduplicates_train = [len([i for i, x in enumerate(notes_train) if x == dupl_train[j]]) for j in range(len(dupl_train))]\n",
    "allduplicates_val = [len([i for i, x in enumerate(notes_val) if x == dupl_val[j]]) for j in range(len(dupl_val))]\n",
    "allduplicates_test = [len([i for i, x in enumerate(notes_test) if x == dupl_test[j]]) for j in range(len(dupl_test))]"
   ]
  },
  {
   "cell_type": "code",
   "execution_count": null,
   "id": "ee31498e",
   "metadata": {
    "tags": []
   },
   "outputs": [],
   "source": [
    "import seaborn as sns"
   ]
  },
  {
   "cell_type": "code",
   "execution_count": null,
   "id": "f2ee38da",
   "metadata": {
    "tags": []
   },
   "outputs": [],
   "source": [
    "sns.histplot(allduplicates_train)\n",
    "sns.histplot(allduplicates_val)\n",
    "sns.histplot(allduplicates_test)"
   ]
  },
  {
   "cell_type": "code",
   "execution_count": null,
   "id": "8eeeb2b5",
   "metadata": {
    "tags": []
   },
   "outputs": [],
   "source": [
    "len(allduplicates_train), len(allduplicates_val), len(allduplicates_test)"
   ]
  },
  {
   "cell_type": "code",
   "execution_count": null,
   "id": "f518e28c",
   "metadata": {
    "tags": []
   },
   "outputs": [],
   "source": [
    "len(notes_train) - len(allduplicates_train), len(notes_val) - len(allduplicates_val), len(notes_test) - len(allduplicates_test)"
   ]
  },
  {
   "cell_type": "code",
   "execution_count": null,
   "id": "04793427",
   "metadata": {
    "tags": []
   },
   "outputs": [],
   "source": [
    "Counter(allduplicates_train), Counter(allduplicates_val), Counter(allduplicates_test)"
   ]
  },
  {
   "cell_type": "code",
   "execution_count": null,
   "id": "60eca59f",
   "metadata": {
    "tags": []
   },
   "outputs": [],
   "source": [
    "# get all indices, but the first\n",
    "\n",
    "indices_train_remove = [i[1:] for i in indices_train]\n",
    "indices_val_remove = [i[1:] for i in indices_val]\n",
    "indices_test_remove = [i[1:] for i in indices_test]\n",
    "\n",
    "indices_train_keep = [i[0] for i in indices_train]\n",
    "indices_val_keep = [i[0] for i in indices_val]\n",
    "indices_test_keep = [i[0] for i in indices_test]"
   ]
  },
  {
   "cell_type": "code",
   "execution_count": null,
   "id": "76ffc221",
   "metadata": {
    "tags": []
   },
   "outputs": [],
   "source": [
    "flat_list_train = np.asarray([item for sublist in indices_train_remove for item in sublist])\n",
    "flat_list_val = np.asarray([item for sublist in indices_val_remove for item in sublist])\n",
    "flat_list_test = np.asarray([item for sublist in indices_test_remove for item in sublist])"
   ]
  },
  {
   "cell_type": "code",
   "execution_count": null,
   "id": "f459c63c",
   "metadata": {
    "tags": []
   },
   "outputs": [],
   "source": [
    "assert len(flat_list_train) == len(set(flat_list_train))\n",
    "assert len(flat_list_val) == len(set(flat_list_val))\n",
    "assert len(flat_list_test) == len(set(flat_list_test))"
   ]
  },
  {
   "cell_type": "code",
   "execution_count": null,
   "id": "5051cce1",
   "metadata": {
    "tags": []
   },
   "outputs": [],
   "source": [
    "flat_list_train.sort()\n",
    "flat_list_val.sort()\n",
    "flat_list_test.sort()\n",
    "\n",
    "indices_train_keep.sort()\n",
    "indices_val_keep.sort()\n",
    "indices_test_keep.sort()"
   ]
  },
  {
   "cell_type": "code",
   "execution_count": null,
   "id": "c36fb5da",
   "metadata": {
    "tags": []
   },
   "outputs": [],
   "source": [
    "train_indices = np.arange(len(notes_train))\n",
    "val_indices = np.arange(len(notes_val))\n",
    "test_indices = np.arange(len(notes_test))"
   ]
  },
  {
   "cell_type": "code",
   "execution_count": null,
   "id": "704072b9",
   "metadata": {
    "tags": []
   },
   "outputs": [],
   "source": [
    "# remove those indices from original data sets"
   ]
  },
  {
   "cell_type": "code",
   "execution_count": null,
   "id": "a37b057c",
   "metadata": {
    "tags": []
   },
   "outputs": [],
   "source": [
    "mask = np.ones(len(notes_train), bool)\n",
    "mask[flat_list_train] = False\n",
    "print(train_indices[mask], len(train_indices[mask]))\n",
    "df_train_new = {}\n",
    "df_train_new['notes'] = df_train['notes'][mask]\n",
    "df_train_new['labels'] = df_train['labels'][mask]\n",
    "df_train_new['inputs'] = df_train['inputs'][mask]\n",
    "df_train_new['eventsnotes'] = df_train['eventsnotes'][mask]"
   ]
  },
  {
   "cell_type": "code",
   "execution_count": null,
   "id": "cc524a54",
   "metadata": {
    "tags": []
   },
   "outputs": [],
   "source": [
    "mask = np.ones(len(notes_val), bool)\n",
    "mask[flat_list_val] = False\n",
    "print(val_indices[mask], len(val_indices[mask]))\n",
    "df_val_new = {}\n",
    "df_val_new['notes'] = df_val['notes'][mask]\n",
    "df_val_new['labels'] = df_val['labels'][mask]\n",
    "df_val_new['inputs'] = df_val['inputs'][mask]\n",
    "df_val_new['eventsnotes'] = df_val['eventsnotes'][mask]"
   ]
  },
  {
   "cell_type": "code",
   "execution_count": null,
   "id": "d3bd15f6",
   "metadata": {
    "tags": []
   },
   "outputs": [],
   "source": [
    "mask = np.ones(len(notes_test), bool)\n",
    "mask[flat_list_test] = False\n",
    "print(test_indices[mask], len(test_indices[mask]))\n",
    "df_test_new = {}\n",
    "df_test_new['notes'] = df_test['notes'][mask]\n",
    "df_test_new['labels'] = df_test['labels'][mask]\n",
    "df_test_new['inputs'] = df_test['inputs'][mask]\n",
    "df_test_new['eventsnotes'] = df_test['eventsnotes'][mask]"
   ]
  },
  {
   "cell_type": "code",
   "execution_count": null,
   "id": "e7388667",
   "metadata": {},
   "outputs": [],
   "source": [
    "# pickle dump\n",
    "\n",
    "pickle.dump(df_train_new, open(f'{BASE_DIR}new_train_data_unique_CNEP.pickle', 'wb'))\n",
    "pickle.dump(df_val_new, open(f'{BASE_DIR}new_val_data_unique_CNEP.pickle', 'wb'))\n",
    "pickle.dump(df_test_new, open(f'{BASE_DIR}new_test_data_unique_CNEP.pickle', 'wb'))"
   ]
  },
  {
   "cell_type": "code",
   "execution_count": null,
   "id": "90f3264c",
   "metadata": {},
   "outputs": [],
   "source": []
  }
 ],
 "metadata": {
  "kernelspec": {
   "display_name": "Python 3 (ipykernel)",
   "language": "python",
   "name": "python3"
  },
  "language_info": {
   "codemirror_mode": {
    "name": "ipython",
    "version": 3
   },
   "file_extension": ".py",
   "mimetype": "text/x-python",
   "name": "python",
   "nbconvert_exporter": "python",
   "pygments_lexer": "ipython3",
   "version": "3.8.12"
  }
 },
 "nbformat": 4,
 "nbformat_minor": 5
}
