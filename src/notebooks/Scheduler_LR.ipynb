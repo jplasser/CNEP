{
 "cells": [
  {
   "cell_type": "code",
   "execution_count": 6,
   "metadata": {
    "tags": []
   },
   "outputs": [],
   "source": [
    "import numpy as np\n",
    "import matplotlib.pyplot as plt\n",
    "\n",
    "def assign_learning_rate(optimizer, new_lr):\n",
    "    if optimizer is not None:\n",
    "        for param_group in optimizer.param_groups:\n",
    "            param_group[\"lr\"] = new_lr\n",
    "\n",
    "def _warmup_lr(base_lr, warmup_length, step):\n",
    "    return base_lr * (step + 1) / warmup_length\n",
    "\n",
    "def cosine_lr(optimizer, base_lr, warmup_length, steps, start_step=0, booster=0., elongation=1.):\n",
    "    \"\"\"\n",
    "        start_step first step when running a resumed training\n",
    "        booster adjusts learning rate curvature after warmup, range from 0.0 (no boost) to 1.0 (max boost)\n",
    "        elongation static lr in the end for a proportion of elongation, 1. = no elongation, 1.2 20%\n",
    "    \"\"\"\n",
    "    booster = np.max([2, 1/(1e-11 + booster/2)])\n",
    "    steps = np.floor(steps/elongation)\n",
    "    \n",
    "    def _lr_adjuster(step):\n",
    "        if (step - start_step) < warmup_length:\n",
    "            lr = _warmup_lr(base_lr, warmup_length, (step - start_step))\n",
    "        elif step <= steps:\n",
    "            e = (step - start_step) - warmup_length\n",
    "            es = (steps - start_step) - warmup_length\n",
    "            lr = 0.5 * ((1 + np.cos(np.pi * e / es)) * base_lr) + (1 + np.cos(np.pi * (1 - e / es))) * base_lr/booster\n",
    "        else:\n",
    "            lr = 2 * base_lr/booster\n",
    "        return lr\n",
    "    return _lr_adjuster\n",
    "\n",
    "batches = 117\n",
    "epochs = 45\n",
    "total_steps = (batches * epochs)\n",
    "start_step = 0\n",
    "lr = 2e-2\n",
    "warmup = 2500\n",
    "booster = 0.\n",
    "elongation = 1.\n",
    "\n",
    "scheduler2 = cosine_lr(None, lr, warmup, total_steps, start_step, booster=booster, elongation=elongation)\n",
    "\n",
    "batches = 117\n",
    "epochs = 90\n",
    "total_steps = (batches * epochs)\n",
    "start_step = 0\n",
    "lr = 2e-2\n",
    "warmup = 2500\n",
    "booster = 0.5\n",
    "elongation = 2.5\n",
    "\n",
    "scheduler = cosine_lr(None, lr, warmup, total_steps, start_step, booster=booster, elongation=elongation)\n",
    "\n"
   ]
  },
  {
   "cell_type": "code",
   "execution_count": 7,
   "metadata": {
    "tags": []
   },
   "outputs": [],
   "source": [
    "lr_ = []\n",
    "lr2_ = []\n",
    "for steps in range(start_step,int(total_steps * 1.)):\n",
    "    lr_.append(scheduler(steps))\n",
    "    lr2_.append(scheduler2(steps))\n",
    "data = np.array(lr_)\n",
    "data2 = np.array(lr2_)"
   ]
  },
  {
   "cell_type": "code",
   "execution_count": 8,
   "metadata": {
    "tags": []
   },
   "outputs": [
    {
     "data": {
      "image/png": "[encoded data removed]",
      "text/plain": [
       "<Figure size 432x288 with 1 Axes>"
      ]
     },
     "metadata": {
      "needs_background": "light"
     },
     "output_type": "display_data"
    }
   ],
   "source": [
    "plt.plot(data)\n",
    "plt.plot(data2)\n",
    "plt.show();"
   ]
  },
  {
   "cell_type": "code",
   "execution_count": 4,
   "metadata": {
    "tags": []
   },
   "outputs": [
    {
     "data": {
      "text/plain": [
       "1.6e-05"
      ]
     },
     "execution_count": 4,
     "metadata": {},
     "output_type": "execute_result"
    }
   ],
   "source": [
    "lr_[1]"
   ]
  },
  {
   "cell_type": "code",
   "execution_count": 5,
   "metadata": {},
   "outputs": [
    {
     "data": {
      "text/plain": [
       "(1.0, -1.0)"
      ]
     },
     "execution_count": 5,
     "metadata": {},
     "output_type": "execute_result"
    }
   ],
   "source": [
    "np.cos(0), np.cos(np.pi)"
   ]
  },
  {
   "cell_type": "code",
   "execution_count": null,
   "metadata": {},
   "outputs": [],
   "source": []
  }
 ],
 "metadata": {
  "kernelspec": {
   "display_name": "Python 3 (ipykernel)",
   "language": "python",
   "name": "python3"
  },
  "language_info": {
   "codemirror_mode": {
    "name": "ipython",
    "version": 3
   },
   "file_extension": ".py",
   "mimetype": "text/x-python",
   "name": "python",
   "nbconvert_exporter": "python",
   "pygments_lexer": "ipython3",
   "version": "3.8.12"
  }
 },
 "nbformat": 4,
 "nbformat_minor": 4
}
