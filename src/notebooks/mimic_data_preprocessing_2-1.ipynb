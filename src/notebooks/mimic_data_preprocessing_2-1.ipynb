{
 "cells": [
  {
   "cell_type": "markdown",
   "id": "78ac758e-0639-414c-908e-a48fbb69f9c2",
   "metadata": {
    "tags": []
   },
   "source": [
    "# Preprocess text data\n"
   ]
  },
  {
   "cell_type": "code",
   "execution_count": 62,
   "id": "f285541c",
   "metadata": {
    "execution": {
     "iopub.execute_input": "2022-03-16T20:15:40.113431Z",
     "iopub.status.busy": "2022-03-16T20:15:40.113196Z",
     "iopub.status.idle": "2022-03-16T20:15:40.652542Z",
     "shell.execute_reply": "2022-03-16T20:15:40.652072Z",
     "shell.execute_reply.started": "2022-03-16T20:15:40.113408Z"
    },
    "tags": []
   },
   "outputs": [],
   "source": [
    "# import sent2vec\n",
    "from nltk import word_tokenize\n",
    "from nltk.corpus import stopwords\n",
    "from string import punctuation\n",
    "from scipy.spatial import distance\n",
    "import pickle\n",
    "from tqdm import tqdm\n",
    "import numpy as np\n",
    "import pandas as pd\n",
    "# import torch\n",
    "# from gensim.models.doc2vec import Doc2Vec, TaggedDocument\n",
    "import re"
   ]
  },
  {
   "cell_type": "code",
   "execution_count": 63,
   "id": "c293cf8e",
   "metadata": {
    "execution": {
     "iopub.execute_input": "2022-03-16T20:15:40.653294Z",
     "iopub.status.busy": "2022-03-16T20:15:40.653194Z",
     "iopub.status.idle": "2022-03-16T20:15:40.657499Z",
     "shell.execute_reply": "2022-03-16T20:15:40.657129Z",
     "shell.execute_reply.started": "2022-03-16T20:15:40.653277Z"
    },
    "tags": []
   },
   "outputs": [],
   "source": [
    "stop_words = set(stopwords.words('english'))\n",
    "punctuation_less = '\"#$%&\\'()*+,-/:;<=>@[\\\\]^_`{|}~'\n",
    "\n",
    "def preprocess_sentence(text):\n",
    "    text = text.replace('/', ' / ')\n",
    "    text = text.replace('.-', ' .- ')\n",
    "    text = text.replace('.', ' . ')\n",
    "    text = text.replace('\\'', ' \\' ')\n",
    "    text = text.lower()\n",
    "\n",
    "    tokens = [token for token in word_tokenize(text) if token not in punctuation and token not in stop_words]\n",
    "\n",
    "    return ' '.join(tokens)\n",
    "\n",
    "def preprocess_sentence_leave_dot(text):\n",
    "    text = text.replace('/', ' / ')\n",
    "    text = text.replace('.-', ' .- ')\n",
    "    text = text.replace('.', ' . ')\n",
    "    text = text.replace('\\'', ' \\' ')\n",
    "    text = text.lower()\n",
    "\n",
    "    tokens = [token for token in word_tokenize(text) if token not in punctuation_less and token not in stop_words]\n",
    "\n",
    "    return ' '.join(tokens)"
   ]
  },
  {
   "cell_type": "code",
   "execution_count": 71,
   "id": "a93a9f46-97a5-4fc9-8523-8ab94a0d036f",
   "metadata": {
    "execution": {
     "iopub.execute_input": "2022-03-16T20:18:37.350140Z",
     "iopub.status.busy": "2022-03-16T20:18:37.349792Z",
     "iopub.status.idle": "2022-03-16T20:18:37.354517Z",
     "shell.execute_reply": "2022-03-16T20:18:37.354188Z",
     "shell.execute_reply.started": "2022-03-16T20:18:37.350119Z"
    },
    "tags": []
   },
   "outputs": [],
   "source": [
    "# source: https://github.com/kexinhuang12345/clinicalBERT/blob/master/preprocess.py\n",
    "# Huang, Kexin, Jaan Altosaar, and Rajesh Ranganath. “ClinicalBERT: Modeling Clinical Notes and Predicting Hospital Readmission,” April 10, 2019. https://arxiv.org/abs/1904.05342.\n",
    "\n",
    "def preprocess1(x):\n",
    "    y=re.sub('\\\\[(.*?)\\\\]','',x) #remove de-identified brackets\n",
    "    y=re.sub('[0-9]+\\.','',y) #remove 1.2. since the segmenter segments based on this\n",
    "    y=re.sub('dr\\.','doctor',y)\n",
    "    y=re.sub('m\\.d\\.','md',y)\n",
    "    y=re.sub('admission date:','',y)\n",
    "    y=re.sub('discharge date:','',y)\n",
    "    y=re.sub('--|__|==','',y)\n",
    "    return y\n",
    "\n",
    "def preprocessing(df, column='notes'): \n",
    "    df[column]=df[column].fillna(' ')\n",
    "    df[column]=df[column].str.replace('\\n',' ')\n",
    "    df[column]=df[column].str.replace('\\r',' ')\n",
    "    df[column]=df[column].apply(str.strip)\n",
    "    df[column]=df[column].str.lower()\n",
    "\n",
    "    df[column]=df[column].apply(lambda x: preprocess1(x))\n",
    "    #df[column]=df[column].apply(lambda x: preprocess_sentence(x))\n",
    "    return df"
   ]
  },
  {
   "cell_type": "markdown",
   "id": "354d825a-e9f8-449f-a030-7c76c55286df",
   "metadata": {},
   "source": [
    "# 0. Pre-processing of all datasets"
   ]
  },
  {
   "cell_type": "code",
   "execution_count": 86,
   "id": "9e0d9e01-76e5-4e13-9863-857d346b627c",
   "metadata": {
    "execution": {
     "iopub.execute_input": "2022-03-16T20:25:52.315229Z",
     "iopub.status.busy": "2022-03-16T20:25:52.315016Z",
     "iopub.status.idle": "2022-03-16T20:26:23.435468Z",
     "shell.execute_reply": "2022-03-16T20:26:23.434865Z",
     "shell.execute_reply.started": "2022-03-16T20:25:52.315206Z"
    },
    "tags": []
   },
   "outputs": [
    {
     "name": "stdout",
     "output_type": "stream",
     "text": [
      "Pre-processing of file ../data/mimic3/new_train_data_unique_CNEP.pickle finished!\n",
      "File ../data/mimic3/new_train_data_unique_CNEP_prepro.pickle written!\n",
      "Pre-processing of file ../data/mimic3/new_val_data_unique_CNEP.pickle finished!\n",
      "File ../data/mimic3/new_val_data_unique_CNEP_prepro.pickle written!\n",
      "Pre-processing of file ../data/mimic3/new_test_data_unique_CNEP.pickle finished!\n",
      "File ../data/mimic3/new_test_data_unique_CNEP_prepro.pickle written!\n"
     ]
    }
   ],
   "source": [
    "# data_path = '/Users/jplasser/Documents/AI Master/WS2021/MastersThesis/code.nosync/CNEP/src/data/mimic3/'\n",
    "data_path = '../data/mimic3/'\n",
    "\n",
    "datasets = ['train','val','test']\n",
    "\n",
    "for dataset in datasets:\n",
    "    train_data = pickle.load(open(f'{data_path}new_{dataset}_data_unique_CNEP.pickle', 'rb'))\n",
    "    \n",
    "    df = pd.DataFrame({'notes': train_data['notes'],\n",
    "                       'eventsnotes': train_data['eventsnotes']})\n",
    "    # preprocess train_data['notes']\n",
    "    df = preprocessing(df, 'notes')\n",
    "\n",
    "    # preprocess train_data['eventsnotes']\n",
    "    df = preprocessing(df, 'eventsnotes')\n",
    "\n",
    "    print(f\"Pre-processing of file {data_path}new_{dataset}_data_unique_CNEP.pickle finished!\")\n",
    "    \n",
    "    train_data['notes'] = np.array(df['notes'])\n",
    "    train_data['eventsnotes'] = np.array(df['eventsnotes'])\n",
    "    \n",
    "    pickle.dump(train_data, open(f'{data_path}new_{dataset}_data_unique_CNEP_prepro.pickle', 'wb'))\n",
    "    print(f\"File {data_path}new_{dataset}_data_unique_CNEP_prepro.pickle written!\")"
   ]
  },
  {
   "cell_type": "code",
   "execution_count": null,
   "id": "b65ed267-825a-4c5d-94d1-1bde2ff1b6e0",
   "metadata": {},
   "outputs": [],
   "source": []
  }
 ],
 "metadata": {
  "kernelspec": {
   "display_name": "Python 3 (ipykernel)",
   "language": "python",
   "name": "python3"
  },
  "language_info": {
   "codemirror_mode": {
    "name": "ipython",
    "version": 3
   },
   "file_extension": ".py",
   "mimetype": "text/x-python",
   "name": "python",
   "nbconvert_exporter": "python",
   "pygments_lexer": "ipython3",
   "version": "3.8.12"
  }
 },
 "nbformat": 4,
 "nbformat_minor": 5
}
