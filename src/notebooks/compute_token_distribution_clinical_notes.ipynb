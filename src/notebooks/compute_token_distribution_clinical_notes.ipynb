{
 "cells": [
  {
   "cell_type": "markdown",
   "id": "78ac758e-0639-414c-908e-a48fbb69f9c2",
   "metadata": {
    "tags": []
   },
   "source": [
    "# Compute token length distribution of clinical notes"
   ]
  },
  {
   "cell_type": "code",
   "execution_count": 26,
   "id": "f285541c",
   "metadata": {
    "execution": {
     "iopub.execute_input": "2022-06-16T09:14:51.134242Z",
     "iopub.status.busy": "2022-06-16T09:14:51.133897Z",
     "iopub.status.idle": "2022-06-16T09:14:51.137184Z",
     "shell.execute_reply": "2022-06-16T09:14:51.136949Z",
     "shell.execute_reply.started": "2022-06-16T09:14:51.134222Z"
    },
    "tags": []
   },
   "outputs": [],
   "source": [
    "import sent2vec\n",
    "from nltk import word_tokenize\n",
    "from nltk.corpus import stopwords\n",
    "from string import punctuation\n",
    "from scipy.spatial import distance\n",
    "import pickle\n",
    "from tqdm import tqdm\n",
    "import numpy as np\n",
    "import torch\n",
    "from gensim.models.doc2vec import Doc2Vec, TaggedDocument\n",
    "\n",
    "import matplotlib.pyplot as plt\n",
    "import seaborn as sns\n",
    "import pandas as pd\n",
    "from pltlatexify import latexify, format_axes"
   ]
  },
  {
   "cell_type": "code",
   "execution_count": 3,
   "id": "c293cf8e",
   "metadata": {
    "execution": {
     "iopub.execute_input": "2022-06-16T09:05:04.702920Z",
     "iopub.status.busy": "2022-06-16T09:05:04.702839Z",
     "iopub.status.idle": "2022-06-16T09:05:04.712771Z",
     "shell.execute_reply": "2022-06-16T09:05:04.712523Z",
     "shell.execute_reply.started": "2022-06-16T09:05:04.702910Z"
    },
    "tags": []
   },
   "outputs": [],
   "source": [
    "stop_words = set(stopwords.words('english'))\n",
    "punctuation_less = '\"#$%&\\'()*+,-/:;<=>@[\\\\]^_`{|}~'\n",
    "\n",
    "def preprocess_sentence(text):\n",
    "    text = text.replace('/', ' / ')\n",
    "    text = text.replace('.-', ' .- ')\n",
    "    text = text.replace('.', ' . ')\n",
    "    text = text.replace('\\'', ' \\' ')\n",
    "    text = text.lower()\n",
    "\n",
    "    tokens = [token for token in word_tokenize(text) if token not in punctuation and token not in stop_words]\n",
    "\n",
    "    return ' '.join(tokens)\n",
    "\n",
    "def preprocess_sentence_leave_dot(text):\n",
    "    text = text.replace('/', ' / ')\n",
    "    text = text.replace('.-', ' .- ')\n",
    "    text = text.replace('.', ' . ')\n",
    "    text = text.replace('\\'', ' \\' ')\n",
    "    text = text.lower()\n",
    "\n",
    "    tokens = [token for token in word_tokenize(text) if token not in punctuation_less and token not in stop_words]\n",
    "\n",
    "    return ' '.join(tokens)"
   ]
  },
  {
   "cell_type": "code",
   "execution_count": 4,
   "id": "7811fcaa-0b5a-44e3-a0a3-2233204b6ead",
   "metadata": {
    "execution": {
     "iopub.execute_input": "2022-06-16T09:05:04.713165Z",
     "iopub.status.busy": "2022-06-16T09:05:04.713093Z",
     "iopub.status.idle": "2022-06-16T09:05:08.961061Z",
     "shell.execute_reply": "2022-06-16T09:05:08.960756Z",
     "shell.execute_reply.started": "2022-06-16T09:05:04.713156Z"
    },
    "tags": []
   },
   "outputs": [],
   "source": [
    "from transformers import AutoTokenizer, AutoModel\n",
    "import torch\n",
    "import numpy as np\n",
    "\n",
    "# BERT model, we just need the tokenizer\n",
    "tokenizer = AutoTokenizer.from_pretrained(\"bert-base-uncased\")\n"
   ]
  },
  {
   "cell_type": "code",
   "execution_count": null,
   "id": "4ee1d969-34dc-41fc-8f36-03c051cc399c",
   "metadata": {
    "execution": {
     "iopub.execute_input": "2022-06-16T09:05:08.961780Z",
     "iopub.status.busy": "2022-06-16T09:05:08.961700Z"
    },
    "tags": []
   },
   "outputs": [
    {
     "name": "stdout",
     "output_type": "stream",
     "text": [
      "Run this session with the following parameters: USE_CHUNKS=True, USE_POOLER=False, USE_MEAN_POOLING=True.\n"
     ]
    },
    {
     "name": "stderr",
     "output_type": "stream",
     "text": [
      "  0%|                                                 | 0/13181 [00:00<?, ?it/s]Token indices sequence length is longer than the specified maximum sequence length for this model (1345 > 512). Running this sequence through the model will result in indexing errors\n",
      "100%|████████████████████████████████████| 13181/13181 [01:19<00:00, 166.39it/s]\n",
      "100%|█████████████████████████████████████| 13181/13181 [03:25<00:00, 64.14it/s]\n"
     ]
    }
   ],
   "source": [
    "seq_len = None # 2000\n",
    "USE_CHUNKS = True\n",
    "USE_POOLER = False\n",
    "USE_MEAN_POOLING = True and not USE_POOLER\n",
    "\n",
    "print(f\"Run this session with the following parameters: {USE_CHUNKS=}, {USE_POOLER=}, {USE_MEAN_POOLING=}.\")\n",
    "\n",
    "data_path = '../data/mimic3/'\n",
    "\n",
    "datasets = ['train'] #,'val','test']\n",
    "\n",
    "device = \"cuda:0\" if torch.cuda.is_available() else \"cpu\"\n",
    "# model = model.to(device)\n",
    "# model.eval()\n",
    "\n",
    "tokenlens = []\n",
    "\n",
    "with torch.no_grad():\n",
    "    for dataset in datasets:\n",
    "        train_data = pickle.load(open(f'{data_path}new_{dataset}_data_unique_CNEP.pickle', 'rb'))\n",
    "\n",
    "        for i in tqdm(range(len(train_data['notes']))):\n",
    "            inputs = tokenizer(preprocess_sentence(train_data['notes'][i][:seq_len]), add_special_tokens=False, return_tensors='pt')\n",
    "            tokenlens.append(inputs['input_ids'].shape[1])\n",
    "            \n",
    "        for i in tqdm(range(len(train_data['eventsnotes']))):\n",
    "            inputs = tokenizer(preprocess_sentence(train_data['eventsnotes'][i][:seq_len]), add_special_tokens=False, return_tensors='pt')\n",
    "            tokenlens.append(inputs['input_ids'].shape[1])\n"
   ]
  },
  {
   "cell_type": "code",
   "execution_count": null,
   "id": "ce5c294a-7e93-467b-9f4c-d94d0ed5b3c1",
   "metadata": {
    "execution": {
     "iopub.execute_input": "2022-06-16T09:10:06.269297Z",
     "iopub.status.busy": "2022-06-16T09:10:06.269219Z",
     "iopub.status.idle": "2022-06-16T09:10:06.271106Z",
     "shell.execute_reply": "2022-06-16T09:10:06.270815Z",
     "shell.execute_reply.started": "2022-06-16T09:10:06.269287Z"
    },
    "tags": []
   },
   "outputs": [],
   "source": [
    "import matplotlib.pyplot as plt\n",
    "import seaborn as sns"
   ]
  },
  {
   "cell_type": "code",
   "execution_count": null,
   "id": "5083fd3f-c074-44fb-838d-fde666d09bd9",
   "metadata": {
    "execution": {
     "iopub.execute_input": "2022-06-16T09:10:06.271651Z",
     "iopub.status.busy": "2022-06-16T09:10:06.271539Z",
     "iopub.status.idle": "2022-06-16T09:10:06.279262Z",
     "shell.execute_reply": "2022-06-16T09:10:06.278972Z",
     "shell.execute_reply.started": "2022-06-16T09:10:06.271635Z"
    },
    "tags": []
   },
   "outputs": [
    {
     "data": {
      "text/plain": [
       "13181"
      ]
     },
     "execution_count": 7,
     "metadata": {},
     "output_type": "execute_result"
    }
   ],
   "source": [
    "len(tokenlens[:13181])"
   ]
  },
  {
   "cell_type": "code",
   "execution_count": null,
   "id": "6403f7bb-f212-4269-873c-d5f377f09e4f",
   "metadata": {
    "execution": {
     "iopub.execute_input": "2022-06-16T09:10:06.279694Z",
     "iopub.status.busy": "2022-06-16T09:10:06.279614Z",
     "iopub.status.idle": "2022-06-16T09:10:06.288095Z",
     "shell.execute_reply": "2022-06-16T09:10:06.287760Z",
     "shell.execute_reply.started": "2022-06-16T09:10:06.279683Z"
    },
    "tags": []
   },
   "outputs": [],
   "source": [
    "import pandas as pd\n",
    "\n",
    "df = pd.DataFrame({\"Sequence token length\": tokenlens})\n",
    "df_notes = pd.DataFrame({\"Sequence token length\": tokenlens[:13181]})\n",
    "df_eventnotes = pd.DataFrame({\"Sequence token length\": tokenlens[13181:]})"
   ]
  },
  {
   "cell_type": "code",
   "execution_count": null,
   "id": "517a4d55-18a2-4a21-a075-aa17d1188da7",
   "metadata": {
    "execution": {
     "iopub.execute_input": "2022-06-16T09:10:06.288459Z",
     "iopub.status.busy": "2022-06-16T09:10:06.288393Z",
     "iopub.status.idle": "2022-06-16T09:10:06.293107Z",
     "shell.execute_reply": "2022-06-16T09:10:06.292923Z",
     "shell.execute_reply.started": "2022-06-16T09:10:06.288450Z"
    },
    "tags": []
   },
   "outputs": [
    {
     "data": {
      "text/html": [
       "<div>\n",
       "<style scoped>\n",
       "    .dataframe tbody tr th:only-of-type {\n",
       "        vertical-align: middle;\n",
       "    }\n",
       "\n",
       "    .dataframe tbody tr th {\n",
       "        vertical-align: top;\n",
       "    }\n",
       "\n",
       "    .dataframe thead th {\n",
       "        text-align: right;\n",
       "    }\n",
       "</style>\n",
       "<table border=\"1\" class=\"dataframe\">\n",
       "  <thead>\n",
       "    <tr style=\"text-align: right;\">\n",
       "      <th></th>\n",
       "      <th>Sequence token length</th>\n",
       "    </tr>\n",
       "  </thead>\n",
       "  <tbody>\n",
       "    <tr>\n",
       "      <th>0</th>\n",
       "      <td>1345</td>\n",
       "    </tr>\n",
       "    <tr>\n",
       "      <th>1</th>\n",
       "      <td>1321</td>\n",
       "    </tr>\n",
       "    <tr>\n",
       "      <th>2</th>\n",
       "      <td>1537</td>\n",
       "    </tr>\n",
       "    <tr>\n",
       "      <th>3</th>\n",
       "      <td>681</td>\n",
       "    </tr>\n",
       "    <tr>\n",
       "      <th>4</th>\n",
       "      <td>909</td>\n",
       "    </tr>\n",
       "    <tr>\n",
       "      <th>...</th>\n",
       "      <td>...</td>\n",
       "    </tr>\n",
       "    <tr>\n",
       "      <th>26357</th>\n",
       "      <td>644</td>\n",
       "    </tr>\n",
       "    <tr>\n",
       "      <th>26358</th>\n",
       "      <td>332</td>\n",
       "    </tr>\n",
       "    <tr>\n",
       "      <th>26359</th>\n",
       "      <td>1479</td>\n",
       "    </tr>\n",
       "    <tr>\n",
       "      <th>26360</th>\n",
       "      <td>34</td>\n",
       "    </tr>\n",
       "    <tr>\n",
       "      <th>26361</th>\n",
       "      <td>525</td>\n",
       "    </tr>\n",
       "  </tbody>\n",
       "</table>\n",
       "<p>26362 rows × 1 columns</p>\n",
       "</div>"
      ],
      "text/plain": [
       "       Sequence token length\n",
       "0                       1345\n",
       "1                       1321\n",
       "2                       1537\n",
       "3                        681\n",
       "4                        909\n",
       "...                      ...\n",
       "26357                    644\n",
       "26358                    332\n",
       "26359                   1479\n",
       "26360                     34\n",
       "26361                    525\n",
       "\n",
       "[26362 rows x 1 columns]"
      ]
     },
     "execution_count": 9,
     "metadata": {},
     "output_type": "execute_result"
    }
   ],
   "source": [
    "df"
   ]
  },
  {
   "cell_type": "code",
   "execution_count": null,
   "id": "8bf2ec8f-d351-40f6-87e8-e7098f0b6725",
   "metadata": {
    "execution": {
     "iopub.execute_input": "2022-06-16T09:10:06.293560Z",
     "iopub.status.busy": "2022-06-16T09:10:06.293393Z",
     "iopub.status.idle": "2022-06-16T09:10:06.296740Z",
     "shell.execute_reply": "2022-06-16T09:10:06.296508Z",
     "shell.execute_reply.started": "2022-06-16T09:10:06.293551Z"
    },
    "tags": []
   },
   "outputs": [
    {
     "data": {
      "text/html": [
       "<div>\n",
       "<style scoped>\n",
       "    .dataframe tbody tr th:only-of-type {\n",
       "        vertical-align: middle;\n",
       "    }\n",
       "\n",
       "    .dataframe tbody tr th {\n",
       "        vertical-align: top;\n",
       "    }\n",
       "\n",
       "    .dataframe thead th {\n",
       "        text-align: right;\n",
       "    }\n",
       "</style>\n",
       "<table border=\"1\" class=\"dataframe\">\n",
       "  <thead>\n",
       "    <tr style=\"text-align: right;\">\n",
       "      <th></th>\n",
       "      <th>Sequence token length</th>\n",
       "    </tr>\n",
       "  </thead>\n",
       "  <tbody>\n",
       "    <tr>\n",
       "      <th>0</th>\n",
       "      <td>875</td>\n",
       "    </tr>\n",
       "    <tr>\n",
       "      <th>1</th>\n",
       "      <td>23756</td>\n",
       "    </tr>\n",
       "    <tr>\n",
       "      <th>2</th>\n",
       "      <td>17866</td>\n",
       "    </tr>\n",
       "    <tr>\n",
       "      <th>3</th>\n",
       "      <td>1089</td>\n",
       "    </tr>\n",
       "    <tr>\n",
       "      <th>4</th>\n",
       "      <td>1989</td>\n",
       "    </tr>\n",
       "    <tr>\n",
       "      <th>...</th>\n",
       "      <td>...</td>\n",
       "    </tr>\n",
       "    <tr>\n",
       "      <th>13176</th>\n",
       "      <td>644</td>\n",
       "    </tr>\n",
       "    <tr>\n",
       "      <th>13177</th>\n",
       "      <td>332</td>\n",
       "    </tr>\n",
       "    <tr>\n",
       "      <th>13178</th>\n",
       "      <td>1479</td>\n",
       "    </tr>\n",
       "    <tr>\n",
       "      <th>13179</th>\n",
       "      <td>34</td>\n",
       "    </tr>\n",
       "    <tr>\n",
       "      <th>13180</th>\n",
       "      <td>525</td>\n",
       "    </tr>\n",
       "  </tbody>\n",
       "</table>\n",
       "<p>13181 rows × 1 columns</p>\n",
       "</div>"
      ],
      "text/plain": [
       "       Sequence token length\n",
       "0                        875\n",
       "1                      23756\n",
       "2                      17866\n",
       "3                       1089\n",
       "4                       1989\n",
       "...                      ...\n",
       "13176                    644\n",
       "13177                    332\n",
       "13178                   1479\n",
       "13179                     34\n",
       "13180                    525\n",
       "\n",
       "[13181 rows x 1 columns]"
      ]
     },
     "execution_count": 10,
     "metadata": {},
     "output_type": "execute_result"
    }
   ],
   "source": [
    "df_eventnotes"
   ]
  },
  {
   "cell_type": "code",
   "execution_count": 27,
   "id": "790cd666-380a-4ed2-aa80-54b951eaf5fc",
   "metadata": {
    "execution": {
     "iopub.execute_input": "2022-06-16T09:14:55.237771Z",
     "iopub.status.busy": "2022-06-16T09:14:55.237546Z",
     "iopub.status.idle": "2022-06-16T09:14:55.475547Z",
     "shell.execute_reply": "2022-06-16T09:14:55.475329Z",
     "shell.execute_reply.started": "2022-06-16T09:14:55.237747Z"
    },
    "tags": []
   },
   "outputs": [
    {
     "data": {
      "image/png": "[encoded data removed]",
      "text/plain": [
       "<Figure size 576x432 with 1 Axes>"
      ]
     },
     "metadata": {},
     "output_type": "display_data"
    }
   ],
   "source": [
    "latexify()\n",
    "limitx = 10000\n",
    "sns.set(rc = {'figure.figsize':(8,6)})\n",
    "#sns.set(font_scale=1.2)\n",
    "fig, ax = plt.subplots()\n",
    "sns.histplot(data=df_notes[df_notes['Sequence token length'].between(0,limitx, inclusive='left')], x=\"Sequence token length\", binwidth=100, alpha=0.4, kde=True)\n",
    "#ax.set_xlim(0,10000)\n",
    "#ax.set_xticks(range(0,10001,1000))\n",
    "plt.tight_layout()\n",
    "format_axes(ax)\n",
    "plt.savefig(\"sequence_token_length_distribution_notes.pdf\")"
   ]
  },
  {
   "cell_type": "code",
   "execution_count": 28,
   "id": "1702d237-0bc1-4dda-b631-4bf5f93f690b",
   "metadata": {
    "execution": {
     "iopub.execute_input": "2022-06-16T09:14:57.353157Z",
     "iopub.status.busy": "2022-06-16T09:14:57.352945Z",
     "iopub.status.idle": "2022-06-16T09:14:57.582111Z",
     "shell.execute_reply": "2022-06-16T09:14:57.581899Z",
     "shell.execute_reply.started": "2022-06-16T09:14:57.353126Z"
    },
    "tags": []
   },
   "outputs": [
    {
     "data": {
      "image/png": "[encoded data removed]",
      "text/plain": [
       "<Figure size 576x432 with 1 Axes>"
      ]
     },
     "metadata": {},
     "output_type": "display_data"
    }
   ],
   "source": [
    "latexify()\n",
    "limitx = 10000\n",
    "sns.set(rc = {'figure.figsize':(8,6)})\n",
    "#sns.set(font_scale=1.2)\n",
    "fig, ax = plt.subplots()\n",
    "sns.histplot(data=df_eventnotes[df_eventnotes['Sequence token length'].between(0,limitx, inclusive='left')], x=\"Sequence token length\", binwidth=100, alpha=0.4, kde=True)\n",
    "#ax.set_xlim(0,10000)\n",
    "#ax.set_xticks(range(0,10001,1000))\n",
    "plt.tight_layout()\n",
    "format_axes(ax)\n",
    "plt.savefig(\"sequence_token_length_distribution_eventnotes.pdf\")"
   ]
  },
  {
   "cell_type": "code",
   "execution_count": 53,
   "id": "4c52a7c6-b646-4dee-9680-f3b1374d7e97",
   "metadata": {
    "execution": {
     "iopub.execute_input": "2022-06-16T09:30:23.999072Z",
     "iopub.status.busy": "2022-06-16T09:30:23.998888Z",
     "iopub.status.idle": "2022-06-16T09:30:24.785807Z",
     "shell.execute_reply": "2022-06-16T09:30:24.785409Z",
     "shell.execute_reply.started": "2022-06-16T09:30:23.999054Z"
    },
    "tags": []
   },
   "outputs": [
    {
     "name": "stdout",
     "output_type": "stream",
     "text": [
      "huggingface/tokenizers: The current process just got forked, after parallelism has already been used. Disabling parallelism to avoid deadlocks...\n",
      "To disable this warning, you can either:\n",
      "\t- Avoid using `tokenizers` before the fork if possible\n",
      "\t- Explicitly set the environment variable TOKENIZERS_PARALLELISM=(true | false)\n",
      "huggingface/tokenizers: The current process just got forked, after parallelism has already been used. Disabling parallelism to avoid deadlocks...\n",
      "To disable this warning, you can either:\n",
      "\t- Avoid using `tokenizers` before the fork if possible\n",
      "\t- Explicitly set the environment variable TOKENIZERS_PARALLELISM=(true | false)\n"
     ]
    },
    {
     "data": {
      "image/png": "[encoded data removed]",
      "text/plain": [
       "<Figure size 864x576 with 1 Axes>"
      ]
     },
     "metadata": {},
     "output_type": "display_data"
    }
   ],
   "source": [
    "latexify(fig_width=12, fig_height=8, font_size=10, label_size=16, title_size=24, legend_size=11)\n",
    "limitx = 10000\n",
    "sns.set(rc = {'figure.figsize':(12,8)})\n",
    "sns.set(font_scale=1.6)\n",
    "sns.set_style(\"ticks\")\n",
    "\n",
    "fig, ax = plt.subplots()\n",
    "histplt = sns.histplot(data=df[df['Sequence token length'].between(0,limitx, inclusive='left')],\n",
    "                       x=\"Sequence token length\", binwidth=100, alpha=0.4, kde=True)\n",
    "\n",
    "histplt.set(title='Distribution of Token Sequence Lengths of Clinical Notes from MIMIC-III.')\n",
    "histplt.set_xlabel(\"Sequence Token Length (BERT-Tokenizer).\\n Maximum limits for typical pre-trained transformer models are 512 or 1024 tokens.\", fontsize = 20)\n",
    "\n",
    "# Sequence Token Length (BERT-Tokenizer).\n",
    "#ax.set_xlim(0,10000)\n",
    "#ax.set_xticks(range(0,10001,1000))\n",
    "\n",
    "\n",
    "plt.tight_layout()\n",
    "plt.axvline(512, 0, 1.0, linewidth=1, color='r', linestyle='--')\n",
    "plt.axvline(1024, 0, 1.0, linewidth=1, color='r', linestyle='--')\n",
    "\n",
    "xt = ax.get_xticks() \n",
    "xt = xt[1:-1]\n",
    "xt = np.append(xt,512)\n",
    "xt = np.append(xt,1024)\n",
    "xtl=xt.tolist()\n",
    "xtl[-2]=\"512\"\n",
    "xtl[-1]=\"1024\"\n",
    "\n",
    "ax.set_xticks(xt)\n",
    "ax.set_xticklabels(xtl)\n",
    "[t.set_color(i) for (i,t) in  zip(['k']*(len(xtl)-2) + ['r']*2,ax.xaxis.get_ticklabels())]\n",
    "\n",
    "format_axes(ax)\n",
    "plt.savefig(\"sequence_token_length_distribution.pdf\")"
   ]
  },
  {
   "cell_type": "code",
   "execution_count": 139,
   "id": "c3a7b939-0eb6-4d3f-96f1-225143dbe6ac",
   "metadata": {
    "execution": {
     "iopub.execute_input": "2022-05-17T19:16:28.458908Z",
     "iopub.status.busy": "2022-05-17T19:16:28.458368Z",
     "iopub.status.idle": "2022-05-17T19:16:28.463971Z",
     "shell.execute_reply": "2022-05-17T19:16:28.463384Z",
     "shell.execute_reply.started": "2022-05-17T19:16:28.458883Z"
    },
    "tags": []
   },
   "outputs": [
    {
     "name": "stdout",
     "output_type": "stream",
     "text": [
      "k Text(0.0, 0, '0.0')\n",
      "k Text(2000.0, 0, '2000.0')\n",
      "k Text(4000.0, 0, '4000.0')\n",
      "k Text(6000.0, 0, '6000.0')\n",
      "k Text(8000.0, 0, '8000.0')\n",
      "k Text(10000.0, 0, '10000.0')\n",
      "r Text(512.0, 0, '512')\n"
     ]
    }
   ],
   "source": [
    "for (i,t) in zip(['k']*6 + ['r'],ax.xaxis.get_ticklabels()):\n",
    "    print(i,t)"
   ]
  },
  {
   "cell_type": "code",
   "execution_count": 51,
   "id": "5d290921-0151-4a5a-8e2c-7821c7c11d2d",
   "metadata": {
    "execution": {
     "iopub.execute_input": "2022-05-17T18:27:54.204652Z",
     "iopub.status.busy": "2022-05-17T18:27:54.204316Z",
     "iopub.status.idle": "2022-05-17T18:27:54.398071Z",
     "shell.execute_reply": "2022-05-17T18:27:54.397774Z",
     "shell.execute_reply.started": "2022-05-17T18:27:54.204637Z"
    },
    "tags": []
   },
   "outputs": [
    {
     "data": {
      "image/png": "[encoded data removed]",
      "text/plain": [
       "<Figure size 576x432 with 1 Axes>"
      ]
     },
     "metadata": {},
     "output_type": "display_data"
    }
   ],
   "source": [
    "limitx = 512\n",
    "latexify()\n",
    "sns.set(rc = {'figure.figsize':(8,6)})\n",
    "#sns.set(font_scale=1.2)\n",
    "fig, ax = plt.subplots()\n",
    "sns.histplot(data=df[df['Sequence token length'].between(0,limitx, inclusive='left')], x=\"Sequence token length\", binwidth=10, alpha=0.4, kde=True)\n",
    "plt.tight_layout()\n",
    "format_axes(ax)\n",
    "plt.savefig(f\"sequence_token_length_distribution_{limitx}.pdf\")"
   ]
  },
  {
   "cell_type": "code",
   "execution_count": 60,
   "id": "622d65d3-0ffc-4a74-91a5-7182c107fb63",
   "metadata": {
    "execution": {
     "iopub.execute_input": "2022-05-17T18:31:16.575871Z",
     "iopub.status.busy": "2022-05-17T18:31:16.575717Z",
     "iopub.status.idle": "2022-05-17T18:31:16.870582Z",
     "shell.execute_reply": "2022-05-17T18:31:16.870214Z",
     "shell.execute_reply.started": "2022-05-17T18:31:16.575859Z"
    },
    "tags": []
   },
   "outputs": [
    {
     "data": {
      "image/png": "[encoded data removed]",
      "text/plain": [
       "<Figure size 576x432 with 1 Axes>"
      ]
     },
     "metadata": {},
     "output_type": "display_data"
    }
   ],
   "source": [
    "limitx = 89377\n",
    "latexify()\n",
    "sns.set(rc = {'figure.figsize':(8,6)})\n",
    "#sns.set(font_scale=1.2)\n",
    "fig, ax = plt.subplots()\n",
    "sns.histplot(data=df[df['Sequence token length'].between(512,limitx, inclusive='left')], x=\"Sequence token length\", binwidth=500, alpha=0.4, kde=True)\n",
    "plt.tight_layout()\n",
    "format_axes(ax)\n",
    "plt.savefig(f\"sequence_token_length_distribution_512-{limitx}.pdf\")"
   ]
  },
  {
   "cell_type": "code",
   "execution_count": 16,
   "id": "90fb6ae4-1932-4359-98ca-d885c7c603e8",
   "metadata": {
    "execution": {
     "iopub.execute_input": "2022-05-17T17:55:18.019338Z",
     "iopub.status.busy": "2022-05-17T17:55:18.019157Z",
     "iopub.status.idle": "2022-05-17T17:55:18.030776Z",
     "shell.execute_reply": "2022-05-17T17:55:18.030565Z",
     "shell.execute_reply.started": "2022-05-17T17:55:18.019320Z"
    },
    "tags": []
   },
   "outputs": [
    {
     "data": {
      "text/html": [
       "<div>\n",
       "<style scoped>\n",
       "    .dataframe tbody tr th:only-of-type {\n",
       "        vertical-align: middle;\n",
       "    }\n",
       "\n",
       "    .dataframe tbody tr th {\n",
       "        vertical-align: top;\n",
       "    }\n",
       "\n",
       "    .dataframe thead th {\n",
       "        text-align: right;\n",
       "    }\n",
       "</style>\n",
       "<table border=\"1\" class=\"dataframe\">\n",
       "  <thead>\n",
       "    <tr style=\"text-align: right;\">\n",
       "      <th></th>\n",
       "      <th>Sequence token length</th>\n",
       "    </tr>\n",
       "  </thead>\n",
       "  <tbody>\n",
       "    <tr>\n",
       "      <th>count</th>\n",
       "      <td>26362.000000</td>\n",
       "    </tr>\n",
       "    <tr>\n",
       "      <th>mean</th>\n",
       "      <td>1536.345497</td>\n",
       "    </tr>\n",
       "    <tr>\n",
       "      <th>std</th>\n",
       "      <td>3038.140588</td>\n",
       "    </tr>\n",
       "    <tr>\n",
       "      <th>min</th>\n",
       "      <td>1.000000</td>\n",
       "    </tr>\n",
       "    <tr>\n",
       "      <th>25%</th>\n",
       "      <td>441.000000</td>\n",
       "    </tr>\n",
       "    <tr>\n",
       "      <th>50%</th>\n",
       "      <td>801.000000</td>\n",
       "    </tr>\n",
       "    <tr>\n",
       "      <th>75%</th>\n",
       "      <td>1430.000000</td>\n",
       "    </tr>\n",
       "    <tr>\n",
       "      <th>max</th>\n",
       "      <td>89377.000000</td>\n",
       "    </tr>\n",
       "  </tbody>\n",
       "</table>\n",
       "</div>"
      ],
      "text/plain": [
       "       Sequence token length\n",
       "count           26362.000000\n",
       "mean             1536.345497\n",
       "std              3038.140588\n",
       "min                 1.000000\n",
       "25%               441.000000\n",
       "50%               801.000000\n",
       "75%              1430.000000\n",
       "max             89377.000000"
      ]
     },
     "execution_count": 16,
     "metadata": {},
     "output_type": "execute_result"
    }
   ],
   "source": [
    "df.describe()"
   ]
  },
  {
   "cell_type": "code",
   "execution_count": 105,
   "id": "12b9dbe8-677f-4cea-89d6-68e74a22b30c",
   "metadata": {
    "execution": {
     "iopub.execute_input": "2022-05-17T19:00:29.735252Z",
     "iopub.status.busy": "2022-05-17T19:00:29.734761Z",
     "iopub.status.idle": "2022-05-17T19:00:29.738509Z",
     "shell.execute_reply": "2022-05-17T19:00:29.738220Z",
     "shell.execute_reply.started": "2022-05-17T19:00:29.735238Z"
    },
    "tags": []
   },
   "outputs": [
    {
     "data": {
      "text/plain": [
       "30.752598437144375"
      ]
     },
     "execution_count": 105,
     "metadata": {},
     "output_type": "execute_result"
    }
   ],
   "source": [
    "# df[df<51].count()\n",
    "df['Sequence token length'].between(0,512, inclusive='left').sum()/len(df)*100"
   ]
  },
  {
   "cell_type": "code",
   "execution_count": 71,
   "id": "4b2a0c6d-18d9-445d-8b1c-2a6a5d953b7d",
   "metadata": {
    "execution": {
     "iopub.execute_input": "2022-05-17T18:43:35.976391Z",
     "iopub.status.busy": "2022-05-17T18:43:35.975978Z",
     "iopub.status.idle": "2022-05-17T18:43:35.979975Z",
     "shell.execute_reply": "2022-05-17T18:43:35.979758Z",
     "shell.execute_reply.started": "2022-05-17T18:43:35.976372Z"
    },
    "tags": []
   },
   "outputs": [
    {
     "data": {
      "text/plain": [
       "2.192549882406494"
      ]
     },
     "execution_count": 71,
     "metadata": {},
     "output_type": "execute_result"
    }
   ],
   "source": [
    "# df[df<51].count()\n",
    "df['Sequence token length'].between(10000,900000, inclusive='left').sum()/len(df)*100"
   ]
  },
  {
   "cell_type": "code",
   "execution_count": null,
   "id": "c82b0ab3-c5ca-4e62-b497-36a0c2234051",
   "metadata": {
    "tags": []
   },
   "outputs": [],
   "source": [
    "df.describe()"
   ]
  },
  {
   "cell_type": "code",
   "execution_count": null,
   "id": "24a5079c-ed5c-4264-bad6-0c491877be8f",
   "metadata": {
    "tags": []
   },
   "outputs": [],
   "source": [
    "df.median()"
   ]
  },
  {
   "cell_type": "code",
   "execution_count": 92,
   "id": "7b74ff4a-bfbe-4cea-8337-2bedfbbcc328",
   "metadata": {
    "execution": {
     "iopub.execute_input": "2022-05-17T18:50:05.816304Z",
     "iopub.status.busy": "2022-05-17T18:50:05.816126Z",
     "iopub.status.idle": "2022-05-17T18:50:05.819114Z",
     "shell.execute_reply": "2022-05-17T18:50:05.818914Z",
     "shell.execute_reply.started": "2022-05-17T18:50:05.816283Z"
    },
    "tags": []
   },
   "outputs": [
    {
     "data": {
      "text/plain": [
       "19.99089598664745"
      ]
     },
     "execution_count": 92,
     "metadata": {},
     "output_type": "execute_result"
    }
   ],
   "source": [
    "5270/len(df)*100"
   ]
  },
  {
   "cell_type": "code",
   "execution_count": null,
   "id": "0e917816-b488-46a9-851e-507aea2e2d2f",
   "metadata": {},
   "outputs": [],
   "source": []
  }
 ],
 "metadata": {
  "kernelspec": {
   "display_name": "Python 3 (ipykernel)",
   "language": "python",
   "name": "python3"
  },
  "language_info": {
   "codemirror_mode": {
    "name": "ipython",
    "version": 3
   },
   "file_extension": ".py",
   "mimetype": "text/x-python",
   "name": "python",
   "nbconvert_exporter": "python",
   "pygments_lexer": "ipython3",
   "version": "3.8.12"
  }
 },
 "nbformat": 4,
 "nbformat_minor": 5
}
