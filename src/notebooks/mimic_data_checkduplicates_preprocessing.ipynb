{
 "cells": [
  {
   "cell_type": "code",
   "execution_count": null,
   "id": "03755722-27c7-4802-9e14-6f0a4a5afba9",
   "metadata": {
    "tags": []
   },
   "outputs": [],
   "source": [
    "# check if there are duplictaes in the clinical notes\n",
    "\n",
    "import numpy as np\n",
    "from collections import Counter"
   ]
  },
  {
   "cell_type": "code",
   "execution_count": null,
   "id": "e0e3af6e-8653-47bf-b6c5-461cc22138a4",
   "metadata": {
    "tags": []
   },
   "outputs": [],
   "source": [
    "import pickle\n",
    "\n",
    "df_train = pickle.load(open('/home/thetaphipsi/MasterAI/src/CNEP/src/data/mimic3/full_train_data.pickle', 'rb'))\n",
    "df_val = pickle.load(open('/home/thetaphipsi/MasterAI/src/CNEP/src/data/mimic3/full_val_data.pickle', 'rb'))\n",
    "df_test = pickle.load(open('/home/thetaphipsi/MasterAI/src/CNEP/src/data/mimic3/full_test_data.pickle', 'rb'))"
   ]
  },
  {
   "cell_type": "code",
   "execution_count": null,
   "id": "80e1ffa2-4fa9-4639-a15d-b24b7155f5ee",
   "metadata": {
    "tags": []
   },
   "outputs": [],
   "source": [
    "sequence_length = None\n",
    "\n",
    "notes_train = [n[:sequence_length] for n in df_train['notes']]\n",
    "notes_val = [n[:sequence_length] for n in df_val['notes']]\n",
    "notes_test = [n[:sequence_length] for n in df_test['notes']]"
   ]
  },
  {
   "cell_type": "code",
   "execution_count": null,
   "id": "2480188a-73cc-4557-9d63-a64986ae6ea2",
   "metadata": {
    "tags": []
   },
   "outputs": [],
   "source": [
    "def checkIfDuplicates(listOfElems):\n",
    "    ''' Check if given list contains any duplicates '''\n",
    "    if len(listOfElems) == len(set(listOfElems)):\n",
    "        return False\n",
    "    else:\n",
    "        return True\n",
    "\n",
    "checkIfDuplicates(notes_train), checkIfDuplicates(notes_val), checkIfDuplicates(notes_test)"
   ]
  },
  {
   "cell_type": "code",
   "execution_count": null,
   "id": "83ab9bd5-65d1-44db-840f-f68b98e82708",
   "metadata": {
    "tags": []
   },
   "outputs": [],
   "source": [
    "len(notes_train), len(set(notes_train)), len(notes_val), len(set(notes_val)), len(notes_test), len(set(notes_test))"
   ]
  },
  {
   "cell_type": "code",
   "execution_count": null,
   "id": "39e79ad9-c15a-46e6-bdb3-d6f300a3c6c2",
   "metadata": {
    "tags": []
   },
   "outputs": [],
   "source": [
    "def getDupes(l):\n",
    "    seen = set()\n",
    "    seen_add = seen.add\n",
    "    for x in l:\n",
    "        if x in seen or seen_add(x):\n",
    "            yield x"
   ]
  },
  {
   "cell_type": "code",
   "execution_count": null,
   "id": "cbb46631-2b64-41b9-9418-5ae7603fe2eb",
   "metadata": {
    "tags": []
   },
   "outputs": [],
   "source": [
    "dupl_train = list(set([n for n in getDupes(notes_train)]))\n",
    "dupl_val = list(set([n for n in getDupes(notes_val)]))\n",
    "dupl_test = list(set([n for n in getDupes(notes_test)]))"
   ]
  },
  {
   "cell_type": "code",
   "execution_count": null,
   "id": "e29f7c5e-4590-4f5a-9bd1-eb392fe84058",
   "metadata": {
    "tags": []
   },
   "outputs": [],
   "source": [
    "assert dupl_train[0] in notes_train\n",
    "assert dupl_val[0] in notes_val\n",
    "assert dupl_test[0] in notes_test"
   ]
  },
  {
   "cell_type": "code",
   "execution_count": null,
   "id": "5786e19f-b44e-4527-afab-f90bbdae0415",
   "metadata": {
    "tags": []
   },
   "outputs": [],
   "source": [
    "checkIfDuplicates(set(dupl_train))"
   ]
  },
  {
   "cell_type": "code",
   "execution_count": null,
   "id": "01c126f4-9bfd-4122-b2d6-eba47d7a9859",
   "metadata": {
    "tags": []
   },
   "outputs": [],
   "source": [
    "indices_train = [[i for i, x in enumerate(notes_train) if x == d] for d in set(dupl_train)]\n",
    "indices_val = [[i for i, x in enumerate(notes_val) if x == d] for d in set(dupl_val)]\n",
    "indices_test = [[i for i, x in enumerate(notes_test) if x == d] for d in set(dupl_test)]"
   ]
  },
  {
   "cell_type": "code",
   "execution_count": null,
   "id": "616b6fab-4603-456d-8074-086d40f0aba3",
   "metadata": {
    "tags": []
   },
   "outputs": [],
   "source": [
    "indices_train[:5]"
   ]
  },
  {
   "cell_type": "code",
   "execution_count": null,
   "id": "efea2dfc-5caf-4090-b17b-bef4b08cca6f",
   "metadata": {
    "tags": []
   },
   "outputs": [],
   "source": [
    "len(indices_train), len(indices_val), len(indices_test)"
   ]
  },
  {
   "cell_type": "code",
   "execution_count": null,
   "id": "613678f4-86fd-4dc1-a5f0-a5c0f9a207ab",
   "metadata": {
    "tags": []
   },
   "outputs": [],
   "source": [
    "#[df_train['labels'][i] for i in indices_train]"
   ]
  },
  {
   "cell_type": "code",
   "execution_count": null,
   "id": "35c485a0-26a8-4e98-bbc7-d81f3145a29b",
   "metadata": {
    "tags": []
   },
   "outputs": [],
   "source": [
    "allduplicates_train = [len([i for i, x in enumerate(notes_train) if x == dupl_train[j]]) for j in range(len(dupl_train))]\n",
    "allduplicates_val = [len([i for i, x in enumerate(notes_val) if x == dupl_val[j]]) for j in range(len(dupl_val))]\n",
    "allduplicates_test = [len([i for i, x in enumerate(notes_test) if x == dupl_test[j]]) for j in range(len(dupl_test))]"
   ]
  },
  {
   "cell_type": "code",
   "execution_count": null,
   "id": "3de69133-79f4-43e3-b1bd-51ccd2d0d3c5",
   "metadata": {
    "tags": []
   },
   "outputs": [],
   "source": [
    "import seaborn as sns"
   ]
  },
  {
   "cell_type": "code",
   "execution_count": null,
   "id": "1ba64ca0-915f-471c-8a09-233198bd820c",
   "metadata": {
    "tags": []
   },
   "outputs": [],
   "source": [
    "sns.histplot(allduplicates_train)\n",
    "sns.histplot(allduplicates_val)\n",
    "sns.histplot(allduplicates_test)"
   ]
  },
  {
   "cell_type": "code",
   "execution_count": null,
   "id": "20bfd8f7-4e4b-4eb1-aca2-74c7528d5242",
   "metadata": {
    "tags": []
   },
   "outputs": [],
   "source": [
    "len(allduplicates_train), len(allduplicates_val), len(allduplicates_test)"
   ]
  },
  {
   "cell_type": "code",
   "execution_count": null,
   "id": "d4d1a989-8fe5-4c83-beb7-e695e7865c95",
   "metadata": {
    "tags": []
   },
   "outputs": [],
   "source": [
    "len(notes_train) - len(allduplicates_train), len(notes_val) - len(allduplicates_val), len(notes_test) - len(allduplicates_test)"
   ]
  },
  {
   "cell_type": "code",
   "execution_count": null,
   "id": "d00de1fa-1d2e-41c0-a48e-faa0f4a54858",
   "metadata": {
    "tags": []
   },
   "outputs": [],
   "source": [
    "Counter(allduplicates_train), Counter(allduplicates_val), Counter(allduplicates_test)"
   ]
  },
  {
   "cell_type": "code",
   "execution_count": null,
   "id": "8f9d61ad-245c-45bd-b9dc-c325a119cd3b",
   "metadata": {
    "tags": []
   },
   "outputs": [],
   "source": [
    "# get all indices, but the first\n",
    "\n",
    "indices_train_remove = [i[1:] for i in indices_train]\n",
    "indices_val_remove = [i[1:] for i in indices_val]\n",
    "indices_test_remove = [i[1:] for i in indices_test]\n",
    "\n",
    "indices_train_keep = [i[0] for i in indices_train]\n",
    "indices_val_keep = [i[0] for i in indices_val]\n",
    "indices_test_keep = [i[0] for i in indices_test]"
   ]
  },
  {
   "cell_type": "code",
   "execution_count": null,
   "id": "898ab827-41f8-4ed8-9d19-d00b6adb6fee",
   "metadata": {
    "tags": []
   },
   "outputs": [],
   "source": [
    "flat_list_train = np.asarray([item for sublist in indices_train_remove for item in sublist])\n",
    "flat_list_val = np.asarray([item for sublist in indices_val_remove for item in sublist])\n",
    "flat_list_test = np.asarray([item for sublist in indices_test_remove for item in sublist])"
   ]
  },
  {
   "cell_type": "code",
   "execution_count": null,
   "id": "a978887f-0d68-4172-8514-b4bbf9e651a6",
   "metadata": {
    "tags": []
   },
   "outputs": [],
   "source": [
    "assert len(flat_list_train) == len(set(flat_list_train))\n",
    "assert len(flat_list_val) == len(set(flat_list_val))\n",
    "assert len(flat_list_test) == len(set(flat_list_test))"
   ]
  },
  {
   "cell_type": "code",
   "execution_count": null,
   "id": "4df8c46e-a2de-4fb6-bdab-6ad4c2f1c7f9",
   "metadata": {
    "tags": []
   },
   "outputs": [],
   "source": [
    "flat_list_train.sort()\n",
    "flat_list_val.sort()\n",
    "flat_list_test.sort()\n",
    "\n",
    "indices_train_keep.sort()\n",
    "indices_val_keep.sort()\n",
    "indices_test_keep.sort()"
   ]
  },
  {
   "cell_type": "code",
   "execution_count": null,
   "id": "b4250ea3-cec7-4dab-a9c9-c3510c6258c7",
   "metadata": {
    "tags": []
   },
   "outputs": [],
   "source": [
    "train_indices = np.arange(len(notes_train))\n",
    "val_indices = np.arange(len(notes_val))\n",
    "test_indices = np.arange(len(notes_test))"
   ]
  },
  {
   "cell_type": "code",
   "execution_count": null,
   "id": "ae461207-05a4-4433-baec-69a0e09bd749",
   "metadata": {
    "tags": []
   },
   "outputs": [],
   "source": [
    "# remove those indices from original data sets"
   ]
  },
  {
   "cell_type": "code",
   "execution_count": null,
   "id": "305f052a-24c7-4ed7-93b5-bbd68f1bc8a1",
   "metadata": {
    "tags": []
   },
   "outputs": [],
   "source": [
    "mask = np.ones(len(notes_train), bool)\n",
    "mask[flat_list_train] = False\n",
    "print(train_indices[mask], len(train_indices[mask]))\n",
    "df_train_new = {}\n",
    "df_train_new['notes'] = df_train['notes'][mask]\n",
    "df_train_new['labels'] = df_train['labels'][mask]\n",
    "df_train_new['inputs'] = df_train['inputs'][mask]"
   ]
  },
  {
   "cell_type": "code",
   "execution_count": null,
   "id": "63f623a1-3a96-4d92-b9d3-a6d532ea83c7",
   "metadata": {
    "tags": []
   },
   "outputs": [],
   "source": [
    "mask = np.ones(len(notes_val), bool)\n",
    "mask[flat_list_val] = False\n",
    "print(val_indices[mask], len(val_indices[mask]))\n",
    "df_val_new = {}\n",
    "df_val_new['notes'] = df_val['notes'][mask]\n",
    "df_val_new['labels'] = df_val['labels'][mask]\n",
    "df_val_new['inputs'] = df_val['inputs'][mask]"
   ]
  },
  {
   "cell_type": "code",
   "execution_count": null,
   "id": "a7f6d3f7-1731-499f-8017-a14d5745cbaa",
   "metadata": {
    "tags": []
   },
   "outputs": [],
   "source": [
    "mask = np.ones(len(notes_test), bool)\n",
    "mask[flat_list_test] = False\n",
    "print(test_indices[mask], len(test_indices[mask]))\n",
    "df_test_new = {}\n",
    "df_test_new['notes'] = df_test['notes'][mask]\n",
    "df_test_new['labels'] = df_test['labels'][mask]\n",
    "df_test_new['inputs'] = df_test['inputs'][mask]"
   ]
  },
  {
   "cell_type": "code",
   "execution_count": null,
   "id": "1edf3e22-bd28-4a2e-98ce-d295b3755246",
   "metadata": {},
   "outputs": [],
   "source": []
  }
 ],
 "metadata": {
  "kernelspec": {
   "display_name": "Python 3 (ipykernel)",
   "language": "python",
   "name": "python3"
  },
  "language_info": {
   "codemirror_mode": {
    "name": "ipython",
    "version": 3
   },
   "file_extension": ".py",
   "mimetype": "text/x-python",
   "name": "python",
   "nbconvert_exporter": "python",
   "pygments_lexer": "ipython3",
   "version": "3.8.12"
  }
 },
 "nbformat": 4,
 "nbformat_minor": 5
}
