{
 "cells": [
  {
   "cell_type": "markdown",
   "id": "bcd51f15-c6e6-4573-a05a-dc6e6f9e9b1f",
   "metadata": {},
   "source": [
    "# PP Score Calculations"
   ]
  },
  {
   "cell_type": "code",
   "execution_count": null,
   "id": "fe27e261-e470-40cd-801b-87b28dc014be",
   "metadata": {
    "tags": []
   },
   "outputs": [],
   "source": [
    "import pandas as pd\n",
    "import numpy as np\n",
    "import ppscore as pps\n",
    "\n",
    "df = pd.DataFrame()\n",
    "df[\"x\"] = np.random.uniform(-2, 2, 1_000_000)\n",
    "df[\"error\"] = np.random.uniform(-0.5, 0.5, 1_000_000)\n",
    "df[\"y\"] = df[\"x\"] * df[\"x\"] + df[\"error\"]"
   ]
  },
  {
   "cell_type": "code",
   "execution_count": null,
   "id": "0dc2123c-3e46-4c2e-a703-4a3f9c6eb101",
   "metadata": {
    "tags": []
   },
   "outputs": [],
   "source": [
    "df"
   ]
  },
  {
   "cell_type": "code",
   "execution_count": null,
   "id": "17ac46d5-0cd0-438d-a2f1-32ce09906cf9",
   "metadata": {
    "tags": []
   },
   "outputs": [],
   "source": [
    "pps.score(df, \"x\", \"y\"), pps.score(df, \"y\", \"x\")"
   ]
  },
  {
   "cell_type": "code",
   "execution_count": null,
   "id": "c1a68873-1104-4329-99e0-b805cf14f931",
   "metadata": {
    "tags": []
   },
   "outputs": [],
   "source": [
    "pps.predictors(df, \"y\")"
   ]
  },
  {
   "cell_type": "code",
   "execution_count": null,
   "id": "53b1bd4b-1e34-4b9a-96e7-5129cb9e06ba",
   "metadata": {
    "tags": []
   },
   "outputs": [],
   "source": [
    "pps.matrix(df)"
   ]
  },
  {
   "cell_type": "code",
   "execution_count": null,
   "id": "59a9a619-4310-4f1e-b074-387b92321c40",
   "metadata": {
    "tags": []
   },
   "outputs": [],
   "source": [
    "import seaborn as sns\n",
    "predictors_df = pps.predictors(df, y=\"y\")\n",
    "sns.barplot(data=predictors_df, x=\"x\", y=\"ppscore\")"
   ]
  },
  {
   "cell_type": "code",
   "execution_count": null,
   "id": "08050bb3-0370-46db-b929-97cc572d636a",
   "metadata": {
    "tags": []
   },
   "outputs": [],
   "source": [
    "import seaborn as sns\n",
    "matrix_df = pps.matrix(df)[['x', 'y', 'ppscore']].pivot(columns='x', index='y', values='ppscore')\n",
    "sns.heatmap(matrix_df, vmin=0, vmax=1, cmap=\"Blues\", linewidths=0.5, annot=True)"
   ]
  },
  {
   "cell_type": "code",
   "execution_count": null,
   "id": "ac7d42bb-e08b-4d40-99d1-42733a0467b0",
   "metadata": {
    "tags": []
   },
   "outputs": [],
   "source": [
    "import pickle\n",
    "from numpy import linalg as LA\n",
    "import numpy as np"
   ]
  },
  {
   "cell_type": "code",
   "execution_count": null,
   "id": "519148c4-d9a1-42a4-b6b5-130946120bb5",
   "metadata": {
    "tags": []
   },
   "outputs": [],
   "source": [
    "df = pickle.load(open(f'../data/mimic3/new_extended_data_unique_embed_CliBERT_2m.pickle', 'rb'))\n",
    "x = df['inputs']\n",
    "x1 = df['embeds']\n",
    "x2 = df['embeds_events']\n",
    "X = np.hstack([x1, x2])\n",
    "y = LA.norm(X, axis=-1)\n",
    "\n",
    "import einops\n",
    "x = einops.rearrange(x, 'x y z -> (x y) z')[:,:390-300]\n",
    "\n",
    "df_ = pd.DataFrame(x)\n",
    "# df_[\"y\"] = y\n",
    "# df_['x'] = x\n",
    "# df_[\"x1\"] = LA.norm(x1, axis=-1)\n",
    "# df_[\"x2\"] = LA.norm(x2, axis=-1)"
   ]
  },
  {
   "cell_type": "code",
   "execution_count": null,
   "id": "9397cc64-6696-413d-930c-a5d332fbdc73",
   "metadata": {
    "tags": []
   },
   "outputs": [],
   "source": [
    "matrix_df = pps.matrix(df_)[['x', 'y', 'ppscore']].pivot(columns='x', index='y', values='ppscore')\n",
    "sns.heatmap(matrix_df, vmin=0, vmax=1, cmap=\"Blues\", linewidths=0.5, annot=True)"
   ]
  },
  {
   "cell_type": "code",
   "execution_count": null,
   "id": "3a735361-e77a-4d22-8ec2-96c88cb2425c",
   "metadata": {
    "tags": []
   },
   "outputs": [],
   "source": [
    "sns.set(rc={'figure.figsize':(32,24)})\n",
    "sns.heatmap(matrix_df, vmin=0, vmax=1, cmap=\"magma\", linewidths=0, annot=False)"
   ]
  },
  {
   "cell_type": "code",
   "execution_count": null,
   "id": "3aa8b259-4f86-4ece-9ec9-1555b5e3fabb",
   "metadata": {},
   "outputs": [],
   "source": []
  }
 ],
 "metadata": {
  "kernelspec": {
   "display_name": "Python 3 (ipykernel)",
   "language": "python",
   "name": "python3"
  },
  "language_info": {
   "codemirror_mode": {
    "name": "ipython",
    "version": 3
   },
   "file_extension": ".py",
   "mimetype": "text/x-python",
   "name": "python",
   "nbconvert_exporter": "python",
   "pygments_lexer": "ipython3",
   "version": "3.8.12"
  }
 },
 "nbformat": 4,
 "nbformat_minor": 5
}
