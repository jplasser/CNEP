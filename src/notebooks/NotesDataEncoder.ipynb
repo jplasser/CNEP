{
 "cells": [
  {
   "cell_type": "code",
   "execution_count": 106,
   "id": "6d3a89e7",
   "metadata": {},
   "outputs": [],
   "source": [
    "import torch\n",
    "from torch import nn\n",
    "import numpy as np\n"
   ]
  },
  {
   "cell_type": "code",
   "execution_count": 107,
   "id": "4178d4be",
   "metadata": {},
   "outputs": [],
   "source": [
    "class NotesDataEncoder(nn.Module):\n",
    "    def __init__(self, width=[700, 800], output_dim=1024):\n",
    "        super().__init__()\n",
    "        self.output_dim = output_dim\n",
    "        width.append(output_dim)\n",
    "        self.width = width\n",
    "        self.layers = len(width) - 1\n",
    "        \n",
    "        self.encoder = nn.Sequential(\n",
    "            *[nn.Sequential(nn.Linear(width[l_i], width[l_i + 1]), nn.ReLU()) for l_i in range(self.layers)],\n",
    "            nn.LayerNorm(width[-1]))\n",
    "\n",
    "    def forward(self, x: torch.Tensor):\n",
    "        return self.encoder(x)"
   ]
  },
  {
   "cell_type": "code",
   "execution_count": 108,
   "id": "7a07a49d",
   "metadata": {},
   "outputs": [],
   "source": [
    "model = NotesDataEncoder()"
   ]
  },
  {
   "cell_type": "code",
   "execution_count": 109,
   "id": "b6394c28",
   "metadata": {},
   "outputs": [
    {
     "data": {
      "text/plain": [
       "NotesDataEncoder(\n",
       "  (encoder): Sequential(\n",
       "    (0): Sequential(\n",
       "      (0): Linear(in_features=700, out_features=800, bias=True)\n",
       "      (1): ReLU()\n",
       "    )\n",
       "    (1): Sequential(\n",
       "      (0): Linear(in_features=800, out_features=1024, bias=True)\n",
       "      (1): ReLU()\n",
       "    )\n",
       "    (2): LayerNorm((1024,), eps=1e-05, elementwise_affine=True)\n",
       "  )\n",
       ")"
      ]
     },
     "execution_count": 109,
     "metadata": {},
     "output_type": "execute_result"
    }
   ],
   "source": [
    "model"
   ]
  },
  {
   "cell_type": "code",
   "execution_count": 110,
   "id": "de696535",
   "metadata": {},
   "outputs": [
    {
     "data": {
      "text/plain": [
       "tensor([[ 1.8448,  0.4736, -0.3810,  ..., -0.6798, -0.4843, -0.6798],\n",
       "        [ 4.1571, -0.4864,  0.1862,  ...,  1.1307,  0.8351, -0.6937],\n",
       "        [ 2.7739, -0.6796,  1.3654,  ..., -0.6796, -0.4673, -0.6796],\n",
       "        ...,\n",
       "        [ 1.8897,  2.2067,  2.4408,  ..., -0.6936,  1.0803, -0.6936],\n",
       "        [ 1.1715,  0.8213,  0.9643,  ...,  0.5293, -0.6456,  1.2543],\n",
       "        [ 2.0443, -0.6871, -0.6871,  ...,  1.7267,  0.8826, -0.6871]],\n",
       "       grad_fn=<NativeLayerNormBackward0>)"
      ]
     },
     "execution_count": 110,
     "metadata": {},
     "output_type": "execute_result"
    }
   ],
   "source": [
    "model(torch.randn(10,700))"
   ]
  },
  {
   "cell_type": "code",
   "execution_count": 111,
   "id": "93485d34",
   "metadata": {},
   "outputs": [
    {
     "data": {
      "text/plain": [
       "Parameter containing:\n",
       "tensor([[-0.0015, -0.0163,  0.0274,  ..., -0.0345,  0.0230,  0.0330],\n",
       "        [ 0.0157, -0.0021, -0.0176,  ...,  0.0221, -0.0014, -0.0250],\n",
       "        [ 0.0006, -0.0147, -0.0312,  ..., -0.0358, -0.0062,  0.0112],\n",
       "        ...,\n",
       "        [ 0.0271,  0.0302,  0.0223,  ...,  0.0304, -0.0219,  0.0056],\n",
       "        [-0.0350,  0.0167, -0.0313,  ...,  0.0232,  0.0192, -0.0195],\n",
       "        [-0.0288,  0.0093,  0.0232,  ...,  0.0202, -0.0332,  0.0043]],\n",
       "       requires_grad=True)"
      ]
     },
     "execution_count": 111,
     "metadata": {},
     "output_type": "execute_result"
    }
   ],
   "source": [
    "model.encoder[0][0].weight"
   ]
  },
  {
   "cell_type": "code",
   "execution_count": 112,
   "id": "55232db1",
   "metadata": {},
   "outputs": [],
   "source": [
    "std = 1.\n",
    "for i in range(len(model.encoder)-1):\n",
    "    nn.init.normal_(model.encoder[i][0].weight, std=std)"
   ]
  },
  {
   "cell_type": "code",
   "execution_count": 113,
   "id": "e668d1e7",
   "metadata": {},
   "outputs": [
    {
     "data": {
      "text/plain": [
       "2"
      ]
     },
     "execution_count": 113,
     "metadata": {},
     "output_type": "execute_result"
    }
   ],
   "source": [
    "len(model.encoder)-1"
   ]
  },
  {
   "cell_type": "code",
   "execution_count": 114,
   "id": "723e68fc",
   "metadata": {},
   "outputs": [
    {
     "data": {
      "text/plain": [
       "Linear(in_features=800, out_features=1024, bias=True)"
      ]
     },
     "execution_count": 114,
     "metadata": {},
     "output_type": "execute_result"
    }
   ],
   "source": [
    "model.encoder[i][0]"
   ]
  },
  {
   "cell_type": "code",
   "execution_count": null,
   "id": "52a53815",
   "metadata": {},
   "outputs": [],
   "source": []
  }
 ],
 "metadata": {
  "kernelspec": {
   "display_name": "Python 3 (ipykernel)",
   "language": "python",
   "name": "python3"
  },
  "language_info": {
   "codemirror_mode": {
    "name": "ipython",
    "version": 3
   },
   "file_extension": ".py",
   "mimetype": "text/x-python",
   "name": "python",
   "nbconvert_exporter": "python",
   "pygments_lexer": "ipython3",
   "version": "3.8.12"
  }
 },
 "nbformat": 4,
 "nbformat_minor": 5
}
