{
 "cells": [
  {
   "cell_type": "markdown",
   "id": "c181853f-f507-42e2-8bc4-57de4eee0ecd",
   "metadata": {},
   "source": [
    "# Plot TSNE of All Embeddings\n",
    "\n",
    "Plots 2-dim TSNE maps of all embeddings. "
   ]
  },
  {
   "cell_type": "code",
   "execution_count": null,
   "id": "0e0cdbf3",
   "metadata": {},
   "outputs": [],
   "source": [
    "from sklearn.manifold import TSNE\n",
    "from numpy import reshape\n",
    "import numpy as np\n",
    "import seaborn as sns\n",
    "import pandas as pd  \n",
    "from tqdm import tqdm\n",
    "import matplotlib.pyplot as plt\n",
    "import matplotlib.colors as mcolors\n",
    "import umap\n",
    "from sklearn.preprocessing import StandardScaler\n",
    "from sklearn.cluster import KMeans\n",
    "import pickle\n",
    "import einops\n",
    "from numpy import linalg as LA"
   ]
  },
  {
   "cell_type": "code",
   "execution_count": null,
   "id": "3a5bc4a6-ad02-4ee4-b4f5-5c2c6a9cdbc6",
   "metadata": {
    "tags": []
   },
   "outputs": [],
   "source": [
    "# https://stackoverflow.com/questions/53968004/how-to-silence-all-sklearn-warning\n",
    "import warnings\n",
    "warnings.filterwarnings('ignore') "
   ]
  },
  {
   "cell_type": "code",
   "execution_count": null,
   "id": "c1ea131a-141a-498d-81fc-fe7527ed1743",
   "metadata": {
    "tags": []
   },
   "outputs": [],
   "source": [
    "import glob\n",
    "import regex as re\n",
    "\n",
    "files = glob.glob('../data/mimic3/new_extended_data_unique_embed_*.pickle')\n",
    "regex = r\"new_extended_data_unique_embed_(.*?).pickle\"\n",
    "\n",
    "test_str = \" \".join(files)\n",
    "matches = re.finditer(regex, test_str, re.MULTILINE)\n",
    "\n",
    "datasets = [match.groups()[0] for match in matches]\n",
    "datasets.sort()\n",
    "\n",
    "print(datasets)\n",
    "\n",
    "dslist = [\n",
    " 'BERT_chunked_meanpooler_prepro',\n",
    " 'BioBERT_chunked_meanpooler_prepro',\n",
    " 'BioELECTRA_chunked_meanpooler_prepro',\n",
    " 'CliBERT_2m_chunked_meanpooler_prepro',\n",
    " 'Doc2Vec_prepro',\n",
    " 'GPT-2_chunked_meanpooler_prepro',\n",
    " 'PubMedBERT_chunked_meanpooler_prepro',\n",
    " 'RoBERTa_chunked_meanpooler_prepro',\n",
    " 'SentenceTransformer_chunked_prepro',\n",
    " 's2v']\n",
    "\n",
    "removelist = [d for d in datasets if d not in dslist]\n",
    "\n",
    "for r in removelist:\n",
    "    try:\n",
    "         datasets.remove(r) # CNEP is an old variant, not used anymore\n",
    "    except:\n",
    "         pass\n",
    "\n",
    "datasets"
   ]
  },
  {
   "cell_type": "code",
   "execution_count": null,
   "id": "c25a195f-ff38-411c-93cc-7a65c47e3124",
   "metadata": {
    "tags": []
   },
   "outputs": [],
   "source": [
    "dataset_map2name = {\n",
    " 'BERT_chunked_meanpooler_prepro': 'BERT',\n",
    " 'BioBERT_chunked_meanpooler_prepro': 'BioBERT',\n",
    " 'BioELECTRA_chunked_meanpooler_prepro': 'BioELECTRA',\n",
    " 'CliBERT_2m_chunked_meanpooler_prepro': 'Clinical BERT, two models',\n",
    " 'Doc2Vec_prepro': 'Doc2Vec',\n",
    " 'GPT-2_chunked_meanpooler_prepro': 'GPT-2',\n",
    " 'PubMedBERT_chunked_meanpooler_prepro': 'PubMedBERT',\n",
    " 'RoBERTa_chunked_meanpooler_prepro': 'RoBERTa',\n",
    " 'SentenceTransformer_chunked_prepro': 'Sentence Transformer, basemodel: all-mpnet-base-v2',\n",
    " 's2v': 'Sent2Vec'}"
   ]
  },
  {
   "cell_type": "code",
   "execution_count": null,
   "id": "9370e858-d73b-4cc5-bc17-c9bb0a81b70e",
   "metadata": {
    "tags": []
   },
   "outputs": [],
   "source": [
    "from pltlatexify import latexify, format_axes\n",
    "\n",
    "def plot_scatter_with_colorbar(df_, color_palette, tsne=True):\n",
    "    sns.set(rc={'figure.figsize':(8, 6)})\n",
    "    latexify(fig_width=8, fig_height=6)\n",
    "    \n",
    "    markers = {\"comp1\": \"s\", \"comp2\": \"X\"}\n",
    "    sns_plot = sns.scatterplot(x=\"comp1\", y=\"comp2\", hue=df_.y.tolist(), \n",
    "                               #size=df_.y.tolist(),\n",
    "                    # palette=sns.color_palette(color_palette, as_cmap=True),\n",
    "                    palette=color_palette,\n",
    "                    #markers=markers, # color_palette.N\n",
    "                    data=df_)\n",
    "    plottype = 'T-SNE' if tsne else 'UMAP'\n",
    "    sns_plot.set(title=None) #f\"{plottype} projection of MIMIC-III train data notes embeddings, model {dataset_map2name[dataset]}.\")\n",
    "\n",
    "    # norm = plt.Normalize(df_.y.min(), df_.y.max())\n",
    "    # sm = plt.cm.ScalarMappable(cmap='rocket', norm=norm) # color_palette, norm=norm)\n",
    "    # sm.set_array([])\n",
    "\n",
    "    plt.rcParams['axes.grid'] = False\n",
    "    #sns_plot.set_ylabel('n passengers')\n",
    "    # sns_plot.get_legend().remove()\n",
    "    # sns_plot.figure.colorbar(sm, label='Norm')\n",
    "    \n",
    "    handles, labels  =  sns_plot.get_legend_handles_labels()\n",
    "    sns_plot.legend(handles, ['Representations Discharge Notes', 'Representations Pre-Discharge Notes']) #, loc='lower right')\n",
    "    \n",
    "    sns_plot.set_xlabel(None) #\"First Component\")\n",
    "    sns_plot.set_ylabel(None) #\"Second Component\")\n",
    "    plt.tick_params(\n",
    "            axis='x',          # changes apply to the x-axis\n",
    "            which='both',      # both major and minor ticks are affected\n",
    "            bottom=False,      # ticks along the bottom edge are off\n",
    "            top=False,         # ticks along the top edge are off\n",
    "            labelbottom=False) # labels along the bottom edge are off\n",
    "    plt.tick_params(\n",
    "            axis='y',          # changes apply to the x-axis\n",
    "            which='both',      # both major and minor ticks are affected\n",
    "            bottom=False,      # ticks along the bottom edge are off\n",
    "            top=False,         # ticks along the top edge are off\n",
    "            labelbottom=False) # labels along the bottom edge are off\n",
    "    plt.axis('off')\n",
    "    \n",
    "    # sns_plot.set_title(\"Title\")\n",
    "    plt.tight_layout()\n",
    "    format_axes(sns_plot)\n",
    "    plt.show();\n",
    "    fig = sns_plot.get_figure()\n",
    "    fig.savefig(f\"./plots/{plottype}/plot_{dataset}_{plottype}.pdf\") #, bbox_inches='tight', pad_inches = 0)\n",
    "    \n",
    "    # fig = sns_plot.get_figure()\n",
    "    # fig.savefig(f\"./plots/{plottype}/plot_{dataset}_{plottype}.png\", bbox_inches='tight', pad_inches = 0)\n"
   ]
  },
  {
   "cell_type": "markdown",
   "id": "7f1eb56d",
   "metadata": {
    "execution": {
     "iopub.execute_input": "2021-12-10T17:55:26.057581Z",
     "iopub.status.busy": "2021-12-10T17:55:26.057398Z",
     "iopub.status.idle": "2021-12-10T17:55:26.060970Z",
     "shell.execute_reply": "2021-12-10T17:55:26.060745Z",
     "shell.execute_reply.started": "2021-12-10T17:55:26.057559Z"
    },
    "tags": []
   },
   "source": [
    "# MIMIC embeddings data T-SNE and UMAP"
   ]
  },
  {
   "cell_type": "markdown",
   "id": "cb444ba6-7dd2-4c60-9cb9-456715ab94ed",
   "metadata": {},
   "source": [
    "## Plot all datasets and save plots to file"
   ]
  },
  {
   "cell_type": "code",
   "execution_count": null,
   "id": "afdd9473",
   "metadata": {
    "tags": []
   },
   "outputs": [],
   "source": [
    "maxn = None\n",
    "n_clusters = 4\n",
    "\n",
    "for dataset in datasets:\n",
    "    print(dataset)\n",
    "    df = pickle.load(open(f'../data/mimic3/new_extended_data_unique_embed_{dataset}.pickle', 'rb'))\n",
    "    x1 = df['embeds']\n",
    "    x2 = df['embeds_events']\n",
    "    \n",
    "    y = np.concatenate([np.array([0] * len(x1)), np.array([1] * len(x2))])\n",
    "    # y = np.concatenate([np.array([0] * (maxn // 2)), np.array([1] * (maxn // 2))])\n",
    "    y = y.astype(np.float32)\n",
    "    X = np.concatenate([x1, x2])\n",
    "    #y = LA.norm(X, axis=-1)\n",
    "    \n",
    "    # km = KMeans(n_clusters=n_clusters,\n",
    "    #                 init='random',\n",
    "    #                 n_init=10,\n",
    "    #                 max_iter=300,\n",
    "    #                 tol=1e-4,\n",
    "    #                 random_state=4711)\n",
    "    # y = km.fit_predict(X)\n",
    "\n",
    "    X = X[:maxn,:]\n",
    "    y = y[:maxn]\n",
    "    \n",
    "    # compute T-SNE projection\n",
    "    # tsne = TSNE(n_components=2, verbose=0, init='pca', perplexity=100, learning_rate=200)\n",
    "    # z = tsne.fit_transform(X)\n",
    "    \n",
    "    # compute UMAP projection\n",
    "    reducer = umap.UMAP(n_components=2, n_neighbors=200, min_dist=0.1)\n",
    "    # scaled_X = StandardScaler().fit_transform(X)\n",
    "    embedding = reducer.fit_transform(X)\n",
    "    # embedding.shape, X.shape, y.shape\n",
    "    \n",
    "    df_ = pd.DataFrame()\n",
    "    df_[\"y\"] = y\n",
    "    # df_[\"comp1\"] = z[:,0]\n",
    "    # df_[\"comp2\"] = z[:,1]\n",
    "    # color_palette = 'magma'\n",
    "    #color_palette = mcolors.ListedColormap([\"green\", \"blue\"])\n",
    "    color_palette=sns.color_palette(\"rocket\", n_colors=len(np.unique(y)))\n",
    "    # sns.color_palette(\"rocket\", n_colors=2)\n",
    "   \n",
    "    # plot_scatter_with_colorbar(df_, color_palette, True)\n",
    "    \n",
    "    df_[\"comp1\"] = embedding[:,0]\n",
    "    df_[\"comp2\"] = embedding[:,1]\n",
    "    \n",
    "    plot_scatter_with_colorbar(df_, color_palette, False)"
   ]
  },
  {
   "cell_type": "code",
   "execution_count": null,
   "id": "722acc9d-c7c2-4888-9637-5177e6768903",
   "metadata": {
    "tags": []
   },
   "outputs": [],
   "source": [
    "# print all embbeding models' dimensions\n",
    "for dataset in datasets:\n",
    "    df = pickle.load(open(f'../data/mimic3/new_extended_data_unique_embed_{dataset}.pickle', 'rb'))\n",
    "    x1 = df['embeds']\n",
    "    x2 = df['embeds_events']\n",
    "    print(dataset, x1.shape,x2.shape)"
   ]
  },
  {
   "cell_type": "code",
   "execution_count": null,
   "id": "c68916ab-0a0c-4e6f-851b-f56dce112a38",
   "metadata": {},
   "outputs": [],
   "source": []
  }
 ],
 "metadata": {
  "kernelspec": {
   "display_name": "Python 3 (ipykernel)",
   "language": "python",
   "name": "python3"
  },
  "language_info": {
   "codemirror_mode": {
    "name": "ipython",
    "version": 3
   },
   "file_extension": ".py",
   "mimetype": "text/x-python",
   "name": "python",
   "nbconvert_exporter": "python",
   "pygments_lexer": "ipython3",
   "version": "3.8.12"
  }
 },
 "nbformat": 4,
 "nbformat_minor": 5
}
