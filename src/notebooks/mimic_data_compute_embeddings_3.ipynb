{
 "cells": [
  {
   "cell_type": "code",
   "execution_count": 1,
   "id": "f285541c",
   "metadata": {},
   "outputs": [],
   "source": [
    "import sent2vec\n",
    "from nltk import word_tokenize\n",
    "from nltk.corpus import stopwords\n",
    "from string import punctuation\n",
    "from scipy.spatial import distance\n",
    "import pickle\n",
    "from tqdm import tqdm\n",
    "import numpy as np"
   ]
  },
  {
   "cell_type": "code",
   "execution_count": 2,
   "id": "acd9b224",
   "metadata": {},
   "outputs": [
    {
     "name": "stdout",
     "output_type": "stream",
     "text": [
      "model successfully loaded\n"
     ]
    }
   ],
   "source": [
    "model_path = '/Users/jplasser/Downloads/BioSentVec_PubMed_MIMICIII-bigram_d700.bin'\n",
    "model = sent2vec.Sent2vecModel()\n",
    "try:\n",
    "    model.load_model(model_path)\n",
    "except Exception as e:\n",
    "    print(e)\n",
    "print('model successfully loaded')"
   ]
  },
  {
   "cell_type": "code",
   "execution_count": 3,
   "id": "c293cf8e",
   "metadata": {},
   "outputs": [],
   "source": [
    "stop_words = set(stopwords.words('english'))\n",
    "def preprocess_sentence(text):\n",
    "    text = text.replace('/', ' / ')\n",
    "    text = text.replace('.-', ' .- ')\n",
    "    text = text.replace('.', ' . ')\n",
    "    text = text.replace('\\'', ' \\' ')\n",
    "    text = text.lower()\n",
    "\n",
    "    tokens = [token for token in word_tokenize(text) if token not in punctuation and token not in stop_words]\n",
    "\n",
    "    return ' '.join(tokens)"
   ]
  },
  {
   "cell_type": "code",
   "execution_count": 13,
   "id": "656204ab",
   "metadata": {},
   "outputs": [
    {
     "name": "stderr",
     "output_type": "stream",
     "text": [
      "100%|████████████████████████████████████████████████████████████████████████████████████████████████████████████████████████| 13781/13781 [01:12<00:00, 190.90it/s]\n"
     ]
    },
    {
     "name": "stdout",
     "output_type": "stream",
     "text": [
      "(13781, 48, 390) (13781, 700)\n"
     ]
    },
    {
     "name": "stderr",
     "output_type": "stream",
     "text": [
      "100%|██████████████████████████████████████████████████████████████████████████████████████████████████████████████████████████| 4403/4403 [00:24<00:00, 180.22it/s]\n"
     ]
    },
    {
     "name": "stdout",
     "output_type": "stream",
     "text": [
      "(4403, 48, 390) (4403, 700)\n"
     ]
    },
    {
     "name": "stderr",
     "output_type": "stream",
     "text": [
      "100%|██████████████████████████████████████████████████████████████████████████████████████████████████████████████████████████| 4424/4424 [00:32<00:00, 137.70it/s]\n"
     ]
    },
    {
     "name": "stdout",
     "output_type": "stream",
     "text": [
      "(4424, 48, 390) (4424, 700)\n"
     ]
    }
   ],
   "source": [
    "seq_len = None # 2000\n",
    "\n",
    "# data_path = '/Users/jplasser/Documents/AI Master/WS2021/MastersThesis/code.nosync/CNEP/src/data/mimic3/'\n",
    "data_path = './'\n",
    "\n",
    "datasets = ['train','val','test']\n",
    "\n",
    "for dataset in datasets:\n",
    "    embeds = []\n",
    "    train_data = pickle.load(open(f'{data_path}new_{dataset}_data_unique.pickle', 'rb'))\n",
    "\n",
    "    for i in tqdm(range(len(train_data['notes']))):\n",
    "        sentence_vector = model.embed_sentence(preprocess_sentence(train_data['notes'][i][:seq_len]))\n",
    "        embeds.append(sentence_vector.reshape(-1))\n",
    "        \n",
    "    embeds = np.array(embeds)\n",
    "    print(train_data['inputs'].shape, embeds.shape)\n",
    "    train_data['embeds'] = embeds\n",
    "    pickle.dump(train_data, open(f'{data_path}new_{dataset}_data_unique_embed.pickle', 'wb'))"
   ]
  },
  {
   "cell_type": "markdown",
   "id": "8668b2a4-35c5-4453-b14e-4828d81207a5",
   "metadata": {},
   "source": [
    "# if there are the CNEP embeddings in the data sets"
   ]
  },
  {
   "cell_type": "code",
   "execution_count": 5,
   "id": "8d9e412c",
   "metadata": {},
   "outputs": [
    {
     "name": "stderr",
     "output_type": "stream",
     "text": [
      "100%|████████████████████████████████████████████████████████████████████████████████████████████████████████████████████████| 13181/13181 [01:05<00:00, 201.83it/s]\n",
      "100%|█████████████████████████████████████████████████████████████████████████████████████████████████████████████████████████| 13181/13181 [03:02<00:00, 72.34it/s]\n"
     ]
    },
    {
     "name": "stdout",
     "output_type": "stream",
     "text": [
      "(13181, 48, 390) (13181, 700) (13181, 700)\n"
     ]
    },
    {
     "name": "stderr",
     "output_type": "stream",
     "text": [
      "100%|██████████████████████████████████████████████████████████████████████████████████████████████████████████████████████████| 4216/4216 [00:19<00:00, 212.58it/s]\n",
      "100%|███████████████████████████████████████████████████████████████████████████████████████████████████████████████████████████| 4216/4216 [00:45<00:00, 93.26it/s]\n"
     ]
    },
    {
     "name": "stdout",
     "output_type": "stream",
     "text": [
      "(4216, 48, 390) (4216, 700) (4216, 700)\n"
     ]
    },
    {
     "name": "stderr",
     "output_type": "stream",
     "text": [
      "100%|██████████████████████████████████████████████████████████████████████████████████████████████████████████████████████████| 4204/4204 [00:19<00:00, 211.21it/s]\n",
      "100%|███████████████████████████████████████████████████████████████████████████████████████████████████████████████████████████| 4204/4204 [00:45<00:00, 91.48it/s]\n"
     ]
    },
    {
     "name": "stdout",
     "output_type": "stream",
     "text": [
      "(4204, 48, 390) (4204, 700) (4204, 700)\n"
     ]
    }
   ],
   "source": [
    "seq_len = None # 2000\n",
    "\n",
    "# data_path = '/Users/jplasser/Documents/AI Master/WS2021/MastersThesis/code.nosync/CNEP/src/data/mimic3/'\n",
    "data_path = './'\n",
    "\n",
    "datasets = ['train','val','test']\n",
    "\n",
    "for dataset in datasets:\n",
    "    embeds = []\n",
    "    embeds_events = []\n",
    "    train_data = pickle.load(open(f'{data_path}new_{dataset}_data_unique_CNEP.pickle', 'rb'))\n",
    "\n",
    "    for i in tqdm(range(len(train_data['notes']))):\n",
    "        sentence_vector = model.embed_sentence(preprocess_sentence(train_data['notes'][i][:seq_len]))\n",
    "        embeds.append(sentence_vector.reshape(-1))\n",
    "    \n",
    "    for i in tqdm(range(len(train_data['eventsnotes']))):\n",
    "        sentence_vector = model.embed_sentence(preprocess_sentence(train_data['eventsnotes'][i][:seq_len]))\n",
    "        embeds_events.append(sentence_vector.reshape(-1))\n",
    "        \n",
    "    embeds = np.array(embeds)\n",
    "    embeds_events = np.array(embeds_events)\n",
    "    print(train_data['inputs'].shape, embeds.shape, embeds_events.shape)\n",
    "    train_data['embeds'] = embeds\n",
    "    train_data['embeds_events'] = embeds_events\n",
    "    del train_data['notes']\n",
    "    del train_data['eventsnotes']\n",
    "    pickle.dump(train_data, open(f'{data_path}new_{dataset}_data_unique_embed_CNEP.pickle', 'wb'))"
   ]
  },
  {
   "cell_type": "code",
   "execution_count": null,
   "id": "17544504",
   "metadata": {},
   "outputs": [],
   "source": []
  }
 ],
 "metadata": {
  "kernelspec": {
   "display_name": "Python 3 (ipykernel)",
   "language": "python",
   "name": "python3"
  },
  "language_info": {
   "codemirror_mode": {
    "name": "ipython",
    "version": 3
   },
   "file_extension": ".py",
   "mimetype": "text/x-python",
   "name": "python",
   "nbconvert_exporter": "python",
   "pygments_lexer": "ipython3",
   "version": "3.8.12"
  }
 },
 "nbformat": 4,
 "nbformat_minor": 5
}
