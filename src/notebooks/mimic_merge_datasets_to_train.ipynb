{
 "cells": [
  {
   "cell_type": "code",
   "execution_count": 6,
   "id": "c2dcb339-b1a7-4581-b715-db18d463a139",
   "metadata": {
    "execution": {
     "iopub.execute_input": "2022-01-02T14:41:35.288561Z",
     "iopub.status.busy": "2022-01-02T14:41:35.288334Z",
     "iopub.status.idle": "2022-01-02T14:41:35.294772Z",
     "shell.execute_reply": "2022-01-02T14:41:35.294572Z",
     "shell.execute_reply.started": "2022-01-02T14:41:35.288533Z"
    },
    "tags": []
   },
   "outputs": [],
   "source": [
    "import pickle\n",
    "from tqdm import tqdm\n",
    "import numpy as np"
   ]
  },
  {
   "cell_type": "markdown",
   "id": "624f624e-2069-42d2-979c-2a88b02c2cce",
   "metadata": {},
   "source": [
    "# merge two or more existing pickle data sets|"
   ]
  },
  {
   "cell_type": "code",
   "execution_count": 59,
   "id": "e7e00e07-433d-4a53-b505-4ec6e5b63fa5",
   "metadata": {
    "execution": {
     "iopub.execute_input": "2022-01-02T15:40:40.825846Z",
     "iopub.status.busy": "2022-01-02T15:40:40.825642Z",
     "iopub.status.idle": "2022-01-02T15:40:47.204925Z",
     "shell.execute_reply": "2022-01-02T15:40:47.204590Z",
     "shell.execute_reply.started": "2022-01-02T15:40:40.825827Z"
    },
    "tags": []
   },
   "outputs": [],
   "source": [
    "seq_len = None # 2000\n",
    "\n",
    "# data_path = '/Users/jplasser/Documents/AI Master/WS2021/MastersThesis/code.nosync/CNEP/src/data/mimic3/'\n",
    "data_path = './'\n",
    "data_path = '../data/mimic3/'\n",
    "\n",
    "merge_datasets = ['train','val'] # , 'test']\n",
    "target_dataset = 'extended'\n",
    "\n",
    "dataset = merge_datasets[0]\n",
    "template = f'{data_path}new_{dataset}_data_unique_embed_CNEP.pickle'\n",
    "data = pickle.load(open(template, 'rb'))\n",
    "\n",
    "for dataset in merge_datasets[1:]:\n",
    "    template = f'{data_path}new_{dataset}_data_unique_embed_CNEP.pickle'\n",
    "    data_ = pickle.load(open(template, 'rb'))\n",
    "\n",
    "    for k in data.keys():\n",
    "        if isinstance(data[k], np.ndarray):\n",
    "            data[k] = np.concatenate((data[k], data_[k]), axis=0)\n",
    "        else:\n",
    "            data[k].extend(data_[k])\n",
    "            \n",
    "assert len(set([d.shape[0] if isinstance(d, np.ndarray) else len(d) for d in data.values()])) == 1\n",
    "\n",
    "dataset = target_dataset\n",
    "template = f'{data_path}new_{dataset}_data_unique_embed_CNEP.pickle'\n",
    "pickle.dump(data, open(template, 'wb'))"
   ]
  },
  {
   "cell_type": "markdown",
   "id": "1c56179f-9a72-48f4-b217-42e59af5bd3f",
   "metadata": {
    "execution": {
     "iopub.execute_input": "2022-01-02T14:37:46.270371Z",
     "iopub.status.busy": "2022-01-02T14:37:46.270155Z",
     "iopub.status.idle": "2022-01-02T14:37:46.273788Z",
     "shell.execute_reply": "2022-01-02T14:37:46.273250Z",
     "shell.execute_reply.started": "2022-01-02T14:37:46.270314Z"
    }
   },
   "source": [
    "# split into train and test set"
   ]
  },
  {
   "cell_type": "code",
   "execution_count": 45,
   "id": "dbe04c69-69fe-4ae2-9298-f1fe2077b8b5",
   "metadata": {
    "execution": {
     "iopub.execute_input": "2022-01-02T14:55:38.059534Z",
     "iopub.status.busy": "2022-01-02T14:55:38.059314Z",
     "iopub.status.idle": "2022-01-02T14:55:38.062127Z",
     "shell.execute_reply": "2022-01-02T14:55:38.061735Z",
     "shell.execute_reply.started": "2022-01-02T14:55:38.059510Z"
    },
    "tags": []
   },
   "outputs": [],
   "source": [
    "from sklearn.model_selection  import train_test_split\n",
    "import pandas as pd"
   ]
  },
  {
   "cell_type": "code",
   "execution_count": 53,
   "id": "c1f05423-e93b-4e4b-ab6d-fc02e73edca5",
   "metadata": {
    "execution": {
     "iopub.execute_input": "2022-01-02T15:19:18.054416Z",
     "iopub.status.busy": "2022-01-02T15:19:18.054280Z",
     "iopub.status.idle": "2022-01-02T15:19:18.057002Z",
     "shell.execute_reply": "2022-01-02T15:19:18.056662Z",
     "shell.execute_reply.started": "2022-01-02T15:19:18.054403Z"
    },
    "tags": []
   },
   "outputs": [],
   "source": [
    "test_size = 0.01\n",
    "seed = 4711\n",
    "\n",
    "X = data['inputs']\n",
    "E = data['embeds']\n",
    "Ee = data['embeds_events']\n",
    "y = data['labels']"
   ]
  },
  {
   "cell_type": "code",
   "execution_count": 54,
   "id": "1b204386-d6ea-4de6-9b3a-045d5e2b8d24",
   "metadata": {
    "execution": {
     "iopub.execute_input": "2022-01-02T15:19:18.836517Z",
     "iopub.status.busy": "2022-01-02T15:19:18.836294Z",
     "iopub.status.idle": "2022-01-02T15:19:18.840214Z",
     "shell.execute_reply": "2022-01-02T15:19:18.839811Z",
     "shell.execute_reply.started": "2022-01-02T15:19:18.836494Z"
    },
    "tags": []
   },
   "outputs": [
    {
     "data": {
      "text/plain": [
       "dict_keys(['labels', 'inputs', 'embeds', 'embeds_events'])"
      ]
     },
     "execution_count": 54,
     "metadata": {},
     "output_type": "execute_result"
    }
   ],
   "source": [
    "data.keys()"
   ]
  },
  {
   "cell_type": "code",
   "execution_count": 55,
   "id": "bbd01be3-b506-42d8-89d0-0923f998ea6e",
   "metadata": {
    "execution": {
     "iopub.execute_input": "2022-01-02T15:19:19.027415Z",
     "iopub.status.busy": "2022-01-02T15:19:19.027219Z",
     "iopub.status.idle": "2022-01-02T15:19:19.646996Z",
     "shell.execute_reply": "2022-01-02T15:19:19.646500Z",
     "shell.execute_reply.started": "2022-01-02T15:19:19.027392Z"
    },
    "tags": []
   },
   "outputs": [],
   "source": [
    "X_train, X_test, E_train, E_test, Ee_train, Ee_test, y_train, y_test = train_test_split(X, E, Ee, y, test_size=test_size, random_state=seed)"
   ]
  },
  {
   "cell_type": "code",
   "execution_count": 56,
   "id": "cb5fac6b-ec97-4cfd-bed3-9307c12aed94",
   "metadata": {
    "execution": {
     "iopub.execute_input": "2022-01-02T15:19:19.899316Z",
     "iopub.status.busy": "2022-01-02T15:19:19.899077Z",
     "iopub.status.idle": "2022-01-02T15:19:19.903076Z",
     "shell.execute_reply": "2022-01-02T15:19:19.902761Z",
     "shell.execute_reply.started": "2022-01-02T15:19:19.899296Z"
    },
    "tags": []
   },
   "outputs": [
    {
     "data": {
      "text/plain": [
       "((21384, 48, 390),\n",
       " (21384, 700),\n",
       " (21384, 700),\n",
       " (21384,),\n",
       " (217, 48, 390),\n",
       " (217, 700),\n",
       " (217, 700),\n",
       " (217,))"
      ]
     },
     "execution_count": 56,
     "metadata": {},
     "output_type": "execute_result"
    }
   ],
   "source": [
    "X_train.shape, E_train.shape, Ee_train.shape, y_train.shape, X_test.shape, E_test.shape, Ee_test.shape, y_test.shape"
   ]
  },
  {
   "cell_type": "code",
   "execution_count": 57,
   "id": "7b9dec57-2a2f-4368-9d5b-cd38631f3972",
   "metadata": {
    "execution": {
     "iopub.execute_input": "2022-01-02T15:19:20.626728Z",
     "iopub.status.busy": "2022-01-02T15:19:20.626475Z",
     "iopub.status.idle": "2022-01-02T15:19:20.636962Z",
     "shell.execute_reply": "2022-01-02T15:19:20.636379Z",
     "shell.execute_reply.started": "2022-01-02T15:19:20.626700Z"
    },
    "tags": []
   },
   "outputs": [],
   "source": [
    "data_train = {'labels':y_train, 'inputs': X_train, 'embeds': E_train, 'embeds_events': Ee_train}\n",
    "data_test = {'labels':y_test, 'inputs': X_test, 'embeds': E_test, 'embeds_events': Ee_test}"
   ]
  },
  {
   "cell_type": "code",
   "execution_count": 58,
   "id": "8e05531f-0f15-478a-8420-9800079af189",
   "metadata": {
    "execution": {
     "iopub.execute_input": "2022-01-02T15:19:21.211930Z",
     "iopub.status.busy": "2022-01-02T15:19:21.211671Z",
     "iopub.status.idle": "2022-01-02T15:19:26.003106Z",
     "shell.execute_reply": "2022-01-02T15:19:26.002671Z",
     "shell.execute_reply.started": "2022-01-02T15:19:21.211900Z"
    },
    "tags": []
   },
   "outputs": [],
   "source": [
    "dataset = f'train_split_{1-test_size}'\n",
    "template = f'{data_path}new_{dataset}_data_unique_embed_CNEP.pickle'\n",
    "pickle.dump(data_train, open(template, 'wb'))\n",
    "\n",
    "dataset = f'test_split_{test_size}'\n",
    "template = f'{data_path}new_{dataset}_data_unique_embed_CNEP.pickle'\n",
    "pickle.dump(data_test, open(template, 'wb'))"
   ]
  },
  {
   "cell_type": "code",
   "execution_count": null,
   "id": "5659f8b8-d28f-490b-bfd6-be37edd2db89",
   "metadata": {},
   "outputs": [],
   "source": []
  }
 ],
 "metadata": {
  "kernelspec": {
   "display_name": "Python 3 (ipykernel)",
   "language": "python",
   "name": "python3"
  },
  "language_info": {
   "codemirror_mode": {
    "name": "ipython",
    "version": 3
   },
   "file_extension": ".py",
   "mimetype": "text/x-python",
   "name": "python",
   "nbconvert_exporter": "python",
   "pygments_lexer": "ipython3",
   "version": "3.8.12"
  }
 },
 "nbformat": 4,
 "nbformat_minor": 5
}
