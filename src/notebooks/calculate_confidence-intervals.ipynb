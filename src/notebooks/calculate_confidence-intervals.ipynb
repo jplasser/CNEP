{
 "cells": [
  {
   "cell_type": "markdown",
   "id": "11f34137-fac7-44b6-876b-e220f6342d6c",
   "metadata": {
    "execution": {
     "iopub.execute_input": "2022-09-17T08:41:18.518058Z",
     "iopub.status.busy": "2022-09-17T08:41:18.517677Z",
     "iopub.status.idle": "2022-09-17T08:41:18.522437Z",
     "shell.execute_reply": "2022-09-17T08:41:18.521740Z",
     "shell.execute_reply.started": "2022-09-17T08:41:18.517952Z"
    }
   },
   "source": [
    "# Calculate 95% Confidence Intervals"
   ]
  },
  {
   "cell_type": "code",
   "execution_count": 2,
   "id": "a55ad859-197a-4509-b8c5-6cf7ee8a9cd8",
   "metadata": {
    "execution": {
     "iopub.execute_input": "2022-09-17T08:41:25.319073Z",
     "iopub.status.busy": "2022-09-17T08:41:25.318747Z",
     "iopub.status.idle": "2022-09-17T08:41:25.502811Z",
     "shell.execute_reply": "2022-09-17T08:41:25.502324Z",
     "shell.execute_reply.started": "2022-09-17T08:41:25.319033Z"
    },
    "tags": []
   },
   "outputs": [
    {
     "data": {
      "text/plain": [
       "(0.030805241143265938, 0.07616697275514255)"
      ]
     },
     "execution_count": 2,
     "metadata": {},
     "output_type": "execute_result"
    }
   ],
   "source": [
    "from scipy.stats import beta\n",
    "k = 20\n",
    "n = 400\n",
    "alpha = 0.05\n",
    "p_u, p_o = beta.ppf([alpha/2, 1 - alpha/2], [k, k + 1], [n - k + 1, n - k])\n",
    "p_u, p_o"
   ]
  },
  {
   "cell_type": "code",
   "execution_count": 3,
   "id": "65de02c3-049f-4795-9eb1-c9851b84a6f8",
   "metadata": {
    "execution": {
     "iopub.execute_input": "2022-09-17T08:41:25.620753Z",
     "iopub.status.busy": "2022-09-17T08:41:25.620578Z",
     "iopub.status.idle": "2022-09-17T08:41:25.624790Z",
     "shell.execute_reply": "2022-09-17T08:41:25.624144Z",
     "shell.execute_reply.started": "2022-09-17T08:41:25.620733Z"
    },
    "tags": []
   },
   "outputs": [
    {
     "data": {
      "text/plain": [
       "(0.030805241143265938, 0.07616697275514255)"
      ]
     },
     "execution_count": 3,
     "metadata": {},
     "output_type": "execute_result"
    }
   ],
   "source": [
    "p_u, p_o"
   ]
  },
  {
   "cell_type": "code",
   "execution_count": 4,
   "id": "73ad047d-68d1-4b96-ad09-7b3f50cb86ee",
   "metadata": {
    "execution": {
     "iopub.execute_input": "2022-09-17T08:41:26.096095Z",
     "iopub.status.busy": "2022-09-17T08:41:26.095763Z",
     "iopub.status.idle": "2022-09-17T08:41:26.104231Z",
     "shell.execute_reply": "2022-09-17T08:41:26.103596Z",
     "shell.execute_reply.started": "2022-09-17T08:41:26.096056Z"
    },
    "tags": []
   },
   "outputs": [
    {
     "data": {
      "text/plain": [
       "(0.025050273414613657, 0.040581687755107204)"
      ]
     },
     "execution_count": 4,
     "metadata": {},
     "output_type": "execute_result"
    }
   ],
   "source": [
    "#k = 20\n",
    "n = 2115\n",
    "p = 3.215/100\n",
    "k = p*n\n",
    "\n",
    "alpha = 0.05\n",
    "p_u, p_o = beta.ppf([alpha/2, 1 - alpha/2], [k, k + 1], [n - k + 1, n - k])\n",
    "p_u, p_o"
   ]
  },
  {
   "cell_type": "code",
   "execution_count": 5,
   "id": "853fb4cd-3db4-4324-95ee-df8a7d3b05db",
   "metadata": {
    "execution": {
     "iopub.execute_input": "2022-09-17T08:41:26.326685Z",
     "iopub.status.busy": "2022-09-17T08:41:26.326357Z",
     "iopub.status.idle": "2022-09-17T08:41:26.334310Z",
     "shell.execute_reply": "2022-09-17T08:41:26.333488Z",
     "shell.execute_reply.started": "2022-09-17T08:41:26.326649Z"
    },
    "tags": []
   },
   "outputs": [
    {
     "name": "stdout",
     "output_type": "stream",
     "text": [
      "23.370, 25.999\n",
      "51.213, 54.255\n",
      "64.002, 66.900\n"
     ]
    }
   ],
   "source": [
    "#k = 20\n",
    "n = 4204\n",
    "\n",
    "for p_ in [24.667, 52.736, 65.462]:\n",
    "    p = p_/100\n",
    "    k = p*n\n",
    "\n",
    "    alpha = 0.05\n",
    "    p_u, p_o = beta.ppf([alpha/2, 1 - alpha/2], [k, k + 1], [n - k + 1, n - k])\n",
    "    print(f\"{p_u*100:.3f}, {p_o*100:.3f}\")"
   ]
  },
  {
   "cell_type": "code",
   "execution_count": 6,
   "id": "9bf14b52-32a8-4d6b-83c2-06c8adb4aa4a",
   "metadata": {
    "execution": {
     "iopub.execute_input": "2022-09-17T08:41:26.502642Z",
     "iopub.status.busy": "2022-09-17T08:41:26.502134Z",
     "iopub.status.idle": "2022-09-17T08:41:26.510205Z",
     "shell.execute_reply": "2022-09-17T08:41:26.509455Z",
     "shell.execute_reply.started": "2022-09-17T08:41:26.502602Z"
    },
    "tags": []
   },
   "outputs": [
    {
     "name": "stdout",
     "output_type": "stream",
     "text": [
      "[0.001, 0.132]\n",
      "[0.039, 0.277]\n",
      "[0.114, 0.437]\n"
     ]
    }
   ],
   "source": [
    "from scipy.stats import beta\n",
    "\n",
    "k = 1\n",
    "n = 4204\n",
    "alpha = 0.05\n",
    "\n",
    "for k in [1,5,10]:\n",
    "    p_u, p_o = beta.ppf([alpha/2, 1 - alpha/2], [k, k + 1], [n - k + 1, n - k])\n",
    "    print(f\"[{p_u*100:.3f}, {p_o*100:.3f}]\")"
   ]
  },
  {
   "cell_type": "code",
   "execution_count": null,
   "id": "7ef879c5-c55e-475a-9f5f-e51801555d0b",
   "metadata": {},
   "outputs": [],
   "source": []
  }
 ],
 "metadata": {
  "kernelspec": {
   "display_name": "Python 3 (ipykernel)",
   "language": "python",
   "name": "python3"
  },
  "language_info": {
   "codemirror_mode": {
    "name": "ipython",
    "version": 3
   },
   "file_extension": ".py",
   "mimetype": "text/x-python",
   "name": "python",
   "nbconvert_exporter": "python",
   "pygments_lexer": "ipython3",
   "version": "3.8.12"
  }
 },
 "nbformat": 4,
 "nbformat_minor": 5
}
