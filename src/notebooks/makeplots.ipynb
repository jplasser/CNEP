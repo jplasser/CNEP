{
 "cells": [
  {
   "cell_type": "code",
   "execution_count": 1,
   "id": "0aec9365-6072-49fd-8ebc-56f4e599a30a",
   "metadata": {
    "execution": {
     "iopub.execute_input": "2022-05-17T16:18:14.066864Z",
     "iopub.status.busy": "2022-05-17T16:18:14.066276Z",
     "iopub.status.idle": "2022-05-17T16:18:15.049762Z",
     "shell.execute_reply": "2022-05-17T16:18:15.049292Z",
     "shell.execute_reply.started": "2022-05-17T16:18:14.066805Z"
    },
    "tags": []
   },
   "outputs": [],
   "source": [
    "import matplotlib.pyplot as plt\n",
    "import seaborn as sns\n",
    "import pandas as pd\n",
    "import numpy as np\n",
    "from pltlatexify import latexify, format_axes"
   ]
  },
  {
   "cell_type": "code",
   "execution_count": 67,
   "id": "69a0e31c-6879-4cd2-9b33-a972a82c4b62",
   "metadata": {
    "execution": {
     "iopub.execute_input": "2022-05-17T17:20:35.688351Z",
     "iopub.status.busy": "2022-05-17T17:20:35.687959Z",
     "iopub.status.idle": "2022-05-17T17:20:35.691894Z",
     "shell.execute_reply": "2022-05-17T17:20:35.691600Z",
     "shell.execute_reply.started": "2022-05-17T17:20:35.688333Z"
    },
    "tags": []
   },
   "outputs": [],
   "source": [
    "df = pd.read_csv('wandb_export_2022-03-19T20_25_34.798+01_00.csv')"
   ]
  },
  {
   "cell_type": "code",
   "execution_count": 68,
   "id": "250c08fa-b515-48e5-9da4-e04014f10d87",
   "metadata": {
    "execution": {
     "iopub.execute_input": "2022-05-17T17:20:36.203702Z",
     "iopub.status.busy": "2022-05-17T17:20:36.203520Z",
     "iopub.status.idle": "2022-05-17T17:20:36.210160Z",
     "shell.execute_reply": "2022-05-17T17:20:36.209866Z",
     "shell.execute_reply.started": "2022-05-17T17:20:36.203684Z"
    },
    "tags": []
   },
   "outputs": [
    {
     "data": {
      "text/html": [
       "<div>\n",
       "<style scoped>\n",
       "    .dataframe tbody tr th:only-of-type {\n",
       "        vertical-align: middle;\n",
       "    }\n",
       "\n",
       "    .dataframe tbody tr th {\n",
       "        vertical-align: top;\n",
       "    }\n",
       "\n",
       "    .dataframe thead th {\n",
       "        text-align: right;\n",
       "    }\n",
       "</style>\n",
       "<table border=\"1\" class=\"dataframe\">\n",
       "  <thead>\n",
       "    <tr style=\"text-align: right;\">\n",
       "      <th></th>\n",
       "      <th>Name</th>\n",
       "      <th>_wandb</th>\n",
       "      <th>val/text_to_image_R@10</th>\n",
       "      <th>val/image_to_text_R@10</th>\n",
       "    </tr>\n",
       "  </thead>\n",
       "  <tbody>\n",
       "    <tr>\n",
       "      <th>0</th>\n",
       "      <td>BERT_chunked_meanpooler_prepro</td>\n",
       "      <td>NaN</td>\n",
       "      <td>0.342769</td>\n",
       "      <td>0.339676</td>\n",
       "    </tr>\n",
       "    <tr>\n",
       "      <th>1</th>\n",
       "      <td>BERT_chunked_meanpooler</td>\n",
       "      <td>NaN</td>\n",
       "      <td>0.308991</td>\n",
       "      <td>0.313035</td>\n",
       "    </tr>\n",
       "    <tr>\n",
       "      <th>2</th>\n",
       "      <td>BERT_chunked_prepro</td>\n",
       "      <td>NaN</td>\n",
       "      <td>0.229068</td>\n",
       "      <td>0.226451</td>\n",
       "    </tr>\n",
       "    <tr>\n",
       "      <th>3</th>\n",
       "      <td>BERT_meanpooler_prepro</td>\n",
       "      <td>NaN</td>\n",
       "      <td>0.222407</td>\n",
       "      <td>0.218126</td>\n",
       "    </tr>\n",
       "    <tr>\n",
       "      <th>4</th>\n",
       "      <td>BERT_meanpooler</td>\n",
       "      <td>NaN</td>\n",
       "      <td>0.217412</td>\n",
       "      <td>0.222883</td>\n",
       "    </tr>\n",
       "    <tr>\n",
       "      <th>5</th>\n",
       "      <td>BERT_chunked</td>\n",
       "      <td>NaN</td>\n",
       "      <td>0.171741</td>\n",
       "      <td>0.184348</td>\n",
       "    </tr>\n",
       "    <tr>\n",
       "      <th>6</th>\n",
       "      <td>BERT_chunked_pooler_prepro</td>\n",
       "      <td>NaN</td>\n",
       "      <td>0.107755</td>\n",
       "      <td>0.117745</td>\n",
       "    </tr>\n",
       "    <tr>\n",
       "      <th>7</th>\n",
       "      <td>BERT_prepro</td>\n",
       "      <td>NaN</td>\n",
       "      <td>0.091817</td>\n",
       "      <td>0.096337</td>\n",
       "    </tr>\n",
       "    <tr>\n",
       "      <th>8</th>\n",
       "      <td>BERT</td>\n",
       "      <td>NaN</td>\n",
       "      <td>0.085395</td>\n",
       "      <td>0.093720</td>\n",
       "    </tr>\n",
       "    <tr>\n",
       "      <th>9</th>\n",
       "      <td>BERT_chunked_pooler</td>\n",
       "      <td>NaN</td>\n",
       "      <td>0.082065</td>\n",
       "      <td>0.086108</td>\n",
       "    </tr>\n",
       "    <tr>\n",
       "      <th>10</th>\n",
       "      <td>BERT_pooler_prepro</td>\n",
       "      <td>NaN</td>\n",
       "      <td>0.059705</td>\n",
       "      <td>0.071836</td>\n",
       "    </tr>\n",
       "    <tr>\n",
       "      <th>11</th>\n",
       "      <td>BERT_pooler</td>\n",
       "      <td>NaN</td>\n",
       "      <td>0.039486</td>\n",
       "      <td>0.046860</td>\n",
       "    </tr>\n",
       "  </tbody>\n",
       "</table>\n",
       "</div>"
      ],
      "text/plain": [
       "                              Name  _wandb  val/text_to_image_R@10  \\\n",
       "0   BERT_chunked_meanpooler_prepro     NaN                0.342769   \n",
       "1          BERT_chunked_meanpooler     NaN                0.308991   \n",
       "2              BERT_chunked_prepro     NaN                0.229068   \n",
       "3           BERT_meanpooler_prepro     NaN                0.222407   \n",
       "4                  BERT_meanpooler     NaN                0.217412   \n",
       "5                     BERT_chunked     NaN                0.171741   \n",
       "6       BERT_chunked_pooler_prepro     NaN                0.107755   \n",
       "7                      BERT_prepro     NaN                0.091817   \n",
       "8                             BERT     NaN                0.085395   \n",
       "9              BERT_chunked_pooler     NaN                0.082065   \n",
       "10              BERT_pooler_prepro     NaN                0.059705   \n",
       "11                     BERT_pooler     NaN                0.039486   \n",
       "\n",
       "    val/image_to_text_R@10  \n",
       "0                 0.339676  \n",
       "1                 0.313035  \n",
       "2                 0.226451  \n",
       "3                 0.218126  \n",
       "4                 0.222883  \n",
       "5                 0.184348  \n",
       "6                 0.117745  \n",
       "7                 0.096337  \n",
       "8                 0.093720  \n",
       "9                 0.086108  \n",
       "10                0.071836  \n",
       "11                0.046860  "
      ]
     },
     "execution_count": 68,
     "metadata": {},
     "output_type": "execute_result"
    }
   ],
   "source": [
    "df"
   ]
  },
  {
   "cell_type": "code",
   "execution_count": 69,
   "id": "bc3e421a-7d27-45a7-9e4f-0749c80bc74f",
   "metadata": {
    "execution": {
     "iopub.execute_input": "2022-05-17T17:20:36.968792Z",
     "iopub.status.busy": "2022-05-17T17:20:36.968606Z",
     "iopub.status.idle": "2022-05-17T17:20:36.971755Z",
     "shell.execute_reply": "2022-05-17T17:20:36.971472Z",
     "shell.execute_reply.started": "2022-05-17T17:20:36.968775Z"
    },
    "tags": []
   },
   "outputs": [],
   "source": [
    "df.drop(columns=['_wandb'], inplace=True)"
   ]
  },
  {
   "cell_type": "code",
   "execution_count": 70,
   "id": "52ddbb81-9ff7-4831-a55a-d1ee39afdf6a",
   "metadata": {
    "execution": {
     "iopub.execute_input": "2022-05-17T17:20:37.227185Z",
     "iopub.status.busy": "2022-05-17T17:20:37.226827Z",
     "iopub.status.idle": "2022-05-17T17:20:37.230168Z",
     "shell.execute_reply": "2022-05-17T17:20:37.229856Z",
     "shell.execute_reply.started": "2022-05-17T17:20:37.227166Z"
    },
    "tags": []
   },
   "outputs": [
    {
     "data": {
      "text/plain": [
       "Index(['Name', 'val/text_to_image_R@10', 'val/image_to_text_R@10'], dtype='object')"
      ]
     },
     "execution_count": 70,
     "metadata": {},
     "output_type": "execute_result"
    }
   ],
   "source": [
    "df.columns"
   ]
  },
  {
   "cell_type": "code",
   "execution_count": 71,
   "id": "2283f743-5a57-4864-b41c-6a18c22111f4",
   "metadata": {
    "execution": {
     "iopub.execute_input": "2022-05-17T17:20:37.752853Z",
     "iopub.status.busy": "2022-05-17T17:20:37.752663Z",
     "iopub.status.idle": "2022-05-17T17:20:37.756125Z",
     "shell.execute_reply": "2022-05-17T17:20:37.755817Z",
     "shell.execute_reply.started": "2022-05-17T17:20:37.752832Z"
    },
    "tags": []
   },
   "outputs": [],
   "source": [
    "df['metric'] = (df['val/image_to_text_R@10'] + df['val/text_to_image_R@10'])/2"
   ]
  },
  {
   "cell_type": "code",
   "execution_count": 80,
   "id": "b8c5073f-9d5d-4729-bb95-d6bf70490fb8",
   "metadata": {
    "execution": {
     "iopub.execute_input": "2022-05-17T17:25:24.590902Z",
     "iopub.status.busy": "2022-05-17T17:25:24.590266Z",
     "iopub.status.idle": "2022-05-17T17:25:24.736375Z",
     "shell.execute_reply": "2022-05-17T17:25:24.735970Z",
     "shell.execute_reply.started": "2022-05-17T17:25:24.590877Z"
    },
    "tags": []
   },
   "outputs": [
    {
     "data": {
      "image/png": "[encoded data removed]",
      "text/plain": [
       "<Figure size 432x288 with 1 Axes>"
      ]
     },
     "metadata": {
      "needs_background": "light"
     },
     "output_type": "display_data"
    }
   ],
   "source": [
    "latexify()\n",
    "ax = df.plot(kind='bar', y='metric', title='Embeddings compared', figsize=(6,4),\n",
    "        color=['C0', 'C1', 'C2', 'C3', 'C4', 'C5', 'C6', 'C7', 'C8', 'C9', 'C10', 'C11'])\n",
    "plt.xticks(np.arange(len(df.Name)), list(df.Name), rotation=90);\n",
    "ax.get_legend().remove()\n",
    "ax.set_xlabel(\"Pre-trained embedding models of the BERT family\")\n",
    "ax.set_ylabel(\"Score (mean of R@10)\")\n",
    "ax.set_title(\"BERT embedding computation compared\")\n",
    "plt.tight_layout()\n",
    "format_axes(ax)\n",
    "plt.savefig(\"emb_models_compared.pdf\")"
   ]
  },
  {
   "cell_type": "code",
   "execution_count": 81,
   "id": "2772cdfb-0157-453b-9878-eb50dbc6c55b",
   "metadata": {
    "execution": {
     "iopub.execute_input": "2022-05-17T17:26:07.433454Z",
     "iopub.status.busy": "2022-05-17T17:26:07.433191Z",
     "iopub.status.idle": "2022-05-17T17:26:07.447863Z",
     "shell.execute_reply": "2022-05-17T17:26:07.447298Z",
     "shell.execute_reply.started": "2022-05-17T17:26:07.433436Z"
    },
    "tags": []
   },
   "outputs": [
    {
     "data": {
      "text/html": [
       "<div>\n",
       "<style scoped>\n",
       "    .dataframe tbody tr th:only-of-type {\n",
       "        vertical-align: middle;\n",
       "    }\n",
       "\n",
       "    .dataframe tbody tr th {\n",
       "        vertical-align: top;\n",
       "    }\n",
       "\n",
       "    .dataframe thead th {\n",
       "        text-align: right;\n",
       "    }\n",
       "</style>\n",
       "<table border=\"1\" class=\"dataframe\">\n",
       "  <thead>\n",
       "    <tr style=\"text-align: right;\">\n",
       "      <th></th>\n",
       "      <th>Name</th>\n",
       "      <th>val/text_to_image_R@1</th>\n",
       "      <th>val/text_to_image_R@10</th>\n",
       "      <th>val/text_to_image_R@5</th>\n",
       "    </tr>\n",
       "  </thead>\n",
       "  <tbody>\n",
       "    <tr>\n",
       "      <th>0</th>\n",
       "      <td>SentVec default</td>\n",
       "      <td>0.259039</td>\n",
       "      <td>0.668173</td>\n",
       "      <td>0.535918</td>\n",
       "    </tr>\n",
       "    <tr>\n",
       "      <th>1</th>\n",
       "      <td>GPT-2 chunked meanpooler prepro2</td>\n",
       "      <td>0.165081</td>\n",
       "      <td>0.517602</td>\n",
       "      <td>0.390580</td>\n",
       "    </tr>\n",
       "    <tr>\n",
       "      <th>2</th>\n",
       "      <td>SentenceTransformer chunked prepro</td>\n",
       "      <td>0.128687</td>\n",
       "      <td>0.446717</td>\n",
       "      <td>0.330162</td>\n",
       "    </tr>\n",
       "    <tr>\n",
       "      <th>3</th>\n",
       "      <td>CliBERT_2m_chunked_meanpooler_prepro</td>\n",
       "      <td>0.124643</td>\n",
       "      <td>0.439819</td>\n",
       "      <td>0.316127</td>\n",
       "    </tr>\n",
       "    <tr>\n",
       "      <th>4</th>\n",
       "      <td>BioBERT_chunked_meanpooler_prepro</td>\n",
       "      <td>0.102521</td>\n",
       "      <td>0.413654</td>\n",
       "      <td>0.293530</td>\n",
       "    </tr>\n",
       "    <tr>\n",
       "      <th>5</th>\n",
       "      <td>PubMedBERT_chunked_meanpooler_prepro</td>\n",
       "      <td>0.097526</td>\n",
       "      <td>0.383682</td>\n",
       "      <td>0.272598</td>\n",
       "    </tr>\n",
       "    <tr>\n",
       "      <th>6</th>\n",
       "      <td>RoBERTa_chunked_meanpooler_prepro</td>\n",
       "      <td>0.093720</td>\n",
       "      <td>0.375357</td>\n",
       "      <td>0.260466</td>\n",
       "    </tr>\n",
       "    <tr>\n",
       "      <th>7</th>\n",
       "      <td>BERT_chunked_meanpooler_prepro</td>\n",
       "      <td>0.084443</td>\n",
       "      <td>0.342769</td>\n",
       "      <td>0.239058</td>\n",
       "    </tr>\n",
       "    <tr>\n",
       "      <th>8</th>\n",
       "      <td>Doc2Vec  prepro</td>\n",
       "      <td>0.072074</td>\n",
       "      <td>0.307326</td>\n",
       "      <td>0.218126</td>\n",
       "    </tr>\n",
       "    <tr>\n",
       "      <th>9</th>\n",
       "      <td>BioELECTRA_chunked_meanpooler_prepro</td>\n",
       "      <td>0.013559</td>\n",
       "      <td>0.090866</td>\n",
       "      <td>0.051618</td>\n",
       "    </tr>\n",
       "    <tr>\n",
       "      <th>10</th>\n",
       "      <td>BERT (Notes embeddings only)</td>\n",
       "      <td>0.002617</td>\n",
       "      <td>0.033539</td>\n",
       "      <td>0.019267</td>\n",
       "    </tr>\n",
       "    <tr>\n",
       "      <th>11</th>\n",
       "      <td>LSTMCNN+Transformer</td>\n",
       "      <td>0.000226</td>\n",
       "      <td>0.002486</td>\n",
       "      <td>0.001356</td>\n",
       "    </tr>\n",
       "  </tbody>\n",
       "</table>\n",
       "</div>"
      ],
      "text/plain": [
       "                                    Name  val/text_to_image_R@1  \\\n",
       "0                        SentVec default               0.259039   \n",
       "1       GPT-2 chunked meanpooler prepro2               0.165081   \n",
       "2     SentenceTransformer chunked prepro               0.128687   \n",
       "3   CliBERT_2m_chunked_meanpooler_prepro               0.124643   \n",
       "4      BioBERT_chunked_meanpooler_prepro               0.102521   \n",
       "5   PubMedBERT_chunked_meanpooler_prepro               0.097526   \n",
       "6      RoBERTa_chunked_meanpooler_prepro               0.093720   \n",
       "7         BERT_chunked_meanpooler_prepro               0.084443   \n",
       "8                        Doc2Vec  prepro               0.072074   \n",
       "9   BioELECTRA_chunked_meanpooler_prepro               0.013559   \n",
       "10          BERT (Notes embeddings only)               0.002617   \n",
       "11                   LSTMCNN+Transformer               0.000226   \n",
       "\n",
       "    val/text_to_image_R@10  val/text_to_image_R@5  \n",
       "0                 0.668173               0.535918  \n",
       "1                 0.517602               0.390580  \n",
       "2                 0.446717               0.330162  \n",
       "3                 0.439819               0.316127  \n",
       "4                 0.413654               0.293530  \n",
       "5                 0.383682               0.272598  \n",
       "6                 0.375357               0.260466  \n",
       "7                 0.342769               0.239058  \n",
       "8                 0.307326               0.218126  \n",
       "9                 0.090866               0.051618  \n",
       "10                0.033539               0.019267  \n",
       "11                0.002486               0.001356  "
      ]
     },
     "execution_count": 81,
     "metadata": {},
     "output_type": "execute_result"
    }
   ],
   "source": [
    "df = pd.read_csv('wandb_export_2022-03-21T11_58_34.256+01_00.csv', usecols=['Name', 'val/text_to_image_R@1', 'val/text_to_image_R@5', 'val/text_to_image_R@10'])\n",
    "df"
   ]
  },
  {
   "cell_type": "code",
   "execution_count": 82,
   "id": "6dca4cc3-71e4-4166-9aa0-e46683b865ca",
   "metadata": {
    "execution": {
     "iopub.execute_input": "2022-05-17T17:26:07.898706Z",
     "iopub.status.busy": "2022-05-17T17:26:07.898389Z",
     "iopub.status.idle": "2022-05-17T17:26:07.921984Z",
     "shell.execute_reply": "2022-05-17T17:26:07.921473Z",
     "shell.execute_reply.started": "2022-05-17T17:26:07.898669Z"
    },
    "tags": []
   },
   "outputs": [
    {
     "data": {
      "text/html": [
       "<div>\n",
       "<style scoped>\n",
       "    .dataframe tbody tr th:only-of-type {\n",
       "        vertical-align: middle;\n",
       "    }\n",
       "\n",
       "    .dataframe tbody tr th {\n",
       "        vertical-align: top;\n",
       "    }\n",
       "\n",
       "    .dataframe thead th {\n",
       "        text-align: right;\n",
       "    }\n",
       "</style>\n",
       "<table border=\"1\" class=\"dataframe\">\n",
       "  <thead>\n",
       "    <tr style=\"text-align: right;\">\n",
       "      <th></th>\n",
       "      <th>model</th>\n",
       "      <th>R@1</th>\n",
       "      <th>R@5</th>\n",
       "      <th>R@10</th>\n",
       "    </tr>\n",
       "  </thead>\n",
       "  <tbody>\n",
       "    <tr>\n",
       "      <th>0</th>\n",
       "      <td>Sent2Vec</td>\n",
       "      <td>0.252854</td>\n",
       "      <td>0.531637</td>\n",
       "      <td>0.661394</td>\n",
       "    </tr>\n",
       "    <tr>\n",
       "      <th>1</th>\n",
       "      <td>Sent2Vec Ablation: chart events &amp; discharge notes</td>\n",
       "      <td>0.187797</td>\n",
       "      <td>0.428520</td>\n",
       "      <td>0.550071</td>\n",
       "    </tr>\n",
       "    <tr>\n",
       "      <th>2</th>\n",
       "      <td>GPT-2</td>\n",
       "      <td>0.163297</td>\n",
       "      <td>0.392245</td>\n",
       "      <td>0.516413</td>\n",
       "    </tr>\n",
       "    <tr>\n",
       "      <th>3</th>\n",
       "      <td>SentenceTransformer</td>\n",
       "      <td>0.131779</td>\n",
       "      <td>0.328616</td>\n",
       "      <td>0.441960</td>\n",
       "    </tr>\n",
       "    <tr>\n",
       "      <th>4</th>\n",
       "      <td>CliBERT</td>\n",
       "      <td>0.122146</td>\n",
       "      <td>0.315176</td>\n",
       "      <td>0.438749</td>\n",
       "    </tr>\n",
       "    <tr>\n",
       "      <th>5</th>\n",
       "      <td>Sent2Vec Ablation: no chart events, non-discha...</td>\n",
       "      <td>0.154971</td>\n",
       "      <td>0.333492</td>\n",
       "      <td>0.416984</td>\n",
       "    </tr>\n",
       "    <tr>\n",
       "      <th>6</th>\n",
       "      <td>BioBERT</td>\n",
       "      <td>0.105614</td>\n",
       "      <td>0.295195</td>\n",
       "      <td>0.409729</td>\n",
       "    </tr>\n",
       "    <tr>\n",
       "      <th>7</th>\n",
       "      <td>PubMedBERT</td>\n",
       "      <td>0.099905</td>\n",
       "      <td>0.275214</td>\n",
       "      <td>0.383325</td>\n",
       "    </tr>\n",
       "    <tr>\n",
       "      <th>8</th>\n",
       "      <td>RoBERTa</td>\n",
       "      <td>0.093958</td>\n",
       "      <td>0.263559</td>\n",
       "      <td>0.374049</td>\n",
       "    </tr>\n",
       "    <tr>\n",
       "      <th>9</th>\n",
       "      <td>BERT (baseline)</td>\n",
       "      <td>0.087060</td>\n",
       "      <td>0.240604</td>\n",
       "      <td>0.342293</td>\n",
       "    </tr>\n",
       "    <tr>\n",
       "      <th>10</th>\n",
       "      <td>Doc2Vec</td>\n",
       "      <td>0.072431</td>\n",
       "      <td>0.205281</td>\n",
       "      <td>0.293530</td>\n",
       "    </tr>\n",
       "    <tr>\n",
       "      <th>11</th>\n",
       "      <td>BERT Ablation: chart events &amp; discharge notes</td>\n",
       "      <td>0.064106</td>\n",
       "      <td>0.191603</td>\n",
       "      <td>0.289248</td>\n",
       "    </tr>\n",
       "    <tr>\n",
       "      <th>12</th>\n",
       "      <td>BERT Ablation: no chart events, non-discharge ...</td>\n",
       "      <td>0.022479</td>\n",
       "      <td>0.081232</td>\n",
       "      <td>0.128925</td>\n",
       "    </tr>\n",
       "    <tr>\n",
       "      <th>13</th>\n",
       "      <td>BioELECTRA</td>\n",
       "      <td>0.014034</td>\n",
       "      <td>0.054710</td>\n",
       "      <td>0.096694</td>\n",
       "    </tr>\n",
       "    <tr>\n",
       "      <th>14</th>\n",
       "      <td>LSTMCNN+Transformer</td>\n",
       "      <td>0.000339</td>\n",
       "      <td>0.001808</td>\n",
       "      <td>0.003278</td>\n",
       "    </tr>\n",
       "  </tbody>\n",
       "</table>\n",
       "</div>"
      ],
      "text/plain": [
       "                                                model       R@1       R@5  \\\n",
       "0                                            Sent2Vec  0.252854  0.531637   \n",
       "1   Sent2Vec Ablation: chart events & discharge notes  0.187797  0.428520   \n",
       "2                                               GPT-2  0.163297  0.392245   \n",
       "3                                 SentenceTransformer  0.131779  0.328616   \n",
       "4                                             CliBERT  0.122146  0.315176   \n",
       "5   Sent2Vec Ablation: no chart events, non-discha...  0.154971  0.333492   \n",
       "6                                             BioBERT  0.105614  0.295195   \n",
       "7                                          PubMedBERT  0.099905  0.275214   \n",
       "8                                             RoBERTa  0.093958  0.263559   \n",
       "9                                     BERT (baseline)  0.087060  0.240604   \n",
       "10                                            Doc2Vec  0.072431  0.205281   \n",
       "11      BERT Ablation: chart events & discharge notes  0.064106  0.191603   \n",
       "12  BERT Ablation: no chart events, non-discharge ...  0.022479  0.081232   \n",
       "13                                         BioELECTRA  0.014034  0.054710   \n",
       "14                                LSTMCNN+Transformer  0.000339  0.001808   \n",
       "\n",
       "        R@10  \n",
       "0   0.661394  \n",
       "1   0.550071  \n",
       "2   0.516413  \n",
       "3   0.441960  \n",
       "4   0.438749  \n",
       "5   0.416984  \n",
       "6   0.409729  \n",
       "7   0.383325  \n",
       "8   0.374049  \n",
       "9   0.342293  \n",
       "10  0.293530  \n",
       "11  0.289248  \n",
       "12  0.128925  \n",
       "13  0.096694  \n",
       "14  0.003278  "
      ]
     },
     "execution_count": 82,
     "metadata": {},
     "output_type": "execute_result"
    }
   ],
   "source": [
    "# wandb_export_2022-03-21T11_58_34.256+01_00.csv\n",
    "df = pd.read_csv('wandb_export_2022-05-17T18_28_47.568+02_00.csv',\n",
    "                 usecols=['Name', 'val/text_to_image_R@1', 'val/text_to_image_R@5', 'val/text_to_image_R@10',\n",
    "                         'val/image_to_text_R@1', 'val/image_to_text_R@5', 'val/image_to_text_R@10'])\n",
    "\n",
    "df['R@10'] = (df['val/image_to_text_R@10'] + df['val/text_to_image_R@10'])/2\n",
    "df['R@5'] = (df['val/image_to_text_R@5'] + df['val/text_to_image_R@5'])/2\n",
    "df['R@1'] = (df['val/image_to_text_R@1'] + df['val/text_to_image_R@1'])/2\n",
    "\n",
    "df = df[['Name', 'R@1', 'R@5', 'R@10']]\n",
    "df.columns = ['model', 'R@1', 'R@5', 'R@10']\n",
    "\n",
    "# remove atributes\n",
    "#df['model'] = df['model'].str.split(pat='_', n=1, expand=False).str[0]\n",
    "#df['model'] = df['model'].str.split(pat=' ', n=1, expand=False).str[0]\n",
    "\n",
    "df"
   ]
  },
  {
   "cell_type": "code",
   "execution_count": 83,
   "id": "f437f223-8f6d-402a-b87e-20b98afd3a55",
   "metadata": {
    "execution": {
     "iopub.execute_input": "2022-05-17T17:26:08.615890Z",
     "iopub.status.busy": "2022-05-17T17:26:08.615575Z",
     "iopub.status.idle": "2022-05-17T17:26:08.633874Z",
     "shell.execute_reply": "2022-05-17T17:26:08.633245Z",
     "shell.execute_reply.started": "2022-05-17T17:26:08.615853Z"
    },
    "tags": []
   },
   "outputs": [
    {
     "name": "stdout",
     "output_type": "stream",
     "text": [
      "\\begin{tabular}{llrrr}\n",
      "\\toprule\n",
      "{} &                                              model &       R@1 &       R@5 &      R@10 \\\\\n",
      "\\midrule\n",
      "0  &                                           Sent2Vec &  0.252854 &  0.531637 &  0.661394 \\\\\n",
      "1  &  Sent2Vec Ablation: chart events \\& discharge notes &  0.187797 &  0.428520 &  0.550071 \\\\\n",
      "2  &                                              GPT-2 &  0.163297 &  0.392245 &  0.516413 \\\\\n",
      "3  &                                SentenceTransformer &  0.131779 &  0.328616 &  0.441960 \\\\\n",
      "4  &                                            CliBERT &  0.122146 &  0.315176 &  0.438749 \\\\\n",
      "5  &  Sent2Vec Ablation: no chart events, non-discha... &  0.154971 &  0.333492 &  0.416984 \\\\\n",
      "6  &                                            BioBERT &  0.105614 &  0.295195 &  0.409729 \\\\\n",
      "7  &                                         PubMedBERT &  0.099905 &  0.275214 &  0.383325 \\\\\n",
      "8  &                                            RoBERTa &  0.093958 &  0.263559 &  0.374049 \\\\\n",
      "9  &                                    BERT (baseline) &  0.087060 &  0.240604 &  0.342293 \\\\\n",
      "10 &                                            Doc2Vec &  0.072431 &  0.205281 &  0.293530 \\\\\n",
      "11 &      BERT Ablation: chart events \\& discharge notes &  0.064106 &  0.191603 &  0.289248 \\\\\n",
      "12 &  BERT Ablation: no chart events, non-discharge ... &  0.022479 &  0.081232 &  0.128925 \\\\\n",
      "13 &                                         BioELECTRA &  0.014034 &  0.054710 &  0.096694 \\\\\n",
      "14 &                                LSTMCNN+Transformer &  0.000339 &  0.001808 &  0.003278 \\\\\n",
      "\\bottomrule\n",
      "\\end{tabular}\n",
      "\n"
     ]
    }
   ],
   "source": [
    "print(df.sort_values(by='R@10', ascending=False).to_latex())"
   ]
  },
  {
   "cell_type": "code",
   "execution_count": 84,
   "id": "9a1602ea-9b47-4d11-b025-66b6b12e14b4",
   "metadata": {
    "execution": {
     "iopub.execute_input": "2022-05-17T17:26:09.302160Z",
     "iopub.status.busy": "2022-05-17T17:26:09.301850Z",
     "iopub.status.idle": "2022-05-17T17:26:09.310146Z",
     "shell.execute_reply": "2022-05-17T17:26:09.309566Z",
     "shell.execute_reply.started": "2022-05-17T17:26:09.302125Z"
    },
    "tags": []
   },
   "outputs": [
    {
     "name": "stdout",
     "output_type": "stream",
     "text": [
      "|    | model                                                                |        R@1 |        R@5 |       R@10 |\n",
      "|---:|:---------------------------------------------------------------------|-----------:|-----------:|-----------:|\n",
      "|  0 | Sent2Vec                                                             | 0.252854   | 0.531637   | 0.661394   |\n",
      "|  1 | Sent2Vec Ablation: chart events & discharge notes                    | 0.187797   | 0.42852    | 0.550071   |\n",
      "|  2 | GPT-2                                                                | 0.163297   | 0.392245   | 0.516413   |\n",
      "|  3 | SentenceTransformer                                                  | 0.131779   | 0.328616   | 0.44196    |\n",
      "|  4 | CliBERT                                                              | 0.122146   | 0.315176   | 0.438749   |\n",
      "|  5 | Sent2Vec Ablation: no chart events, non-discharge vs discharge notes | 0.154971   | 0.333492   | 0.416984   |\n",
      "|  6 | BioBERT                                                              | 0.105614   | 0.295195   | 0.409729   |\n",
      "|  7 | PubMedBERT                                                           | 0.0999049  | 0.275214   | 0.383325   |\n",
      "|  8 | RoBERTa                                                              | 0.0939581  | 0.263559   | 0.374049   |\n",
      "|  9 | BERT (baseline)                                                      | 0.0870599  | 0.240604   | 0.342293   |\n",
      "| 10 | Doc2Vec                                                              | 0.072431   | 0.205281   | 0.29353    |\n",
      "| 11 | BERT Ablation: chart events & discharge notes                        | 0.0641056  | 0.191603   | 0.289248   |\n",
      "| 12 | BERT Ablation: no chart events, non-discharge vs discharge notes     | 0.0224786  | 0.0812322  | 0.128925   |\n",
      "| 13 | BioELECTRA                                                           | 0.0140343  | 0.0547098  | 0.0966936  |\n",
      "| 14 | LSTMCNN+Transformer                                                  | 0.00033906 | 0.00180832 | 0.00327758 |\n"
     ]
    }
   ],
   "source": [
    "print(df.sort_values(by='R@10', ascending=False).to_markdown())"
   ]
  },
  {
   "cell_type": "code",
   "execution_count": 85,
   "id": "aaeb3859-18f2-4d30-a193-2508318e3f74",
   "metadata": {
    "execution": {
     "iopub.execute_input": "2022-05-17T17:26:11.215478Z",
     "iopub.status.busy": "2022-05-17T17:26:11.215169Z",
     "iopub.status.idle": "2022-05-17T17:26:11.220635Z",
     "shell.execute_reply": "2022-05-17T17:26:11.219977Z",
     "shell.execute_reply.started": "2022-05-17T17:26:11.215442Z"
    },
    "tags": []
   },
   "outputs": [],
   "source": [
    "# df.drop(df['model'].str.contains('Mel'))\n",
    "\n",
    "df = df[~df['model'].str.contains('Ablation')]"
   ]
  },
  {
   "cell_type": "code",
   "execution_count": 89,
   "id": "83479621-fa96-49a8-8117-e32a33f3c1c3",
   "metadata": {
    "execution": {
     "iopub.execute_input": "2022-05-17T17:27:43.718172Z",
     "iopub.status.busy": "2022-05-17T17:27:43.717957Z",
     "iopub.status.idle": "2022-05-17T17:27:43.829371Z",
     "shell.execute_reply": "2022-05-17T17:27:43.829093Z",
     "shell.execute_reply.started": "2022-05-17T17:27:43.718150Z"
    },
    "tags": []
   },
   "outputs": [
    {
     "data": {
      "image/png": "[encoded data removed]",
      "text/plain": [
       "<Figure size 432x288 with 1 Axes>"
      ]
     },
     "metadata": {
      "needs_background": "light"
     },
     "output_type": "display_data"
    }
   ],
   "source": [
    "latexify()\n",
    "ax = df.plot(kind='box', figsize=(6,4))\n",
    "# ax.get_legend().remove()\n",
    "ax.set_xlabel(\"Top-k results, where $k \\in {1,5,10}.$\")\n",
    "ax.set_ylabel(\"Score (mean of R@10)\")\n",
    "ax.set_title(\"Top-k models compared\")\n",
    "plt.tight_layout()\n",
    "format_axes(ax)\n",
    "plt.savefig(\"topk_compared.pdf\")"
   ]
  },
  {
   "cell_type": "code",
   "execution_count": 90,
   "id": "1b7f5312-638f-4a16-be6e-feb8d084d6ea",
   "metadata": {
    "execution": {
     "iopub.execute_input": "2022-05-17T17:28:22.098952Z",
     "iopub.status.busy": "2022-05-17T17:28:22.098731Z",
     "iopub.status.idle": "2022-05-17T17:28:22.281533Z",
     "shell.execute_reply": "2022-05-17T17:28:22.281292Z",
     "shell.execute_reply.started": "2022-05-17T17:28:22.098929Z"
    },
    "tags": []
   },
   "outputs": [
    {
     "data": {
      "image/png": "[encoded data removed]",
      "text/plain": [
       "<Figure size 432x288 with 1 Axes>"
      ]
     },
     "metadata": {
      "needs_background": "light"
     },
     "output_type": "display_data"
    }
   ],
   "source": [
    "ax = df.plot(kind='bar', figsize=(6,4))\n",
    "plt.xticks(np.arange(len(df.model)), list(df.model), rotation=90);\n",
    "# ax.get_legend().remove()\n",
    "ax.set_xlabel(\"Models\")\n",
    "ax.set_ylabel(\"Score (mean of R@10)\")\n",
    "ax.set_title(\"Model Top-k results compared.\")\n",
    "plt.tight_layout()\n",
    "format_axes(ax)\n",
    "plt.savefig(\"models_topk_compared.pdf\")"
   ]
  },
  {
   "cell_type": "code",
   "execution_count": null,
   "id": "df978b6d-712c-4311-a27b-ff700f610650",
   "metadata": {},
   "outputs": [],
   "source": []
  }
 ],
 "metadata": {
  "kernelspec": {
   "display_name": "Python 3 (ipykernel)",
   "language": "python",
   "name": "python3"
  },
  "language_info": {
   "codemirror_mode": {
    "name": "ipython",
    "version": 3
   },
   "file_extension": ".py",
   "mimetype": "text/x-python",
   "name": "python",
   "nbconvert_exporter": "python",
   "pygments_lexer": "ipython3",
   "version": "3.8.12"
  }
 },
 "nbformat": 4,
 "nbformat_minor": 5
}
